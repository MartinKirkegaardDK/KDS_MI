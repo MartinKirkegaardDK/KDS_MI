{
 "cells": [
  {
   "cell_type": "code",
   "execution_count": 2,
   "metadata": {},
   "outputs": [
    {
     "name": "stdout",
     "output_type": "stream",
     "text": [
      "Load model\n",
      "found device: cpu\n",
      "Load data\n",
      "Extract activations\n"
     ]
    },
    {
     "name": "stderr",
     "output_type": "stream",
     "text": [
      "  2%|▏         | 3/130 [00:54<38:28, 18.18s/it]\n"
     ]
    }
   ],
   "source": [
    "from torch.utils.data import DataLoader\n",
    "\n",
    "\n",
    "from refactor.utils.data import FilePaths, load_antibiotic_data\n",
    "from refactor.utils.hooking import get_activations as get_activations_new\n",
    "from refactor.utils.compatibility import ModelConfig\n",
    "from refactor.probes import model_setup\n",
    "from utils.probe_confidence_intervals import bootstrap\n",
    "\n",
    "\"\"\"This function runs an entire pipeline that bootstraps, trains and creates confidence intervals showing\n",
    "    The probes f1 score on different labels and across layers\n",
    "    \n",
    "    We bootstrap 10 times\n",
    "    Results are saved in this folder: results/data/probe_confidence_intervals/*model_name*_reg_lambda_*reg_lambda*\n",
    "\n",
    "Args:\n",
    "    model_name (_type_): _description_\n",
    "    reg_lambdas (_type_): _description_\n",
    "\"\"\"\n",
    "\n",
    "model_name = \"downloaded_models/gpt_gptsw3_en_is_da_356m_gbs1024\"\n",
    "\n",
    "\n",
    "# loads model\n",
    "print(\"Load model\")\n",
    "model, tokenizer, device = model_setup(model_name)\n",
    "\n",
    "\n",
    "# loads data\n",
    "print(\"Load data\")\n",
    "ds = load_antibiotic_data(\n",
    "    file_paths=FilePaths.antibiotic,\n",
    "    file_extension='txt'\n",
    ")\n",
    "loader = DataLoader(ds, batch_size=32, shuffle=True)\n",
    "\n",
    "\n",
    "\n",
    "# sets training parameters\n",
    "meta_data = {}\n",
    "meta_data[\"hidden_size\"] = ModelConfig.hidden_size(model)\n",
    "meta_data[\"hidden_layers\"] = ModelConfig.hidden_layers(model)\n",
    "meta_data[\"model_name\"] = model_name.split(\"/\")[0]\n",
    "meta_data[\"learning_rate\"] = 0.001\n",
    "meta_data[\"reg_lambda\"] = 10\n",
    "meta_data[\"amount_epochs\"] = 1\n",
    "\n",
    "\n",
    "# extracts activation from forward passes on data\n",
    "# We use hooks to extract the different layer activations that will be used to train our probes\n",
    "\n",
    "print(\"Extract activations\")\n",
    "activations = get_activations_new(\n",
    "    loader=loader, \n",
    "    model=model,\n",
    "    tokenizer=tokenizer,\n",
    "    hook_addresses=None,\n",
    "    layers=None,\n",
    "    max_batches=2,\n",
    "    sampling_prob=0.1\n",
    ")"
   ]
  },
  {
   "cell_type": "code",
   "execution_count": 6,
   "metadata": {},
   "outputs": [],
   "source": [
    "positions = []\n",
    "for index, (key, val) in enumerate(activations.items()):\n",
    "    if index == 6: break\n",
    "    positions.append(key.replace(\"layer.0.\",\"\"))"
   ]
  },
  {
   "cell_type": "code",
   "execution_count": 7,
   "metadata": {},
   "outputs": [],
   "source": [
    "d = {}\n",
    "for pos in positions:\n",
    "    acts_ds_by_layer = {}\n",
    "    for layer in range(meta_data[\"hidden_layers\"]):\n",
    "        pos_key = f\"layer.{layer}.{pos}\"\n",
    "        acts_ds_by_layer[layer] = activations[pos_key]\n",
    "    d[pos] = acts_ds_by_layer\n",
    "\n"
   ]
  },
  {
   "cell_type": "code",
   "execution_count": 8,
   "metadata": {},
   "outputs": [
    {
     "data": {
      "text/plain": [
       "{0: <refactor.utils.data.ActivationDataset at 0x177cb0590>,\n",
       " 1: <refactor.utils.data.ActivationDataset at 0x177cb0140>,\n",
       " 2: <refactor.utils.data.ActivationDataset at 0x177cb03e0>,\n",
       " 3: <refactor.utils.data.ActivationDataset at 0x177cb1220>,\n",
       " 4: <refactor.utils.data.ActivationDataset at 0x1754f7860>,\n",
       " 5: <refactor.utils.data.ActivationDataset at 0x17504a150>,\n",
       " 6: <refactor.utils.data.ActivationDataset at 0x177cc0bf0>,\n",
       " 7: <refactor.utils.data.ActivationDataset at 0x177cc2780>,\n",
       " 8: <refactor.utils.data.ActivationDataset at 0x177cc3cb0>,\n",
       " 9: <refactor.utils.data.ActivationDataset at 0x177c7c470>,\n",
       " 10: <refactor.utils.data.ActivationDataset at 0x177c7f020>,\n",
       " 11: <refactor.utils.data.ActivationDataset at 0x177c7e4b0>,\n",
       " 12: <refactor.utils.data.ActivationDataset at 0x177c7a5a0>,\n",
       " 13: <refactor.utils.data.ActivationDataset at 0x177c78650>,\n",
       " 14: <refactor.utils.data.ActivationDataset at 0x177c7bb90>,\n",
       " 15: <refactor.utils.data.ActivationDataset at 0x177c7bda0>,\n",
       " 16: <refactor.utils.data.ActivationDataset at 0x177c7a870>,\n",
       " 17: <refactor.utils.data.ActivationDataset at 0x177c7a8d0>,\n",
       " 18: <refactor.utils.data.ActivationDataset at 0x177c7ad50>,\n",
       " 19: <refactor.utils.data.ActivationDataset at 0x177c7aff0>,\n",
       " 20: <refactor.utils.data.ActivationDataset at 0x1777d40b0>,\n",
       " 21: <refactor.utils.data.ActivationDataset at 0x1777d42f0>,\n",
       " 22: <refactor.utils.data.ActivationDataset at 0x1777d4530>,\n",
       " 23: <refactor.utils.data.ActivationDataset at 0x1777d4770>}"
      ]
     },
     "execution_count": 8,
     "metadata": {},
     "output_type": "execute_result"
    }
   ],
   "source": [
    "acts_ds_by_layer"
   ]
  },
  {
   "cell_type": "code",
   "execution_count": null,
   "metadata": {},
   "outputs": [
    {
     "name": "stdout",
     "output_type": "stream",
     "text": [
      "Extract activations\n"
     ]
    },
    {
     "name": "stderr",
     "output_type": "stream",
     "text": [
      "  5%|▍         | 6/130 [00:01<00:37,  3.33it/s]\n"
     ]
    }
   ],
   "source": [
    "# extracts activation from forward passes on data\n",
    "# We use hooks to extract the different layer activations that will be used to train our probes\n",
    "from utils.probe_confidence_intervals import get_activations\n",
    "\n",
    "print(\"Extract activations\")\n",
    "#activation_ds_by_layer = get_activations(meta_data,loader, tokenizer, device, model)\n",
    "\n"
   ]
  },
  {
   "cell_type": "code",
   "execution_count": 11,
   "metadata": {},
   "outputs": [
    {
     "data": {
      "text/plain": [
       "{'layernorm_1:pre': {0: <refactor.utils.data.ActivationDataset at 0x175405ee0>,\n",
       "  1: <refactor.utils.data.ActivationDataset at 0x177cb1820>,\n",
       "  2: <refactor.utils.data.ActivationDataset at 0x177cb07d0>,\n",
       "  3: <refactor.utils.data.ActivationDataset at 0x177cb0350>,\n",
       "  4: <refactor.utils.data.ActivationDataset at 0x177cb3bf0>,\n",
       "  5: <refactor.utils.data.ActivationDataset at 0x177662cc0>,\n",
       "  6: <refactor.utils.data.ActivationDataset at 0x177cc1400>,\n",
       "  7: <refactor.utils.data.ActivationDataset at 0x177cc0d10>,\n",
       "  8: <refactor.utils.data.ActivationDataset at 0x177cc01a0>,\n",
       "  9: <refactor.utils.data.ActivationDataset at 0x177cc1d60>,\n",
       "  10: <refactor.utils.data.ActivationDataset at 0x177c7c9b0>,\n",
       "  11: <refactor.utils.data.ActivationDataset at 0x177c7fb30>,\n",
       "  12: <refactor.utils.data.ActivationDataset at 0x177c7d1c0>,\n",
       "  13: <refactor.utils.data.ActivationDataset at 0x177c79eb0>,\n",
       "  14: <refactor.utils.data.ActivationDataset at 0x177c78350>,\n",
       "  15: <refactor.utils.data.ActivationDataset at 0x177c79c10>,\n",
       "  16: <refactor.utils.data.ActivationDataset at 0x177c7bdd0>,\n",
       "  17: <refactor.utils.data.ActivationDataset at 0x177c7bc20>,\n",
       "  18: <refactor.utils.data.ActivationDataset at 0x177c7a990>,\n",
       "  19: <refactor.utils.data.ActivationDataset at 0x177c7adb0>,\n",
       "  20: <refactor.utils.data.ActivationDataset at 0x177c7b0b0>,\n",
       "  21: <refactor.utils.data.ActivationDataset at 0x1777d4110>,\n",
       "  22: <refactor.utils.data.ActivationDataset at 0x1777d4350>,\n",
       "  23: <refactor.utils.data.ActivationDataset at 0x1777d4590>},\n",
       " 'attention:pre': {0: <refactor.utils.data.ActivationDataset at 0x17517a480>,\n",
       "  1: <refactor.utils.data.ActivationDataset at 0x177cb1520>,\n",
       "  2: <refactor.utils.data.ActivationDataset at 0x177cb0770>,\n",
       "  3: <refactor.utils.data.ActivationDataset at 0x177cb1430>,\n",
       "  4: <refactor.utils.data.ActivationDataset at 0x177cb1760>,\n",
       "  5: <refactor.utils.data.ActivationDataset at 0x177663ef0>,\n",
       "  6: <refactor.utils.data.ActivationDataset at 0x177cc0290>,\n",
       "  7: <refactor.utils.data.ActivationDataset at 0x177cc1e80>,\n",
       "  8: <refactor.utils.data.ActivationDataset at 0x177cc0aa0>,\n",
       "  9: <refactor.utils.data.ActivationDataset at 0x177cc3fe0>,\n",
       "  10: <refactor.utils.data.ActivationDataset at 0x177c7d6d0>,\n",
       "  11: <refactor.utils.data.ActivationDataset at 0x177c7ea80>,\n",
       "  12: <refactor.utils.data.ActivationDataset at 0x177c7cce0>,\n",
       "  13: <refactor.utils.data.ActivationDataset at 0x177c78d10>,\n",
       "  14: <refactor.utils.data.ActivationDataset at 0x177c7baa0>,\n",
       "  15: <refactor.utils.data.ActivationDataset at 0x177c781d0>,\n",
       "  16: <refactor.utils.data.ActivationDataset at 0x177c7bd70>,\n",
       "  17: <refactor.utils.data.ActivationDataset at 0x177c7a6f0>,\n",
       "  18: <refactor.utils.data.ActivationDataset at 0x177c7aa50>,\n",
       "  19: <refactor.utils.data.ActivationDataset at 0x177c7ae10>,\n",
       "  20: <refactor.utils.data.ActivationDataset at 0x177c7b110>,\n",
       "  21: <refactor.utils.data.ActivationDataset at 0x1777d4170>,\n",
       "  22: <refactor.utils.data.ActivationDataset at 0x1777d43b0>,\n",
       "  23: <refactor.utils.data.ActivationDataset at 0x1777d45f0>},\n",
       " 'attention:post': {0: <refactor.utils.data.ActivationDataset at 0x17517bb60>,\n",
       "  1: <refactor.utils.data.ActivationDataset at 0x177cb1550>,\n",
       "  2: <refactor.utils.data.ActivationDataset at 0x177cb0170>,\n",
       "  3: <refactor.utils.data.ActivationDataset at 0x177cb32f0>,\n",
       "  4: <refactor.utils.data.ActivationDataset at 0x177cb3cb0>,\n",
       "  5: <refactor.utils.data.ActivationDataset at 0x175634fe0>,\n",
       "  6: <refactor.utils.data.ActivationDataset at 0x177cc1c10>,\n",
       "  7: <refactor.utils.data.ActivationDataset at 0x177cc0f20>,\n",
       "  8: <refactor.utils.data.ActivationDataset at 0x177cc14f0>,\n",
       "  9: <refactor.utils.data.ActivationDataset at 0x177cc3f50>,\n",
       "  10: <refactor.utils.data.ActivationDataset at 0x177c7c620>,\n",
       "  11: <refactor.utils.data.ActivationDataset at 0x177c7fc20>,\n",
       "  12: <refactor.utils.data.ActivationDataset at 0x177c7cd10>,\n",
       "  13: <refactor.utils.data.ActivationDataset at 0x177c78fb0>,\n",
       "  14: <refactor.utils.data.ActivationDataset at 0x177c78110>,\n",
       "  15: <refactor.utils.data.ActivationDataset at 0x177c79220>,\n",
       "  16: <refactor.utils.data.ActivationDataset at 0x177c7bc50>,\n",
       "  17: <refactor.utils.data.ActivationDataset at 0x177c78ad0>,\n",
       "  18: <refactor.utils.data.ActivationDataset at 0x177c7ab10>,\n",
       "  19: <refactor.utils.data.ActivationDataset at 0x177c7ae70>,\n",
       "  20: <refactor.utils.data.ActivationDataset at 0x177c7bf50>,\n",
       "  21: <refactor.utils.data.ActivationDataset at 0x1777d41d0>,\n",
       "  22: <refactor.utils.data.ActivationDataset at 0x1777d4410>,\n",
       "  23: <refactor.utils.data.ActivationDataset at 0x1777d4650>},\n",
       " 'layernorm_2:pre': {0: <refactor.utils.data.ActivationDataset at 0x16c624740>,\n",
       "  1: <refactor.utils.data.ActivationDataset at 0x177cb22a0>,\n",
       "  2: <refactor.utils.data.ActivationDataset at 0x177cb0650>,\n",
       "  3: <refactor.utils.data.ActivationDataset at 0x177cb14c0>,\n",
       "  4: <refactor.utils.data.ActivationDataset at 0x177cb3fe0>,\n",
       "  5: <refactor.utils.data.ActivationDataset at 0x1756341a0>,\n",
       "  6: <refactor.utils.data.ActivationDataset at 0x177cc3fb0>,\n",
       "  7: <refactor.utils.data.ActivationDataset at 0x177cc1040>,\n",
       "  8: <refactor.utils.data.ActivationDataset at 0x177cc30e0>,\n",
       "  9: <refactor.utils.data.ActivationDataset at 0x177cc0bc0>,\n",
       "  10: <refactor.utils.data.ActivationDataset at 0x177c7dc70>,\n",
       "  11: <refactor.utils.data.ActivationDataset at 0x177c7f3b0>,\n",
       "  12: <refactor.utils.data.ActivationDataset at 0x177c7f410>,\n",
       "  13: <refactor.utils.data.ActivationDataset at 0x177c78260>,\n",
       "  14: <refactor.utils.data.ActivationDataset at 0x177c785f0>,\n",
       "  15: <refactor.utils.data.ActivationDataset at 0x177c7b590>,\n",
       "  16: <refactor.utils.data.ActivationDataset at 0x177c7bd10>,\n",
       "  17: <refactor.utils.data.ActivationDataset at 0x177c7a750>,\n",
       "  18: <refactor.utils.data.ActivationDataset at 0x177c7abd0>,\n",
       "  19: <refactor.utils.data.ActivationDataset at 0x177c7af30>,\n",
       "  20: <refactor.utils.data.ActivationDataset at 0x177c7bfb0>,\n",
       "  21: <refactor.utils.data.ActivationDataset at 0x1777d4230>,\n",
       "  22: <refactor.utils.data.ActivationDataset at 0x1777d4470>,\n",
       "  23: <refactor.utils.data.ActivationDataset at 0x1777d46b0>},\n",
       " 'mlp:pre': {0: <refactor.utils.data.ActivationDataset at 0x1750b51c0>,\n",
       "  1: <refactor.utils.data.ActivationDataset at 0x177cb1a30>,\n",
       "  2: <refactor.utils.data.ActivationDataset at 0x177cb08f0>,\n",
       "  3: <refactor.utils.data.ActivationDataset at 0x177cb3170>,\n",
       "  4: <refactor.utils.data.ActivationDataset at 0x177cb1d60>,\n",
       "  5: <refactor.utils.data.ActivationDataset at 0x174dfbfb0>,\n",
       "  6: <refactor.utils.data.ActivationDataset at 0x177cc3a10>,\n",
       "  7: <refactor.utils.data.ActivationDataset at 0x177cc3710>,\n",
       "  8: <refactor.utils.data.ActivationDataset at 0x177cc3d70>,\n",
       "  9: <refactor.utils.data.ActivationDataset at 0x177c7d520>,\n",
       "  10: <refactor.utils.data.ActivationDataset at 0x177c7db50>,\n",
       "  11: <refactor.utils.data.ActivationDataset at 0x177c7e690>,\n",
       "  12: <refactor.utils.data.ActivationDataset at 0x177c7d0a0>,\n",
       "  13: <refactor.utils.data.ActivationDataset at 0x177c78410>,\n",
       "  14: <refactor.utils.data.ActivationDataset at 0x177c79d00>,\n",
       "  15: <refactor.utils.data.ActivationDataset at 0x177c78ef0>,\n",
       "  16: <refactor.utils.data.ActivationDataset at 0x177c7b7a0>,\n",
       "  17: <refactor.utils.data.ActivationDataset at 0x177c7a4e0>,\n",
       "  18: <refactor.utils.data.ActivationDataset at 0x177c7ac90>,\n",
       "  19: <refactor.utils.data.ActivationDataset at 0x177c7af90>,\n",
       "  20: <refactor.utils.data.ActivationDataset at 0x1777d4050>,\n",
       "  21: <refactor.utils.data.ActivationDataset at 0x1777d4290>,\n",
       "  22: <refactor.utils.data.ActivationDataset at 0x1777d44d0>,\n",
       "  23: <refactor.utils.data.ActivationDataset at 0x1777d4710>},\n",
       " 'mlp:post': {0: <refactor.utils.data.ActivationDataset at 0x177cb0590>,\n",
       "  1: <refactor.utils.data.ActivationDataset at 0x177cb0140>,\n",
       "  2: <refactor.utils.data.ActivationDataset at 0x177cb03e0>,\n",
       "  3: <refactor.utils.data.ActivationDataset at 0x177cb1220>,\n",
       "  4: <refactor.utils.data.ActivationDataset at 0x1754f7860>,\n",
       "  5: <refactor.utils.data.ActivationDataset at 0x17504a150>,\n",
       "  6: <refactor.utils.data.ActivationDataset at 0x177cc0bf0>,\n",
       "  7: <refactor.utils.data.ActivationDataset at 0x177cc2780>,\n",
       "  8: <refactor.utils.data.ActivationDataset at 0x177cc3cb0>,\n",
       "  9: <refactor.utils.data.ActivationDataset at 0x177c7c470>,\n",
       "  10: <refactor.utils.data.ActivationDataset at 0x177c7f020>,\n",
       "  11: <refactor.utils.data.ActivationDataset at 0x177c7e4b0>,\n",
       "  12: <refactor.utils.data.ActivationDataset at 0x177c7a5a0>,\n",
       "  13: <refactor.utils.data.ActivationDataset at 0x177c78650>,\n",
       "  14: <refactor.utils.data.ActivationDataset at 0x177c7bb90>,\n",
       "  15: <refactor.utils.data.ActivationDataset at 0x177c7bda0>,\n",
       "  16: <refactor.utils.data.ActivationDataset at 0x177c7a870>,\n",
       "  17: <refactor.utils.data.ActivationDataset at 0x177c7a8d0>,\n",
       "  18: <refactor.utils.data.ActivationDataset at 0x177c7ad50>,\n",
       "  19: <refactor.utils.data.ActivationDataset at 0x177c7aff0>,\n",
       "  20: <refactor.utils.data.ActivationDataset at 0x1777d40b0>,\n",
       "  21: <refactor.utils.data.ActivationDataset at 0x1777d42f0>,\n",
       "  22: <refactor.utils.data.ActivationDataset at 0x1777d4530>,\n",
       "  23: <refactor.utils.data.ActivationDataset at 0x1777d4770>}}"
      ]
     },
     "execution_count": 11,
     "metadata": {},
     "output_type": "execute_result"
    }
   ],
   "source": [
    "d"
   ]
  },
  {
   "cell_type": "code",
   "execution_count": 50,
   "metadata": {},
   "outputs": [],
   "source": [
    "import numpy as np"
   ]
  },
  {
   "cell_type": "code",
   "execution_count": null,
   "metadata": {},
   "outputs": [],
   "source": []
  },
  {
   "cell_type": "code",
   "execution_count": 51,
   "metadata": {},
   "outputs": [],
   "source": [
    "s = set()\n",
    "for i in range(meta_data[\"hidden_layers\"]):\n",
    "    unique_labels = set(np.array(acts_ds_by_layer[i].labels))\n",
    "    [s.add(x) for x in unique_labels]\n",
    "number_labels = len(s)\n",
    "meta_data[\"number_labels\"] = number_labels"
   ]
  },
  {
   "cell_type": "code",
   "execution_count": 52,
   "metadata": {},
   "outputs": [],
   "source": [
    "boot = bootstrap(10, meta_data, acts_ds_by_layer, device)"
   ]
  },
  {
   "cell_type": "code",
   "execution_count": null,
   "metadata": {},
   "outputs": [],
   "source": []
  }
 ],
 "metadata": {
  "kernelspec": {
   "display_name": "Python 3",
   "language": "python",
   "name": "python3"
  },
  "language_info": {
   "codemirror_mode": {
    "name": "ipython",
    "version": 3
   },
   "file_extension": ".py",
   "mimetype": "text/x-python",
   "name": "python",
   "nbconvert_exporter": "python",
   "pygments_lexer": "ipython3",
   "version": "3.12.3"
  }
 },
 "nbformat": 4,
 "nbformat_minor": 2
}
