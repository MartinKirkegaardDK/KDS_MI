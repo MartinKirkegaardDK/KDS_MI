{
 "cells": [
  {
   "cell_type": "code",
   "execution_count": 1,
   "metadata": {},
   "outputs": [],
   "source": [
    "\n",
    "from torch.utils.data import DataLoader\n",
    "from pathlib import Path\n",
    "from matplotlib import pyplot as plt\n",
    "from math import sqrt\n",
    "\n",
    "from utils.probe_confidence_intervals import model_setup, get_activations\n",
    "from utils.plotting import plot_activations_PCA\n",
    "from utils.preprocessing import load_txt_data"
   ]
  },
  {
   "cell_type": "code",
   "execution_count": null,
   "metadata": {},
   "outputs": [],
   "source": [
    "model_name = \"AI-Sweden-Models/gpt-sw3-356m\"\n",
    "saved_path = \"results/PCA_activations/\"\n",
    "# loads model\n",
    "model, tokenizer, device = model_setup(model_name)\n",
    "hidden_layers = model.config.num_hidden_layers\n",
    "\n",
    "\n",
    "# loads data\n",
    "languages = ['en', 'da', 'sv', 'nb', 'is']\n",
    "raw_data_folder = Path('data/antibiotic/')\n",
    "print(\"Load data\")\n",
    "ds = load_txt_data(\n",
    "    file_paths={\n",
    "        'da': raw_data_folder / 'da.txt',\n",
    "        'en': raw_data_folder / 'en.txt',\n",
    "        'sv': raw_data_folder / 'sv.txt',\n",
    "        'nb': raw_data_folder / 'nb.txt',\n",
    "        'is': raw_data_folder / 'is.txt'\n",
    "    },\n",
    "    file_extension='txt'\n",
    ")\n",
    "loader = DataLoader(ds, batch_size=32, shuffle=True)\n",
    "\n",
    "\n",
    "# extracts activation from forward passes on data    \n",
    "act_ds = get_activations(\n",
    "    meta_data={'hidden_layers': model.config.num_hidden_layers,\n",
    "                'hidden_size': model.config.hidden_size},\n",
    "    loader=loader,\n",
    "    tokenizer=tokenizer,\n",
    "    model=model,\n",
    "    device=device\n",
    ")\n"
   ]
  }
 ],
 "metadata": {
  "kernelspec": {
   "display_name": "Python 3",
   "language": "python",
   "name": "python3"
  },
  "language_info": {
   "codemirror_mode": {
    "name": "ipython",
    "version": 3
   },
   "file_extension": ".py",
   "mimetype": "text/x-python",
   "name": "python",
   "nbconvert_exporter": "python",
   "pygments_lexer": "ipython3",
   "version": "3.12.3"
  }
 },
 "nbformat": 4,
 "nbformat_minor": 2
}
