{
 "cells": [
  {
   "cell_type": "code",
   "execution_count": 1,
   "metadata": {},
   "outputs": [],
   "source": [
    "import torch\n",
    "from refactor.probes import model_setup"
   ]
  },
  {
   "cell_type": "code",
   "execution_count": 2,
   "metadata": {},
   "outputs": [
    {
     "name": "stdout",
     "output_type": "stream",
     "text": [
      "found device: cpu\n"
     ]
    },
    {
     "name": "stderr",
     "output_type": "stream",
     "text": [
      "/var/folders/p0/267bnxr16cq2xpr1crtpxbgw0000gn/T/ipykernel_4552/1524319005.py:10: FutureWarning: You are using `torch.load` with `weights_only=False` (the current default value), which uses the default pickle module implicitly. It is possible to construct malicious pickle data which will execute arbitrary code during unpickling (See https://github.com/pytorch/pytorch/blob/main/SECURITY.md#untrusted-models for more details). In a future release, the default value for `weights_only` will be flipped to `True`. This limits the functions that could be executed during unpickling. Arbitrary objects will no longer be allowed to be loaded via this mode unless they are explicitly allowlisted by the user via `torch.serialization.add_safe_globals`. We recommend you start setting `weights_only=True` for any use case where you don't have full control of the loaded file. Please open an issue on GitHub for any issues related to this experimental feature.\n",
      "  steering = torch.load(f\"steering_vectors/{model_name}/combined_steering_vector_layer_15_tensor.pt\",map_location = device)\n"
     ]
    },
    {
     "name": "stdout",
     "output_type": "stream",
     "text": [
      "found device: cpu\n"
     ]
    },
    {
     "name": "stderr",
     "output_type": "stream",
     "text": [
      "/var/folders/p0/267bnxr16cq2xpr1crtpxbgw0000gn/T/ipykernel_4552/1524319005.py:10: FutureWarning: You are using `torch.load` with `weights_only=False` (the current default value), which uses the default pickle module implicitly. It is possible to construct malicious pickle data which will execute arbitrary code during unpickling (See https://github.com/pytorch/pytorch/blob/main/SECURITY.md#untrusted-models for more details). In a future release, the default value for `weights_only` will be flipped to `True`. This limits the functions that could be executed during unpickling. Arbitrary objects will no longer be allowed to be loaded via this mode unless they are explicitly allowlisted by the user via `torch.serialization.add_safe_globals`. We recommend you start setting `weights_only=True` for any use case where you don't have full control of the loaded file. Please open an issue on GitHub for any issues related to this experimental feature.\n",
      "  steering = torch.load(f\"steering_vectors/{model_name}/combined_steering_vector_layer_15_tensor.pt\",map_location = device)\n"
     ]
    },
    {
     "name": "stdout",
     "output_type": "stream",
     "text": [
      "found device: cpu\n"
     ]
    },
    {
     "name": "stderr",
     "output_type": "stream",
     "text": [
      "/var/folders/p0/267bnxr16cq2xpr1crtpxbgw0000gn/T/ipykernel_4552/1524319005.py:10: FutureWarning: You are using `torch.load` with `weights_only=False` (the current default value), which uses the default pickle module implicitly. It is possible to construct malicious pickle data which will execute arbitrary code during unpickling (See https://github.com/pytorch/pytorch/blob/main/SECURITY.md#untrusted-models for more details). In a future release, the default value for `weights_only` will be flipped to `True`. This limits the functions that could be executed during unpickling. Arbitrary objects will no longer be allowed to be loaded via this mode unless they are explicitly allowlisted by the user via `torch.serialization.add_safe_globals`. We recommend you start setting `weights_only=True` for any use case where you don't have full control of the loaded file. Please open an issue on GitHub for any issues related to this experimental feature.\n",
      "  steering = torch.load(f\"steering_vectors/{model_name}/combined_steering_vector_layer_15_tensor.pt\",map_location = device)\n"
     ]
    },
    {
     "name": "stdout",
     "output_type": "stream",
     "text": [
      "found device: cpu\n"
     ]
    },
    {
     "name": "stderr",
     "output_type": "stream",
     "text": [
      "/var/folders/p0/267bnxr16cq2xpr1crtpxbgw0000gn/T/ipykernel_4552/1524319005.py:10: FutureWarning: You are using `torch.load` with `weights_only=False` (the current default value), which uses the default pickle module implicitly. It is possible to construct malicious pickle data which will execute arbitrary code during unpickling (See https://github.com/pytorch/pytorch/blob/main/SECURITY.md#untrusted-models for more details). In a future release, the default value for `weights_only` will be flipped to `True`. This limits the functions that could be executed during unpickling. Arbitrary objects will no longer be allowed to be loaded via this mode unless they are explicitly allowlisted by the user via `torch.serialization.add_safe_globals`. We recommend you start setting `weights_only=True` for any use case where you don't have full control of the loaded file. Please open an issue on GitHub for any issues related to this experimental feature.\n",
      "  steering = torch.load(f\"steering_vectors/{model_name}/combined_steering_vector_layer_15_tensor.pt\",map_location = device)\n"
     ]
    }
   ],
   "source": [
    "model_names = [\"gpt_gptsw3_en_da_356m_gbs1024\",\"gpt_gptsw3_en_da_is_356m_gbs1024\",\"gpt_gptsw3_en_is_da_356m_gbs1024\",\"gpt_sw3_356m\"]\n",
    "lambda_val = 5\n",
    "layer = \"transformer.h.15.ln_1.bias\"\n",
    "for model_name in model_names:\n",
    "    \n",
    "    model_path = \"downloaded_models/\"\n",
    "\n",
    "    model, tokenizer, device = model_setup(f\"{model_path}{model_name}\")\n",
    "    \n",
    "    steering = torch.load(f\"steering_vectors/{model_name}/combined_steering_vector_layer_15_tensor.pt\",map_location = device)\n",
    "    \n",
    "    model.state_dict()[layer] += steering*lambda_val\n",
    "    \n",
    "    model.save_pretrained(f'{model_path}/{model_name}_with_steering_lambda_{lambda_val}')\n",
    "    tokenizer.save_pretrained(f'{model_path}/{model_name}_with_steering_lambda_{lambda_val}')  # Optional but recommended"
   ]
  },
  {
   "cell_type": "code",
   "execution_count": null,
   "metadata": {},
   "outputs": [],
   "source": [
    "from refactor.probes import model_setup\n",
    "import os\n",
    "from scipy.spatial.distance import euclidean, mahalanobis, cosine\n",
    "from sklearn.metrics.pairwise import cosine_similarity\n",
    "import torch\n",
    "from refactor.utils.hooking import HookManager\n",
    "from refactor.utils.compatibility import HookAddress\n",
    "import torch.nn.functional as F\n",
    "import matplotlib.pyplot as plt\n",
    "import matplotlib.patches as patches\n",
    "\n",
    "\n",
    "\n",
    "\n",
    "\n",
    "    \n",
    "       "
   ]
  },
  {
   "cell_type": "code",
   "execution_count": 2,
   "metadata": {},
   "outputs": [
    {
     "name": "stdout",
     "output_type": "stream",
     "text": [
      "Load model\n"
     ]
    }
   ],
   "source": [
    "from refactor.probes import model_setup\n",
    "import os\n",
    "from scipy.spatial.distance import euclidean, mahalanobis, cosine\n",
    "from sklearn.metrics.pairwise import cosine_similarity\n",
    "import torch\n",
    "from refactor.utils.hooking import HookManager\n",
    "from refactor.utils.compatibility import HookAddress\n",
    "import pickle\n",
    "# loads model\n",
    "print(\"Load model\") \n",
    "model_name = \"EleutherAI/pythia-14m\"\n",
    "model_name = \"AI-Sweden-Models/gpt-sw3-356m\"\n",
    "#model, tokenizer, device = model_setup(model_name)\n",
    "model_name_temp = \"gpt_sw3_356m\"\n"
   ]
  },
  {
   "cell_type": "code",
   "execution_count": 3,
   "metadata": {},
   "outputs": [],
   "source": [
    "with open(f'results/data/neuron_contributions/{model_name_temp}.pkl', 'rb') as f:\n",
    "    neuron_contributions = pickle.load(f)"
   ]
  },
  {
   "cell_type": "code",
   "execution_count": null,
   "metadata": {},
   "outputs": [
    {
     "data": {
      "text/plain": [
       "array([ 94.50209 ,  20.787539,  97.373344, ...,  95.90053 , 107.91054 ,\n",
       "       100.78639 ], dtype=float32)"
      ]
     },
     "execution_count": 7,
     "metadata": {},
     "output_type": "execute_result"
    }
   ],
   "source": [
    "from matplotlib import pyplot as plt\n"
   ]
  },
  {
   "cell_type": "code",
   "execution_count": 11,
   "metadata": {},
   "outputs": [
    {
     "data": {
      "text/plain": [
       "(array([  9., 808., 185.,  14.,   5.,   0.,   1.,   1.,   0.,   1.]),\n",
       " array([ 30.21384048,  52.52946472,  74.84508514,  97.1607132 ,\n",
       "        119.47633362, 141.79196167, 164.10757446, 186.42320251,\n",
       "        208.73883057, 231.05444336, 253.37007141]),\n",
       " <BarContainer object of 10 artists>)"
      ]
     },
     "execution_count": 11,
     "metadata": {},
     "output_type": "execute_result"
    },
    {
     "data": {
      "image/png": "[encoded data removed]",
      "text/plain": [
       "<Figure size 640x480 with 1 Axes>"
      ]
     },
     "metadata": {},
     "output_type": "display_data"
    }
   ],
   "source": [
    "plt.hist(neuron_contributions[(3,\"attention-post\")])"
   ]
  },
  {
   "cell_type": "code",
   "execution_count": null,
   "metadata": {},
   "outputs": [],
   "source": []
  }
 ],
 "metadata": {
  "kernelspec": {
   "display_name": "Python 3",
   "language": "python",
   "name": "python3"
  },
  "language_info": {
   "codemirror_mode": {
    "name": "ipython",
    "version": 3
   },
   "file_extension": ".py",
   "mimetype": "text/x-python",
   "name": "python",
   "nbconvert_exporter": "python",
   "pygments_lexer": "ipython3",
   "version": "3.12.3"
  }
 },
 "nbformat": 4,
 "nbformat_minor": 2
}
