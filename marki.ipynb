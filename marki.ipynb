{
 "cells": [
  {
   "cell_type": "code",
   "execution_count": 1,
   "metadata": {},
   "outputs": [],
   "source": [
    "import torch\n",
    "from refactor.probes import model_setup"
   ]
  },
  {
   "cell_type": "code",
   "execution_count": 2,
   "metadata": {},
   "outputs": [
    {
     "name": "stdout",
     "output_type": "stream",
     "text": [
      "found device: cpu\n"
     ]
    },
    {
     "name": "stderr",
     "output_type": "stream",
     "text": [
      "/var/folders/p0/267bnxr16cq2xpr1crtpxbgw0000gn/T/ipykernel_4552/1524319005.py:10: FutureWarning: You are using `torch.load` with `weights_only=False` (the current default value), which uses the default pickle module implicitly. It is possible to construct malicious pickle data which will execute arbitrary code during unpickling (See https://github.com/pytorch/pytorch/blob/main/SECURITY.md#untrusted-models for more details). In a future release, the default value for `weights_only` will be flipped to `True`. This limits the functions that could be executed during unpickling. Arbitrary objects will no longer be allowed to be loaded via this mode unless they are explicitly allowlisted by the user via `torch.serialization.add_safe_globals`. We recommend you start setting `weights_only=True` for any use case where you don't have full control of the loaded file. Please open an issue on GitHub for any issues related to this experimental feature.\n",
      "  steering = torch.load(f\"steering_vectors/{model_name}/combined_steering_vector_layer_15_tensor.pt\",map_location = device)\n"
     ]
    },
    {
     "name": "stdout",
     "output_type": "stream",
     "text": [
      "found device: cpu\n"
     ]
    },
    {
     "name": "stderr",
     "output_type": "stream",
     "text": [
      "/var/folders/p0/267bnxr16cq2xpr1crtpxbgw0000gn/T/ipykernel_4552/1524319005.py:10: FutureWarning: You are using `torch.load` with `weights_only=False` (the current default value), which uses the default pickle module implicitly. It is possible to construct malicious pickle data which will execute arbitrary code during unpickling (See https://github.com/pytorch/pytorch/blob/main/SECURITY.md#untrusted-models for more details). In a future release, the default value for `weights_only` will be flipped to `True`. This limits the functions that could be executed during unpickling. Arbitrary objects will no longer be allowed to be loaded via this mode unless they are explicitly allowlisted by the user via `torch.serialization.add_safe_globals`. We recommend you start setting `weights_only=True` for any use case where you don't have full control of the loaded file. Please open an issue on GitHub for any issues related to this experimental feature.\n",
      "  steering = torch.load(f\"steering_vectors/{model_name}/combined_steering_vector_layer_15_tensor.pt\",map_location = device)\n"
     ]
    },
    {
     "name": "stdout",
     "output_type": "stream",
     "text": [
      "found device: cpu\n"
     ]
    },
    {
     "name": "stderr",
     "output_type": "stream",
     "text": [
      "/var/folders/p0/267bnxr16cq2xpr1crtpxbgw0000gn/T/ipykernel_4552/1524319005.py:10: FutureWarning: You are using `torch.load` with `weights_only=False` (the current default value), which uses the default pickle module implicitly. It is possible to construct malicious pickle data which will execute arbitrary code during unpickling (See https://github.com/pytorch/pytorch/blob/main/SECURITY.md#untrusted-models for more details). In a future release, the default value for `weights_only` will be flipped to `True`. This limits the functions that could be executed during unpickling. Arbitrary objects will no longer be allowed to be loaded via this mode unless they are explicitly allowlisted by the user via `torch.serialization.add_safe_globals`. We recommend you start setting `weights_only=True` for any use case where you don't have full control of the loaded file. Please open an issue on GitHub for any issues related to this experimental feature.\n",
      "  steering = torch.load(f\"steering_vectors/{model_name}/combined_steering_vector_layer_15_tensor.pt\",map_location = device)\n"
     ]
    },
    {
     "name": "stdout",
     "output_type": "stream",
     "text": [
      "found device: cpu\n"
     ]
    },
    {
     "name": "stderr",
     "output_type": "stream",
     "text": [
      "/var/folders/p0/267bnxr16cq2xpr1crtpxbgw0000gn/T/ipykernel_4552/1524319005.py:10: FutureWarning: You are using `torch.load` with `weights_only=False` (the current default value), which uses the default pickle module implicitly. It is possible to construct malicious pickle data which will execute arbitrary code during unpickling (See https://github.com/pytorch/pytorch/blob/main/SECURITY.md#untrusted-models for more details). In a future release, the default value for `weights_only` will be flipped to `True`. This limits the functions that could be executed during unpickling. Arbitrary objects will no longer be allowed to be loaded via this mode unless they are explicitly allowlisted by the user via `torch.serialization.add_safe_globals`. We recommend you start setting `weights_only=True` for any use case where you don't have full control of the loaded file. Please open an issue on GitHub for any issues related to this experimental feature.\n",
      "  steering = torch.load(f\"steering_vectors/{model_name}/combined_steering_vector_layer_15_tensor.pt\",map_location = device)\n"
     ]
    }
   ],
   "source": [
    "model_names = [\"gpt_gptsw3_en_da_356m_gbs1024\",\"gpt_gptsw3_en_da_is_356m_gbs1024\",\"gpt_gptsw3_en_is_da_356m_gbs1024\",\"gpt_sw3_356m\"]\n",
    "lambda_val = 5\n",
    "layer = \"transformer.h.15.ln_1.bias\"\n",
    "for model_name in model_names:\n",
    "    \n",
    "    model_path = \"downloaded_models/\"\n",
    "\n",
    "    model, tokenizer, device = model_setup(f\"{model_path}{model_name}\")\n",
    "    \n",
    "    steering = torch.load(f\"steering_vectors/{model_name}/combined_steering_vector_layer_15_tensor.pt\",map_location = device)\n",
    "    \n",
    "    model.state_dict()[layer] += steering*lambda_val\n",
    "    \n",
    "    model.save_pretrained(f'{model_path}/{model_name}_with_steering_lambda_{lambda_val}')\n",
    "    tokenizer.save_pretrained(f'{model_path}/{model_name}_with_steering_lambda_{lambda_val}')  # Optional but recommended"
   ]
  },
  {
   "cell_type": "code",
   "execution_count": 13,
   "metadata": {},
   "outputs": [],
   "source": [
    "import pandas as pd\n",
    "df = pd.read_csv(\"results/data/steering_data_bible/bible_data_combined.csv\")"
   ]
  },
  {
   "cell_type": "code",
   "execution_count": 14,
   "metadata": {},
   "outputs": [],
   "source": [
    "df = df[df.layer == 15]"
   ]
  },
  {
   "cell_type": "code",
   "execution_count": 24,
   "metadata": {},
   "outputs": [
    {
     "data": {
      "text/plain": [
       "<Axes: >"
      ]
     },
     "execution_count": 24,
     "metadata": {},
     "output_type": "execute_result"
    },
    {
     "data": {
      "image/png": "[encoded data removed]",
      "text/plain": [
       "<Figure size 640x480 with 1 Axes>"
      ]
     },
     "metadata": {},
     "output_type": "display_data"
    }
   ],
   "source": [
    "df.danish_language_prediction_on_english_steered.hist()"
   ]
  },
  {
   "cell_type": "code",
   "execution_count": 30,
   "metadata": {},
   "outputs": [
    {
     "data": {
      "text/html": [
       "<div>\n",
       "<style scoped>\n",
       "    .dataframe tbody tr th:only-of-type {\n",
       "        vertical-align: middle;\n",
       "    }\n",
       "\n",
       "    .dataframe tbody tr th {\n",
       "        vertical-align: top;\n",
       "    }\n",
       "\n",
       "    .dataframe thead th {\n",
       "        text-align: right;\n",
       "    }\n",
       "</style>\n",
       "<table border=\"1\" class=\"dataframe\">\n",
       "  <thead>\n",
       "    <tr style=\"text-align: right;\">\n",
       "      <th></th>\n",
       "      <th>danish_predicted_output</th>\n",
       "      <th>english_predicted_output</th>\n",
       "      <th>danish_true_label</th>\n",
       "      <th>english_true_label</th>\n",
       "      <th>layer</th>\n",
       "      <th>lambda_amount</th>\n",
       "      <th>bible_verse</th>\n",
       "      <th>danish_prompt_score</th>\n",
       "      <th>english_prompt_score</th>\n",
       "      <th>danish_language_prediction_on_english_steered</th>\n",
       "    </tr>\n",
       "  </thead>\n",
       "  <tbody>\n",
       "    <tr>\n",
       "      <th>255</th>\n",
       "      <td>.&lt;|endoftext|&gt;</td>\n",
       "      <td>Men og mænd, alle mænd og alle mænd, som gik ...</td>\n",
       "      <td>Da kom Vandfloden over Jorden i fyrretyve Dage...</td>\n",
       "      <td>The flood was forty days on the earth. The wat...</td>\n",
       "      <td>15</td>\n",
       "      <td>10</td>\n",
       "      <td>175</td>\n",
       "      <td>0.01</td>\n",
       "      <td>0.0</td>\n",
       "      <td>1.00</td>\n",
       "    </tr>\n",
       "    <tr>\n",
       "      <th>327</th>\n",
       "      <td>\\nI disse dage kommer jeg ofte selv for sent e...</td>\n",
       "      <td>For der er i virkeligheden kun én Gud, og ...</td>\n",
       "      <td>Da kom Vandfloden over Jorden i fyrretyve Dage...</td>\n",
       "      <td>The flood was forty days on the earth. The wat...</td>\n",
       "      <td>15</td>\n",
       "      <td>5</td>\n",
       "      <td>175</td>\n",
       "      <td>0.45</td>\n",
       "      <td>0.0</td>\n",
       "      <td>1.00</td>\n",
       "    </tr>\n",
       "    <tr>\n",
       "      <th>375</th>\n",
       "      <td>\\nThe Lamanites were angry, but he and those w...</td>\n",
       "      <td>Hellig Amen.  De 17.08.1998.  Se i Guds hell...</td>\n",
       "      <td>Da kom Vandfloden over Jorden i fyrretyve Dage...</td>\n",
       "      <td>The flood was forty days on the earth. The wat...</td>\n",
       "      <td>15</td>\n",
       "      <td>15</td>\n",
       "      <td>175</td>\n",
       "      <td>0.00</td>\n",
       "      <td>0.0</td>\n",
       "      <td>1.00</td>\n",
       "    </tr>\n",
       "    <tr>\n",
       "      <th>399</th>\n",
       "      <td>.&lt;|endoftext|&gt;</td>\n",
       "      <td>dansk: Hvis du ikke har et brugernavn, ska...</td>\n",
       "      <td>Da sagde Gud til Noa: \"Jeg har besluttet at gø...</td>\n",
       "      <td>God said to Noah, \"The end of all flesh has co...</td>\n",
       "      <td>15</td>\n",
       "      <td>2</td>\n",
       "      <td>149</td>\n",
       "      <td>0.01</td>\n",
       "      <td>0.0</td>\n",
       "      <td>1.00</td>\n",
       "    </tr>\n",
       "    <tr>\n",
       "      <th>447</th>\n",
       "      <td>.&lt;|endoftext|&gt;</td>\n",
       "      <td>12. For at det er det, du er, men ikke det...</td>\n",
       "      <td>Da sagde Gud til Noa: \"Jeg har besluttet at gø...</td>\n",
       "      <td>God said to Noah, \"The end of all flesh has co...</td>\n",
       "      <td>15</td>\n",
       "      <td>10</td>\n",
       "      <td>149</td>\n",
       "      <td>0.01</td>\n",
       "      <td>0.0</td>\n",
       "      <td>1.00</td>\n",
       "    </tr>\n",
       "    <tr>\n",
       "      <th>...</th>\n",
       "      <td>...</td>\n",
       "      <td>...</td>\n",
       "      <td>...</td>\n",
       "      <td>...</td>\n",
       "      <td>...</td>\n",
       "      <td>...</td>\n",
       "      <td>...</td>\n",
       "      <td>...</td>\n",
       "      <td>...</td>\n",
       "      <td>...</td>\n",
       "    </tr>\n",
       "    <tr>\n",
       "      <th>54039</th>\n",
       "      <td>\\nEnglish: \"When the LORD told Noah, 'I have p...</td>\n",
       "      <td>jeg vil ødelægge dem med jorden.    Sådan ska...</td>\n",
       "      <td>Men du skal gøre dig en Ark af Gofertræ og ind...</td>\n",
       "      <td>Make a ship of gopher wood. You shall make roo...</td>\n",
       "      <td>15</td>\n",
       "      <td>15</td>\n",
       "      <td>150</td>\n",
       "      <td>0.00</td>\n",
       "      <td>0.0</td>\n",
       "      <td>1.00</td>\n",
       "    </tr>\n",
       "    <tr>\n",
       "      <th>54087</th>\n",
       "      <td>\\nNow when he passed through the land on both ...</td>\n",
       "      <td>27 Menneskeslægten er fortabt. 28 Menneskeslæ...</td>\n",
       "      <td>Men du skal gøre dig en Ark af Gofertræ og ind...</td>\n",
       "      <td>Make a ship of gopher wood. You shall make roo...</td>\n",
       "      <td>15</td>\n",
       "      <td>5</td>\n",
       "      <td>150</td>\n",
       "      <td>0.00</td>\n",
       "      <td>0.0</td>\n",
       "      <td>1.00</td>\n",
       "    </tr>\n",
       "    <tr>\n",
       "      <th>54135</th>\n",
       "      <td>\\n18:1) Gud fortalte Noa at han hadde bestemt ...</td>\n",
       "      <td>Det er jo helt hen i vejret, at det skal v...</td>\n",
       "      <td>Men du skal gøre dig en Ark af Gofertræ og ind...</td>\n",
       "      <td>Make a ship of gopher wood. You shall make roo...</td>\n",
       "      <td>15</td>\n",
       "      <td>15</td>\n",
       "      <td>150</td>\n",
       "      <td>0.00</td>\n",
       "      <td>0.0</td>\n",
       "      <td>1.00</td>\n",
       "    </tr>\n",
       "    <tr>\n",
       "      <th>54231</th>\n",
       "      <td>\\n19 And the LORD said to Him, I will extermin...</td>\n",
       "      <td>\"I har gjort jorden, til jorden; og jo...</td>\n",
       "      <td>Men Noa fandt Nåde for HERRENs Øjne</td>\n",
       "      <td>But Noah found favor in Yahweh's eyes.</td>\n",
       "      <td>15</td>\n",
       "      <td>15</td>\n",
       "      <td>144</td>\n",
       "      <td>0.00</td>\n",
       "      <td>0.0</td>\n",
       "      <td>0.01</td>\n",
       "    </tr>\n",
       "    <tr>\n",
       "      <th>54303</th>\n",
       "      <td>\"&lt;|endoftext|&gt;</td>\n",
       "      <td>dansk: 54 Herren sagde til mig: \"Jeg vil gør...</td>\n",
       "      <td>Men Noa fandt Nåde for HERRENs Øjne</td>\n",
       "      <td>But Noah found favor in Yahweh's eyes.</td>\n",
       "      <td>15</td>\n",
       "      <td>10</td>\n",
       "      <td>144</td>\n",
       "      <td>0.01</td>\n",
       "      <td>0.0</td>\n",
       "      <td>1.00</td>\n",
       "    </tr>\n",
       "  </tbody>\n",
       "</table>\n",
       "<p>650 rows × 10 columns</p>\n",
       "</div>"
      ],
      "text/plain": [
       "                                 danish_predicted_output  \\\n",
       "255                                       .<|endoftext|>   \n",
       "327    \\nI disse dage kommer jeg ofte selv for sent e...   \n",
       "375    \\nThe Lamanites were angry, but he and those w...   \n",
       "399                                       .<|endoftext|>   \n",
       "447                                       .<|endoftext|>   \n",
       "...                                                  ...   \n",
       "54039  \\nEnglish: \"When the LORD told Noah, 'I have p...   \n",
       "54087  \\nNow when he passed through the land on both ...   \n",
       "54135  \\n18:1) Gud fortalte Noa at han hadde bestemt ...   \n",
       "54231  \\n19 And the LORD said to Him, I will extermin...   \n",
       "54303                                     \"<|endoftext|>   \n",
       "\n",
       "                                english_predicted_output  \\\n",
       "255     Men og mænd, alle mænd og alle mænd, som gik ...   \n",
       "327        For der er i virkeligheden kun én Gud, og ...   \n",
       "375      Hellig Amen.  De 17.08.1998.  Se i Guds hell...   \n",
       "399        dansk: Hvis du ikke har et brugernavn, ska...   \n",
       "447        12. For at det er det, du er, men ikke det...   \n",
       "...                                                  ...   \n",
       "54039   jeg vil ødelægge dem med jorden.    Sådan ska...   \n",
       "54087   27 Menneskeslægten er fortabt. 28 Menneskeslæ...   \n",
       "54135      Det er jo helt hen i vejret, at det skal v...   \n",
       "54231          \"I har gjort jorden, til jorden; og jo...   \n",
       "54303    dansk: 54 Herren sagde til mig: \"Jeg vil gør...   \n",
       "\n",
       "                                       danish_true_label  \\\n",
       "255    Da kom Vandfloden over Jorden i fyrretyve Dage...   \n",
       "327    Da kom Vandfloden over Jorden i fyrretyve Dage...   \n",
       "375    Da kom Vandfloden over Jorden i fyrretyve Dage...   \n",
       "399    Da sagde Gud til Noa: \"Jeg har besluttet at gø...   \n",
       "447    Da sagde Gud til Noa: \"Jeg har besluttet at gø...   \n",
       "...                                                  ...   \n",
       "54039  Men du skal gøre dig en Ark af Gofertræ og ind...   \n",
       "54087  Men du skal gøre dig en Ark af Gofertræ og ind...   \n",
       "54135  Men du skal gøre dig en Ark af Gofertræ og ind...   \n",
       "54231                Men Noa fandt Nåde for HERRENs Øjne   \n",
       "54303                Men Noa fandt Nåde for HERRENs Øjne   \n",
       "\n",
       "                                      english_true_label  layer  \\\n",
       "255    The flood was forty days on the earth. The wat...     15   \n",
       "327    The flood was forty days on the earth. The wat...     15   \n",
       "375    The flood was forty days on the earth. The wat...     15   \n",
       "399    God said to Noah, \"The end of all flesh has co...     15   \n",
       "447    God said to Noah, \"The end of all flesh has co...     15   \n",
       "...                                                  ...    ...   \n",
       "54039  Make a ship of gopher wood. You shall make roo...     15   \n",
       "54087  Make a ship of gopher wood. You shall make roo...     15   \n",
       "54135  Make a ship of gopher wood. You shall make roo...     15   \n",
       "54231             But Noah found favor in Yahweh's eyes.     15   \n",
       "54303             But Noah found favor in Yahweh's eyes.     15   \n",
       "\n",
       "       lambda_amount  bible_verse  danish_prompt_score  english_prompt_score  \\\n",
       "255               10          175                 0.01                   0.0   \n",
       "327                5          175                 0.45                   0.0   \n",
       "375               15          175                 0.00                   0.0   \n",
       "399                2          149                 0.01                   0.0   \n",
       "447               10          149                 0.01                   0.0   \n",
       "...              ...          ...                  ...                   ...   \n",
       "54039             15          150                 0.00                   0.0   \n",
       "54087              5          150                 0.00                   0.0   \n",
       "54135             15          150                 0.00                   0.0   \n",
       "54231             15          144                 0.00                   0.0   \n",
       "54303             10          144                 0.01                   0.0   \n",
       "\n",
       "       danish_language_prediction_on_english_steered  \n",
       "255                                             1.00  \n",
       "327                                             1.00  \n",
       "375                                             1.00  \n",
       "399                                             1.00  \n",
       "447                                             1.00  \n",
       "...                                              ...  \n",
       "54039                                           1.00  \n",
       "54087                                           1.00  \n",
       "54135                                           1.00  \n",
       "54231                                           0.01  \n",
       "54303                                           1.00  \n",
       "\n",
       "[650 rows x 10 columns]"
      ]
     },
     "execution_count": 30,
     "metadata": {},
     "output_type": "execute_result"
    }
   ],
   "source": [
    "df[df.danish_prompt_score < 0.6]"
   ]
  },
  {
   "cell_type": "code",
   "execution_count": 69,
   "metadata": {},
   "outputs": [
    {
     "data": {
      "image/png": "[encoded data removed]",
      "text/plain": [
       "<Figure size 1500x400 with 3 Axes>"
      ]
     },
     "metadata": {},
     "output_type": "display_data"
    }
   ],
   "source": [
    "import matplotlib.pyplot as plt\n",
    "import pandas as pd\n",
    "\n",
    "model_name_temp = \"gpt_sw3_356m\"\n",
    "# Create subplots\n",
    "fig, axs = plt.subplots(1, 3, figsize=(15, 4))\n",
    "\n",
    "# Data and titles\n",
    "columns = [\n",
    "    (\"danish_prompt_score\", \"Danish control\", \"Score\"),\n",
    "    (\"english_prompt_score\", \"Treatment, English prediction scores\", \"Score\"),\n",
    "    (\"danish_language_prediction_on_english_steered\", \"Treatment, Danish prediction scores\", \"Prediction Probability\")\n",
    "]\n",
    "\n",
    "colors = [\"skyblue\", \"salmon\", \"lightgreen\"]\n",
    "\n",
    "# Plot histograms with mean lines\n",
    "for ax, (col, title, xlabel), color in zip(axs, columns, colors):\n",
    "    ax.hist(df[col], bins=10, color=color, edgecolor='black')\n",
    "    mean_val = df[col].mean()\n",
    "    ax.axvline(mean_val, color='black', linestyle='--', linewidth=1.5, label=f'Mean = {mean_val:.2f}')\n",
    "    ax.set_title(title)\n",
    "    ax.set_xlabel(xlabel)\n",
    "    ax.set_ylabel(\"Frequency\")\n",
    "    ax.legend()\n",
    "\n",
    "plt.tight_layout()\n",
    "plt.savefig(f\"results/bible_study/{model_name_temp}.png\",dpi = 300)\n",
    "plt.show()\n",
    "\n"
   ]
  },
  {
   "cell_type": "code",
   "execution_count": 43,
   "metadata": {},
   "outputs": [],
   "source": [
    "sub = df[df.danish_language_prediction_on_english_steered == 1.0]"
   ]
  },
  {
   "cell_type": "code",
   "execution_count": 54,
   "metadata": {},
   "outputs": [
    {
     "data": {
      "text/plain": [
       "'Af alle rene Dyr skal du tage syv Par, Han og Hun, og af alle urene Dyr eet Par, Han og Hun,'"
      ]
     },
     "execution_count": 54,
     "metadata": {},
     "output_type": "execute_result"
    }
   ],
   "source": [
    "sub[sub.bible_verse == 160].danish_true_label.iloc[0]"
   ]
  },
  {
   "cell_type": "code",
   "execution_count": 51,
   "metadata": {},
   "outputs": [
    {
     "data": {
      "text/plain": [
       "'You shall take seven pairs of every clean animal with you, the male and his female. Of the animals that are not clean, take two, the male and his female.'"
      ]
     },
     "execution_count": 51,
     "metadata": {},
     "output_type": "execute_result"
    }
   ],
   "source": [
    "sub[sub.bible_verse == 160].english_true_label.iloc[0]"
   ]
  },
  {
   "cell_type": "code",
   "execution_count": 57,
   "metadata": {},
   "outputs": [
    {
     "data": {
      "text/plain": [
       "' af de dyr, som ikke er rene, tager to, den mandlige og den kvindelige. af de dyr, der er rene, tager to, den mandlige og den kvindelige. af de dyr, som er rene, tager to, den mandlige og den kvindelige. af de dyr, der er rene, tager to, den mandlige'"
      ]
     },
     "execution_count": 57,
     "metadata": {},
     "output_type": "execute_result"
    }
   ],
   "source": [
    "sub.english_predicted_output.iloc[1]"
   ]
  },
  {
   "cell_type": "code",
   "execution_count": 65,
   "metadata": {},
   "outputs": [
    {
     "data": {
      "text/plain": [
       "', af ren og af urene dyr en han, ufrugtbar og ufrugtbar<|endoftext|>'"
      ]
     },
     "execution_count": 65,
     "metadata": {},
     "output_type": "execute_result"
    }
   ],
   "source": [
    "sub.danish_predicted_output.iloc[1]"
   ]
  },
  {
   "cell_type": "code",
   "execution_count": 63,
   "metadata": {},
   "outputs": [
    {
     "data": {
      "text/plain": [
       "english_predicted_output      Hellig Amen.  De 17.08.1998.  Se i Guds hell...\n",
       "Name: 375, dtype: object"
      ]
     },
     "execution_count": 63,
     "metadata": {},
     "output_type": "execute_result"
    }
   ],
   "source": [
    "sub[[\"english_predicted_output\"]].iloc[10]"
   ]
  },
  {
   "cell_type": "code",
   "execution_count": 55,
   "metadata": {},
   "outputs": [
    {
     "data": {
      "text/plain": [
       "english_true_label    Also of the birds of the sky, seven and seven,...\n",
       "Name: 87, dtype: object"
      ]
     },
     "execution_count": 55,
     "metadata": {},
     "output_type": "execute_result"
    }
   ],
   "source": [
    "sub[[\"english_true_label\"]].iloc[1]"
   ]
  },
  {
   "cell_type": "code",
   "execution_count": 64,
   "metadata": {},
   "outputs": [
    {
     "data": {
      "text/html": [
       "<div>\n",
       "<style scoped>\n",
       "    .dataframe tbody tr th:only-of-type {\n",
       "        vertical-align: middle;\n",
       "    }\n",
       "\n",
       "    .dataframe tbody tr th {\n",
       "        vertical-align: top;\n",
       "    }\n",
       "\n",
       "    .dataframe thead th {\n",
       "        text-align: right;\n",
       "    }\n",
       "</style>\n",
       "<table border=\"1\" class=\"dataframe\">\n",
       "  <thead>\n",
       "    <tr style=\"text-align: right;\">\n",
       "      <th></th>\n",
       "      <th>danish_predicted_output</th>\n",
       "      <th>english_predicted_output</th>\n",
       "      <th>danish_true_label</th>\n",
       "      <th>english_true_label</th>\n",
       "      <th>layer</th>\n",
       "      <th>lambda_amount</th>\n",
       "      <th>bible_verse</th>\n",
       "      <th>danish_prompt_score</th>\n",
       "      <th>english_prompt_score</th>\n",
       "      <th>danish_language_prediction_on_english_steered</th>\n",
       "    </tr>\n",
       "  </thead>\n",
       "  <tbody>\n",
       "    <tr>\n",
       "      <th>63</th>\n",
       "      <td>men af alle blandede, også af alle rene dyr e...</td>\n",
       "      <td>of de andre. af de andre.    4. engelsk: Deta...</td>\n",
       "      <td>ligeledes af Himmelens Fugle syv Par, Han og H...</td>\n",
       "      <td>Also of the birds of the sky, seven and seven,...</td>\n",
       "      <td>15</td>\n",
       "      <td>10</td>\n",
       "      <td>161</td>\n",
       "      <td>1.0</td>\n",
       "      <td>0.0</td>\n",
       "      <td>1.0</td>\n",
       "    </tr>\n",
       "    <tr>\n",
       "      <th>87</th>\n",
       "      <td>, af ren og af urene dyr en han, ufrugtbar og ...</td>\n",
       "      <td>af de dyr, som ikke er rene, tager to, den ma...</td>\n",
       "      <td>ligeledes af Himmelens Fugle syv Par, Han og H...</td>\n",
       "      <td>Also of the birds of the sky, seven and seven,...</td>\n",
       "      <td>15</td>\n",
       "      <td>15</td>\n",
       "      <td>161</td>\n",
       "      <td>1.0</td>\n",
       "      <td>0.0</td>\n",
       "      <td>1.0</td>\n",
       "    </tr>\n",
       "    <tr>\n",
       "      <th>111</th>\n",
       "      <td>, og af de giftige dyr to par, han og hun, og ...</td>\n",
       "      <td>of the animals that are not clean, take three...</td>\n",
       "      <td>ligeledes af Himmelens Fugle syv Par, Han og H...</td>\n",
       "      <td>Also of the birds of the sky, seven and seven,...</td>\n",
       "      <td>15</td>\n",
       "      <td>2</td>\n",
       "      <td>161</td>\n",
       "      <td>1.0</td>\n",
       "      <td>0.0</td>\n",
       "      <td>1.0</td>\n",
       "    </tr>\n",
       "    <tr>\n",
       "      <th>159</th>\n",
       "      <td>, og af alle levende eren en hun, og af alle l...</td>\n",
       "      <td>. af alle de dyr, som ikke er rene, tager han ...</td>\n",
       "      <td>ligeledes af Himmelens Fugle syv Par, Han og H...</td>\n",
       "      <td>Also of the birds of the sky, seven and seven,...</td>\n",
       "      <td>15</td>\n",
       "      <td>10</td>\n",
       "      <td>161</td>\n",
       "      <td>1.0</td>\n",
       "      <td>0.0</td>\n",
       "      <td>1.0</td>\n",
       "    </tr>\n",
       "    <tr>\n",
       "      <th>183</th>\n",
       "      <td>og af alle syge dyr eller af dem, der er så s...</td>\n",
       "      <td>af de dyr, der ikke er rene, tage to, hannen ...</td>\n",
       "      <td>ligeledes af Himmelens Fugle syv Par, Han og H...</td>\n",
       "      <td>Also of the birds of the sky, seven and seven,...</td>\n",
       "      <td>15</td>\n",
       "      <td>15</td>\n",
       "      <td>161</td>\n",
       "      <td>1.0</td>\n",
       "      <td>0.0</td>\n",
       "      <td>1.0</td>\n",
       "    </tr>\n",
       "    <tr>\n",
       "      <th>...</th>\n",
       "      <td>...</td>\n",
       "      <td>...</td>\n",
       "      <td>...</td>\n",
       "      <td>...</td>\n",
       "      <td>...</td>\n",
       "      <td>...</td>\n",
       "      <td>...</td>\n",
       "      <td>...</td>\n",
       "      <td>...</td>\n",
       "      <td>...</td>\n",
       "    </tr>\n",
       "    <tr>\n",
       "      <th>54399</th>\n",
       "      <td>og de blev højere og højere.\\n25:7 Og du, Jos...</td>\n",
       "      <td>og det var en frygtelig storm, som blev ved m...</td>\n",
       "      <td>femten Alen stod Vandet over dem, så Bjergene ...</td>\n",
       "      <td>The waters prevailed fifteen cubits upward, an...</td>\n",
       "      <td>15</td>\n",
       "      <td>10</td>\n",
       "      <td>178</td>\n",
       "      <td>1.0</td>\n",
       "      <td>0.0</td>\n",
       "      <td>1.0</td>\n",
       "    </tr>\n",
       "    <tr>\n",
       "      <th>54423</th>\n",
       "      <td>så stod de store floder op af dem i et løb, o...</td>\n",
       "      <td>Men, der gik over jorden, men alle de høje fj...</td>\n",
       "      <td>femten Alen stod Vandet over dem, så Bjergene ...</td>\n",
       "      <td>The waters prevailed fifteen cubits upward, an...</td>\n",
       "      <td>15</td>\n",
       "      <td>15</td>\n",
       "      <td>178</td>\n",
       "      <td>1.0</td>\n",
       "      <td>0.0</td>\n",
       "      <td>1.0</td>\n",
       "    </tr>\n",
       "    <tr>\n",
       "      <th>54471</th>\n",
       "      <td>og han så, med hvor stærkt lysen blev, at han...</td>\n",
       "      <td>the sea was a pure blue, and there were so ma...</td>\n",
       "      <td>femten Alen stod Vandet over dem, så Bjergene ...</td>\n",
       "      <td>The waters prevailed fifteen cubits upward, an...</td>\n",
       "      <td>15</td>\n",
       "      <td>5</td>\n",
       "      <td>178</td>\n",
       "      <td>1.0</td>\n",
       "      <td>0.0</td>\n",
       "      <td>1.0</td>\n",
       "    </tr>\n",
       "    <tr>\n",
       "      <th>54495</th>\n",
       "      <td>vandfald, hvor der var mange dråber fra vandf...</td>\n",
       "      <td>Ognen, som var en by, var en gammel by, som v...</td>\n",
       "      <td>femten Alen stod Vandet over dem, så Bjergene ...</td>\n",
       "      <td>The waters prevailed fifteen cubits upward, an...</td>\n",
       "      <td>15</td>\n",
       "      <td>10</td>\n",
       "      <td>178</td>\n",
       "      <td>1.0</td>\n",
       "      <td>0.0</td>\n",
       "      <td>1.0</td>\n",
       "    </tr>\n",
       "    <tr>\n",
       "      <th>54519</th>\n",
       "      <td>så blev der intet at se, ingen til at hjælpe....</td>\n",
       "      <td>danska: Det er en af de vigtigste årsager ...</td>\n",
       "      <td>femten Alen stod Vandet over dem, så Bjergene ...</td>\n",
       "      <td>The waters prevailed fifteen cubits upward, an...</td>\n",
       "      <td>15</td>\n",
       "      <td>15</td>\n",
       "      <td>178</td>\n",
       "      <td>1.0</td>\n",
       "      <td>0.0</td>\n",
       "      <td>1.0</td>\n",
       "    </tr>\n",
       "  </tbody>\n",
       "</table>\n",
       "<p>1370 rows × 10 columns</p>\n",
       "</div>"
      ],
      "text/plain": [
       "                                 danish_predicted_output  \\\n",
       "63      men af alle blandede, også af alle rene dyr e...   \n",
       "87     , af ren og af urene dyr en han, ufrugtbar og ...   \n",
       "111    , og af de giftige dyr to par, han og hun, og ...   \n",
       "159    , og af alle levende eren en hun, og af alle l...   \n",
       "183     og af alle syge dyr eller af dem, der er så s...   \n",
       "...                                                  ...   \n",
       "54399   og de blev højere og højere.\\n25:7 Og du, Jos...   \n",
       "54423   så stod de store floder op af dem i et løb, o...   \n",
       "54471   og han så, med hvor stærkt lysen blev, at han...   \n",
       "54495   vandfald, hvor der var mange dråber fra vandf...   \n",
       "54519   så blev der intet at se, ingen til at hjælpe....   \n",
       "\n",
       "                                english_predicted_output  \\\n",
       "63      of de andre. af de andre.    4. engelsk: Deta...   \n",
       "87      af de dyr, som ikke er rene, tager to, den ma...   \n",
       "111     of the animals that are not clean, take three...   \n",
       "159    . af alle de dyr, som ikke er rene, tager han ...   \n",
       "183     af de dyr, der ikke er rene, tage to, hannen ...   \n",
       "...                                                  ...   \n",
       "54399   og det var en frygtelig storm, som blev ved m...   \n",
       "54423   Men, der gik over jorden, men alle de høje fj...   \n",
       "54471   the sea was a pure blue, and there were so ma...   \n",
       "54495   Ognen, som var en by, var en gammel by, som v...   \n",
       "54519      danska: Det er en af de vigtigste årsager ...   \n",
       "\n",
       "                                       danish_true_label  \\\n",
       "63     ligeledes af Himmelens Fugle syv Par, Han og H...   \n",
       "87     ligeledes af Himmelens Fugle syv Par, Han og H...   \n",
       "111    ligeledes af Himmelens Fugle syv Par, Han og H...   \n",
       "159    ligeledes af Himmelens Fugle syv Par, Han og H...   \n",
       "183    ligeledes af Himmelens Fugle syv Par, Han og H...   \n",
       "...                                                  ...   \n",
       "54399  femten Alen stod Vandet over dem, så Bjergene ...   \n",
       "54423  femten Alen stod Vandet over dem, så Bjergene ...   \n",
       "54471  femten Alen stod Vandet over dem, så Bjergene ...   \n",
       "54495  femten Alen stod Vandet over dem, så Bjergene ...   \n",
       "54519  femten Alen stod Vandet over dem, så Bjergene ...   \n",
       "\n",
       "                                      english_true_label  layer  \\\n",
       "63     Also of the birds of the sky, seven and seven,...     15   \n",
       "87     Also of the birds of the sky, seven and seven,...     15   \n",
       "111    Also of the birds of the sky, seven and seven,...     15   \n",
       "159    Also of the birds of the sky, seven and seven,...     15   \n",
       "183    Also of the birds of the sky, seven and seven,...     15   \n",
       "...                                                  ...    ...   \n",
       "54399  The waters prevailed fifteen cubits upward, an...     15   \n",
       "54423  The waters prevailed fifteen cubits upward, an...     15   \n",
       "54471  The waters prevailed fifteen cubits upward, an...     15   \n",
       "54495  The waters prevailed fifteen cubits upward, an...     15   \n",
       "54519  The waters prevailed fifteen cubits upward, an...     15   \n",
       "\n",
       "       lambda_amount  bible_verse  danish_prompt_score  english_prompt_score  \\\n",
       "63                10          161                  1.0                   0.0   \n",
       "87                15          161                  1.0                   0.0   \n",
       "111                2          161                  1.0                   0.0   \n",
       "159               10          161                  1.0                   0.0   \n",
       "183               15          161                  1.0                   0.0   \n",
       "...              ...          ...                  ...                   ...   \n",
       "54399             10          178                  1.0                   0.0   \n",
       "54423             15          178                  1.0                   0.0   \n",
       "54471              5          178                  1.0                   0.0   \n",
       "54495             10          178                  1.0                   0.0   \n",
       "54519             15          178                  1.0                   0.0   \n",
       "\n",
       "       danish_language_prediction_on_english_steered  \n",
       "63                                               1.0  \n",
       "87                                               1.0  \n",
       "111                                              1.0  \n",
       "159                                              1.0  \n",
       "183                                              1.0  \n",
       "...                                              ...  \n",
       "54399                                            1.0  \n",
       "54423                                            1.0  \n",
       "54471                                            1.0  \n",
       "54495                                            1.0  \n",
       "54519                                            1.0  \n",
       "\n",
       "[1370 rows x 10 columns]"
      ]
     },
     "execution_count": 64,
     "metadata": {},
     "output_type": "execute_result"
    }
   ],
   "source": [
    "sub"
   ]
  },
  {
   "cell_type": "code",
   "execution_count": null,
   "metadata": {},
   "outputs": [],
   "source": []
  },
  {
   "cell_type": "code",
   "execution_count": 28,
   "metadata": {},
   "outputs": [
    {
     "data": {
      "text/plain": [
       "0.7172667253521127"
      ]
     },
     "execution_count": 28,
     "metadata": {},
     "output_type": "execute_result"
    }
   ],
   "source": [
    "df.danish_prompt_score.sum()/len(df)"
   ]
  },
  {
   "cell_type": "code",
   "execution_count": 37,
   "metadata": {},
   "outputs": [
    {
     "data": {
      "text/html": [
       "<div>\n",
       "<style scoped>\n",
       "    .dataframe tbody tr th:only-of-type {\n",
       "        vertical-align: middle;\n",
       "    }\n",
       "\n",
       "    .dataframe tbody tr th {\n",
       "        vertical-align: top;\n",
       "    }\n",
       "\n",
       "    .dataframe thead th {\n",
       "        text-align: right;\n",
       "    }\n",
       "</style>\n",
       "<table border=\"1\" class=\"dataframe\">\n",
       "  <thead>\n",
       "    <tr style=\"text-align: right;\">\n",
       "      <th></th>\n",
       "      <th>danish_prompt_score</th>\n",
       "      <th>english_prompt_score</th>\n",
       "      <th>danish_language_prediction_on_english_steered</th>\n",
       "    </tr>\n",
       "  </thead>\n",
       "  <tbody>\n",
       "    <tr>\n",
       "      <th>15</th>\n",
       "      <td>1.0</td>\n",
       "      <td>0.98</td>\n",
       "      <td>0.02</td>\n",
       "    </tr>\n",
       "    <tr>\n",
       "      <th>39</th>\n",
       "      <td>1.0</td>\n",
       "      <td>0.47</td>\n",
       "      <td>0.53</td>\n",
       "    </tr>\n",
       "    <tr>\n",
       "      <th>63</th>\n",
       "      <td>1.0</td>\n",
       "      <td>0.00</td>\n",
       "      <td>1.00</td>\n",
       "    </tr>\n",
       "    <tr>\n",
       "      <th>87</th>\n",
       "      <td>1.0</td>\n",
       "      <td>0.00</td>\n",
       "      <td>1.00</td>\n",
       "    </tr>\n",
       "    <tr>\n",
       "      <th>111</th>\n",
       "      <td>1.0</td>\n",
       "      <td>0.00</td>\n",
       "      <td>1.00</td>\n",
       "    </tr>\n",
       "  </tbody>\n",
       "</table>\n",
       "</div>"
      ],
      "text/plain": [
       "     danish_prompt_score  english_prompt_score  \\\n",
       "15                   1.0                  0.98   \n",
       "39                   1.0                  0.47   \n",
       "63                   1.0                  0.00   \n",
       "87                   1.0                  0.00   \n",
       "111                  1.0                  0.00   \n",
       "\n",
       "     danish_language_prediction_on_english_steered  \n",
       "15                                            0.02  \n",
       "39                                            0.53  \n",
       "63                                            1.00  \n",
       "87                                            1.00  \n",
       "111                                           1.00  "
      ]
     },
     "execution_count": 37,
     "metadata": {},
     "output_type": "execute_result"
    }
   ],
   "source": [
    "df[[\"danish_prompt_score\",\"english_prompt_score\",\"danish_language_prediction_on_english_steered\"]].head()"
   ]
  }
 ],
 "metadata": {
  "kernelspec": {
   "display_name": "Python 3",
   "language": "python",
   "name": "python3"
  },
  "language_info": {
   "codemirror_mode": {
    "name": "ipython",
    "version": 3
   },
   "file_extension": ".py",
   "mimetype": "text/x-python",
   "name": "python",
   "nbconvert_exporter": "python",
   "pygments_lexer": "ipython3",
   "version": "3.12.3"
  }
 },
 "nbformat": 4,
 "nbformat_minor": 2
}
