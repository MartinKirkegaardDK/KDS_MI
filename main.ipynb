{
  "cells": [
    {
      "cell_type": "code",
      "execution_count": 1,
      "metadata": {
        "colab": {
          "base_uri": "https://localhost:8080/"
        },
        "id": "ajvLumiu5mq-",
        "outputId": "77ae0b4c-b9e9-4909-9e09-94cfbaf5045f"
      },
      "outputs": [],
      "source": [
        "import os\n",
        "\n",
        "try:\n",
        "    has_changed_dir\n",
        "except:\n",
        "    has_changed_dir = False\n",
        "\n",
        "try:\n",
        "    import google.colab\n",
        "    IN_COLAB = True\n",
        "    print(\"Running as a Colab notebook\")\n",
        "except:\n",
        "    IN_COLAB = False\n",
        "\n",
        "if IN_COLAB:\n",
        "    %pip install datasets\n",
        "    %pip install translate-toolkit\n",
        "    %pip install fasttext\n",
        "\n",
        "    !git clone https://github.com/MartinKirkegaardDK/KDS_MI.git\n",
        "\n",
        "    if not has_changed_dir:\n",
        "        os.chdir('KDS_MI')\n",
        "        has_changed_dir = True\n",
        "else:\n",
        "    if not has_changed_dir:\n",
        "        os.chdir('.')\n",
        "        has_changed_dir = True"
      ]
    },
    {
      "cell_type": "code",
      "execution_count": 2,
      "metadata": {
        "id": "XDwg58v35mrA"
      },
      "outputs": [
        {
          "name": "stderr",
          "output_type": "stream",
          "text": [
            "c:\\Users\\tjupp\\AppData\\Local\\Programs\\Python\\Python311\\Lib\\site-packages\\tqdm\\auto.py:21: TqdmWarning: IProgress not found. Please update jupyter and ipywidgets. See https://ipywidgets.readthedocs.io/en/stable/user_install.html\n",
            "  from .autonotebook import tqdm as notebook_tqdm\n"
          ]
        }
      ],
      "source": [
        "from drivers import (\n",
        "    plot_outlier_neurons, preprocessing,probe_confidence_intervals,\n",
        "    steering, create_steering_vectors,\n",
        "    steering_loss,\n",
        "    distance_plots,\n",
        "    create_average_activation_vectors,\n",
        "    visualising_steering_vectors,\n",
        "    visualising_activations,\n",
        "    visualize_probe_results,\n",
        "    create_bible_data,\n",
        "    process_bible_data,\n",
        "    visualize_bible_study,\n",
        "    probe_confidence_intervals_NEW,\n",
        "    scandeval_results,\n",
        "    create_neuron_contributions,\n",
        "    text_visualization\n",
        "    \n",
        ")\n",
        "\n",
        "from pathlib import Path\n"
      ]
    },
    {
      "cell_type": "code",
      "execution_count": 3,
      "metadata": {},
      "outputs": [],
      "source": [
        "\n",
        "all_languages = [\"nb\",\"is\",\"da\",\"en\",\"sv\"]\n",
        "model_name=\"downloaded_models/gpt_gptsw3_en_da_is_356m_gbs1024\"\n",
        "model_name = \"EleutherAI/pythia-14m\"\n",
        "model_name = \"AI-Sweden-Models/gpt-sw3-356m\"\n",
        "\n",
        "hook_points = [\"attention-post\",\"attention-pre\",\"mlp-post\",\"mlp-pre\",\"layernorm_1-pre\",\"layernorm_2-pre\"]\n",
        "\n",
        "not_target_languages = []\n",
        "target = \"da\"\n",
        "\n",
        "\n",
        "\n",
        "if \"download\" in model_name:\n",
        "    model_name_temp = model_name.split(\"/\")[-1]\n",
        "    for split in model_name.split(\"_\"):\n",
        "        if (split in all_languages) and (split !=target):\n",
        "            not_target_languages.append(split)\n",
        "else:\n",
        "    \n",
        "    model_name_temp = model_name.split(\"/\")[-1]\n",
        "    model_name_temp = model_name_temp.replace(\"-\",\"_\")\n",
        "    not_target_languages = [lang for lang in all_languages if lang != target]"
      ]
    },
    {
      "cell_type": "code",
      "execution_count": null,
      "metadata": {},
      "outputs": [],
      "source": [
        "model_name_temp"
      ]
    },
    {
      "cell_type": "code",
      "execution_count": null,
      "metadata": {},
      "outputs": [],
      "source": [
        "#!zip -r zipped.zip results/data/probe_confidence_intervals"
      ]
    },
    {
      "cell_type": "markdown",
      "metadata": {
        "id": "Wvc_Z5VZ5mrA"
      },
      "source": [
        "## Data preprocessing\n",
        "\n",
        "Preprocesses the multilingual data, by removing short sentences"
      ]
    },
    {
      "cell_type": "code",
      "execution_count": null,
      "metadata": {
        "id": "iO2ml66S5mrB"
      },
      "outputs": [],
      "source": [
        "preprocessing.run()"
      ]
    },
    {
      "cell_type": "markdown",
      "metadata": {
        "id": "bG3qWYDC5mrB"
      },
      "source": [
        "## Analysis of residual stream activations"
      ]
    },
    {
      "cell_type": "markdown",
      "metadata": {
        "id": "s7bVT_YA5mrB"
      },
      "source": [
        "### PCA of activations"
      ]
    },
    {
      "cell_type": "code",
      "execution_count": null,
      "metadata": {
        "id": "EDE-Y1am5mrB"
      },
      "outputs": [],
      "source": [
        "\n",
        "visualising_activations.run(model_name=model_name)"
      ]
    },
    {
      "cell_type": "markdown",
      "metadata": {
        "id": "VWPomAAY5mrC"
      },
      "source": [
        "### Classification probes"
      ]
    },
    {
      "cell_type": "code",
      "execution_count": null,
      "metadata": {
        "id": "afYus9v_5mrC"
      },
      "outputs": [],
      "source": [
        "#This takes a long time to run\n",
        "probe_confidence_intervals.run(\n",
        "    model_name=model_name,\n",
        "    reg_lambdas=[0.1, 0.5, 1, 2, 5, 10]\n",
        ")"
      ]
    },
    {
      "cell_type": "code",
      "execution_count": null,
      "metadata": {},
      "outputs": [],
      "source": [
        "visualize_probe_results.run(\n",
        "    probe_result_path_by_reg_lambda={\n",
        "        0.1: f'results/data/probe_confidence_intervals/gpt_sw3_356m_attention:post_reg_lambda_0.1.json',\n",
        "    },\n",
        "    model_name= model_name_temp\n",
        "    \n",
        ")"
      ]
    },
    {
      "cell_type": "code",
      "execution_count": null,
      "metadata": {
        "id": "GsMNSu685mrD"
      },
      "outputs": [],
      "source": [
        "lambdas = [0.1, 0.5, 1, 2, 5, 10]\n",
        "#for reg in lambdas:\n",
        "for hook_point in hook_points:\n",
        "    visualize_probe_results.run(\n",
        "        probe_result_path_by_reg_lambda={\n",
        "            0.1: f'results/data/probe_confidence_intervals/{model_name_temp}_{hook_point}_reg_lambda_0.1.json',\n",
        "            0.5: f'results/data/probe_confidence_intervals/{model_name_temp}_{hook_point}_reg_lambda_0.5.json',\n",
        "            1: f'results/data/probe_confidence_intervals/{model_name_temp}_{hook_point}_reg_lambda_1.json',\n",
        "            2: f'results/data/probe_confidence_intervals/{model_name_temp}_{hook_point}_reg_lambda_2.json',\n",
        "            5: f'results/data/probe_confidence_intervals/{model_name_temp}_{hook_point}_reg_lambda_5.json',\n",
        "            10: f'results/data/probe_confidence_intervals/{model_name_temp}_{hook_point}_reg_lambda_10.json',\n",
        "        },\n",
        "        model_name= model_name_temp\n",
        "        \n",
        "    )"
      ]
    },
    {
      "cell_type": "markdown",
      "metadata": {
        "id": "yF7653Xc5mrE"
      },
      "source": [
        "## Create average activation vectors\n",
        "these are the \"base\" steering vectors e.i. the average activations for different layers and languages.\n",
        "This function generates them and the next block then splits them up for the analysis section.\n",
        "Additionally, it also saves all the raw activations: raw_activations/\\*model_name\\*"
      ]
    },
    {
      "cell_type": "code",
      "execution_count": null,
      "metadata": {},
      "outputs": [],
      "source": [
        "model_name_temp"
      ]
    },
    {
      "cell_type": "code",
      "execution_count": null,
      "metadata": {
        "id": "WMj3ypuy5mrE"
      },
      "outputs": [],
      "source": [
        "#create_average_activation_vectors.run([\"nb\",\"is\",\"da\",\"en\",\"sv\"],model_name= model_name,run_name = model_name_temp)\n",
        "\n",
        "\n",
        "\n",
        "create_average_activation_vectors.run([target] + not_target_languages,model_name= model_name,run_name = model_name_temp)"
      ]
    },
    {
      "cell_type": "markdown",
      "metadata": {
        "id": "M-ahWWpz5mrE"
      },
      "source": [
        "## Create steering vector\n",
        "these are the steering vectors towards a specific language. This is different that"
      ]
    },
    {
      "cell_type": "code",
      "execution_count": null,
      "metadata": {
        "id": "HHJV1FFo5mrE"
      },
      "outputs": [],
      "source": [
        "#AI-Sweden-Models/gpt-sw3-356m\n",
        "\n",
        "create_steering_vectors.run(\n",
        "    model_name=model_name_temp,\n",
        "    target_language=target,\n",
        "    complement_languages=not_target_languages\n",
        ")"
      ]
    },
    {
      "cell_type": "markdown",
      "metadata": {},
      "source": [
        "## plots the distance plots"
      ]
    },
    {
      "cell_type": "code",
      "execution_count": null,
      "metadata": {},
      "outputs": [],
      "source": [
        "#AI-Sweden-Models/gpt-sw3-356m\n",
        "distance_plots.run(model_name_temp, target,f\"average_activation_vectors/{model_name_temp}/\",\"cosine\")"
      ]
    },
    {
      "cell_type": "markdown",
      "metadata": {
        "id": "o2gwRDp95mrF"
      },
      "source": [
        "## Test steering vectors"
      ]
    },
    {
      "cell_type": "code",
      "execution_count": null,
      "metadata": {
        "colab": {
          "base_uri": "https://localhost:8080/"
        },
        "id": "KmfwKKT25mrG",
        "outputId": "d9357b83-07f2-4f14-ff07-672ed622bfe6"
      },
      "outputs": [],
      "source": [
        "layer = 5\n",
        "\n",
        "steering_vector_path = f\"steering_vectors/{model_name_temp}/combined_steering_vector_layer_{layer}_tensor.pt\"\n",
        "\n",
        "steering.run(\n",
        "    steering_vector_path=steering_vector_path,\n",
        "    steering_lambda=5,\n",
        "    affected_language=\"en\",\n",
        "    layer=layer,\n",
        "    model_name=model_name,\n",
        "    data_folder='data/preprocessed/train'\n",
        ")"
      ]
    },
    {
      "cell_type": "markdown",
      "metadata": {
        "id": "B-DE-29c5mrG"
      },
      "source": [
        "## Measure steering vector loss impact"
      ]
    },
    {
      "cell_type": "code",
      "execution_count": null,
      "metadata": {
        "colab": {
          "base_uri": "https://localhost:8080/",
          "height": 1000,
          "referenced_widgets": [
            "7330803a4e2b4535b0ea49954ca706f4",
            "780be0a5f9a141c4befcee95029add72",
            "bce9edf1290441bc96f86c5468c67dee",
            "343f3072c0c941f79e055c95726f566e",
            "d043cd861143434a8b6fd97d2f8b29dc",
            "7971a32ccbf5400fae96d71e6ef020a2",
            "819c698f9a564f4d9f9b3c54daa24e82",
            "1abf004f52604d4aab8c1669a8b23dfa",
            "c171764981484b8086e820a00d641baa",
            "1172cb72b4cd4115aa5c06e7aee4ccb1",
            "73cf52b6ac22445babe73cb94fe22ca7",
            "da66bd0741ce4b89807f3d055d695be8",
            "6ee095f0edb1483183388b61adc94a41",
            "9ef015da95f44c36806ddb599bdbafcd",
            "4bf2755aa2b74c59804dec23f09325a8",
            "4a4be75a05884714b7c3d53c45d1c94d",
            "5be9a663b8404368becba86cccbcc7f4",
            "9fac377c145f4842bd68f357449ff384",
            "87fcf5a922da4c6691b34f83b4d98832",
            "61ab02d68dc444d2af055a15eeecf7e9",
            "190f19f1bc6f4d4999f61aa636cbc010",
            "b73c7c1b89e84091af39b780e1b839b6",
            "9e2b9134ec50411c8ca5756c4b19d41d",
            "03499a3b9ac84845ad7ec2c335be4cbb",
            "7d762fc225c443ce8eddbee3628e24a1",
            "4214759994b04682a54ab1028ec1ba45",
            "ca9b66aea43d4c7a948f7a3a8bad26cf",
            "2b969751ce29457993189b0995a7bbc0",
            "d03ae03ca7e14021ab568fe0d920977d",
            "ae48b175f18c4c58bb3566bdf911e400",
            "d0a0fb1b0e954fe2a69c7e172d57f790",
            "085ac0f6d46041b7825787b92d993746",
            "c4153e30acff41edac9c2d64c223c377"
          ]
        },
        "id": "OHV7KB0i5mrG",
        "outputId": "ae106d11-eee9-4df6-acfb-6fa646f5bfe8"
      },
      "outputs": [],
      "source": [
        "#This also takes some time to run\n",
        "steering_vector_folder = f'steering_vectors/{model_name_temp}'\n",
        "\n",
        "steering_loss.run(\n",
        "    steering_vector_folder=steering_vector_folder,\n",
        "    model_name=model_name,\n",
        "    model_name_temp=model_name_temp,\n",
        "    lan1='en',\n",
        "    lan2='da'\n",
        ")"
      ]
    },
    {
      "cell_type": "markdown",
      "metadata": {
        "id": "2zhniUV75mrG"
      },
      "source": [
        "## Plot steering vector PCAs"
      ]
    },
    {
      "cell_type": "markdown",
      "metadata": {
        "id": "m-pyjY0f5mrG"
      },
      "source": [
        "steering_vector_folder = Path('steering_vectors/')\n",
        "\n",
        "visualising_steering_vectors.run(\n",
        "    steering_vector_paths_by_language={\n",
        "        'en': lambda layer: steering_vector_folder / f'EN/combined_steering_vector_layer_{layer}_tensor.pt',\n",
        "        'da': lambda layer: steering_vector_folder / f'DA/combined_steering_vector_layer_{layer}_tensor.pt',\n",
        "        'sv': lambda layer: steering_vector_folder / f'SV/combined_steering_vector_layer_{layer}_tensor.pt',\n",
        "        'nb': lambda layer: steering_vector_folder / f'NB/combined_steering_vector_layer_{layer}_tensor.pt',\n",
        "        'is': lambda layer: steering_vector_folder / f'IS/combined_steering_vector_layer_{layer}_tensor.pt'\n",
        "    },\n",
        "    hidden_layers=24\n",
        ")"
      ]
    },
    {
      "cell_type": "code",
      "execution_count": null,
      "metadata": {},
      "outputs": [],
      "source": [
        "steering_vector_folder = Path('steering_vectors/')\n",
        "\n",
        "visualising_steering_vectors.run(\n",
        "    steering_vector_paths_by_language={\n",
        "        'en': lambda layer: steering_vector_folder / f'EN/combined_steering_vector_layer_{layer}_tensor.pt',\n",
        "        'da': lambda layer: steering_vector_folder / f'DA/combined_steering_vector_layer_{layer}_tensor.pt',\n",
        "    },\n",
        "    hidden_layers=24\n",
        ")"
      ]
    },
    {
      "cell_type": "markdown",
      "metadata": {
        "id": "kEQhCQPq5mrH"
      },
      "source": [
        "## Bible study"
      ]
    },
    {
      "cell_type": "code",
      "execution_count": null,
      "metadata": {
        "id": "xQyYJRRe5mrH"
      },
      "outputs": [],
      "source": [
        "steering_vector_path = f\"steering_vectors/{model_name_temp}/\"\n",
        "model_name = model_name\n",
        "language1 = \"da\"\n",
        "langauge2 = \"en\"\n",
        "start_verse = 3\n",
        "end_verse = 1000\n",
        "lambda_search_space = [2,5,10,15]\n",
        "\n",
        "create_bible_data.run(model_name,language1, steering_vector_path, lambda_search_space, start_verse,end_verse)\n"
      ]
    },
    {
      "cell_type": "code",
      "execution_count": null,
      "metadata": {
        "id": "8DZWaeAh5mrH"
      },
      "outputs": [],
      "source": [
        "path = \"results/data/steering_data_bible/\"\n",
        "language_label = \"__label__dan\"\n",
        "process_bible_data.run(path, language_label)"
      ]
    },
    {
      "cell_type": "code",
      "execution_count": null,
      "metadata": {
        "id": "qFN0StRh5mrH"
      },
      "outputs": [],
      "source": [
        "visualize_bible_study.run(\n",
        "    file_path='results/data/steering_data_bible/bible_data_combined.csv'\n",
        ")"
      ]
    },
    {
      "cell_type": "markdown",
      "metadata": {},
      "source": [
        "## ScandEval viz"
      ]
    },
    {
      "cell_type": "code",
      "execution_count": null,
      "metadata": {},
      "outputs": [],
      "source": [
        "scandeval_results.main(\"results/scandeval/scandeval_benchmark_results_new.jsonl\", False)"
      ]
    },
    {
      "cell_type": "markdown",
      "metadata": {},
      "source": [
        "##  Neuron contributions"
      ]
    },
    {
      "cell_type": "code",
      "execution_count": 4,
      "metadata": {},
      "outputs": [
        {
          "name": "stdout",
          "output_type": "stream",
          "text": [
            "Load model\n",
            "found device: cuda:0\n",
            "Extract activations\n"
          ]
        },
        {
          "name": "stderr",
          "output_type": "stream",
          "text": [
            "  0%|          | 0/104 [00:00<?, ?it/s]Asking to truncate to max_length but no maximum length is provided and the model has no predefined maximum length. Default to no truncation.\n",
            " 20%|██        | 21/104 [03:47<14:58, 10.83s/it]\n"
          ]
        },
        {
          "name": "stdout",
          "output_type": "stream",
          "text": [
            "{'layer.0.layernorm_1-pre': <refactor.utils.data.ActivationDataset object at 0x00000238C311F7D0>, 'layer.0.attention-pre': <refactor.utils.data.ActivationDataset object at 0x00000238CBDD7850>, 'layer.0.attention-post': <refactor.utils.data.ActivationDataset object at 0x00000238CBDD48D0>, 'layer.0.layernorm_2-pre': <refactor.utils.data.ActivationDataset object at 0x00000238CBDD4950>, 'layer.0.mlp-pre': <refactor.utils.data.ActivationDataset object at 0x00000238CBDD49D0>, 'layer.0.mlp-post': <refactor.utils.data.ActivationDataset object at 0x00000238CBDD4AD0>, 'layer.1.layernorm_1-pre': <refactor.utils.data.ActivationDataset object at 0x00000238CBDD4B50>, 'layer.1.attention-pre': <refactor.utils.data.ActivationDataset object at 0x00000238CBDD4BD0>, 'layer.1.attention-post': <refactor.utils.data.ActivationDataset object at 0x00000238CBDD4C50>, 'layer.1.layernorm_2-pre': <refactor.utils.data.ActivationDataset object at 0x00000238CBDD4CD0>, 'layer.1.mlp-pre': <refactor.utils.data.ActivationDataset object at 0x00000238CBDD4D50>, 'layer.1.mlp-post': <refactor.utils.data.ActivationDataset object at 0x00000238CBDD6750>, 'layer.2.layernorm_1-pre': <refactor.utils.data.ActivationDataset object at 0x00000238CBDD4E50>, 'layer.2.attention-pre': <refactor.utils.data.ActivationDataset object at 0x00000238CBDD4ED0>, 'layer.2.attention-post': <refactor.utils.data.ActivationDataset object at 0x00000238CBDD4F50>, 'layer.2.layernorm_2-pre': <refactor.utils.data.ActivationDataset object at 0x00000238CBDD4FD0>, 'layer.2.mlp-pre': <refactor.utils.data.ActivationDataset object at 0x00000238CBDD66D0>, 'layer.2.mlp-post': <refactor.utils.data.ActivationDataset object at 0x00000238CBDD69D0>, 'layer.3.layernorm_1-pre': <refactor.utils.data.ActivationDataset object at 0x00000238CBDD4650>, 'layer.3.attention-pre': <refactor.utils.data.ActivationDataset object at 0x00000238CBDD77D0>, 'layer.3.attention-post': <refactor.utils.data.ActivationDataset object at 0x00000238CBDD6A50>, 'layer.3.layernorm_2-pre': <refactor.utils.data.ActivationDataset object at 0x00000238CBDD7BD0>, 'layer.3.mlp-pre': <refactor.utils.data.ActivationDataset object at 0x00000238CBDD6950>, 'layer.3.mlp-post': <refactor.utils.data.ActivationDataset object at 0x00000238CBDD7FD0>, 'layer.4.layernorm_1-pre': <refactor.utils.data.ActivationDataset object at 0x00000238CBDD7DD0>, 'layer.4.attention-pre': <refactor.utils.data.ActivationDataset object at 0x00000238CBDD46D0>, 'layer.4.attention-post': <refactor.utils.data.ActivationDataset object at 0x00000238CBDD47D0>, 'layer.4.layernorm_2-pre': <refactor.utils.data.ActivationDataset object at 0x00000238CBDD4850>, 'layer.4.mlp-pre': <refactor.utils.data.ActivationDataset object at 0x00000238CBDD45D0>, 'layer.4.mlp-post': <refactor.utils.data.ActivationDataset object at 0x00000238CBDD44D0>, 'layer.5.layernorm_1-pre': <refactor.utils.data.ActivationDataset object at 0x00000238CBDD4450>, 'layer.5.attention-pre': <refactor.utils.data.ActivationDataset object at 0x00000238CBDD43D0>, 'layer.5.attention-post': <refactor.utils.data.ActivationDataset object at 0x00000238CBDD4350>, 'layer.5.layernorm_2-pre': <refactor.utils.data.ActivationDataset object at 0x00000238CBDD42D0>, 'layer.5.mlp-pre': <refactor.utils.data.ActivationDataset object at 0x00000238CBDD4250>, 'layer.5.mlp-post': <refactor.utils.data.ActivationDataset object at 0x00000238CBDD4150>, 'layer.6.layernorm_1-pre': <refactor.utils.data.ActivationDataset object at 0x00000238CBDD40D0>, 'layer.6.attention-pre': <refactor.utils.data.ActivationDataset object at 0x00000238CBDD4050>, 'layer.6.attention-post': <refactor.utils.data.ActivationDataset object at 0x00000238F0D39D90>, 'layer.6.layernorm_2-pre': <refactor.utils.data.ActivationDataset object at 0x00000238CBD64910>, 'layer.6.mlp-pre': <refactor.utils.data.ActivationDataset object at 0x00000238CBD65A50>, 'layer.6.mlp-post': <refactor.utils.data.ActivationDataset object at 0x00000238CBD67F50>, 'layer.7.layernorm_1-pre': <refactor.utils.data.ActivationDataset object at 0x00000238CBD67E50>, 'layer.7.attention-pre': <refactor.utils.data.ActivationDataset object at 0x00000238CBD67DD0>, 'layer.7.attention-post': <refactor.utils.data.ActivationDataset object at 0x00000238CBD67D10>, 'layer.7.layernorm_2-pre': <refactor.utils.data.ActivationDataset object at 0x00000238CBD67C10>, 'layer.7.mlp-pre': <refactor.utils.data.ActivationDataset object at 0x00000238C2E9B310>, 'layer.7.mlp-post': <refactor.utils.data.ActivationDataset object at 0x00000238C30547D0>, 'layer.8.layernorm_1-pre': <refactor.utils.data.ActivationDataset object at 0x00000238C30E67D0>, 'layer.8.attention-pre': <refactor.utils.data.ActivationDataset object at 0x00000238C30E6ED0>, 'layer.8.attention-post': <refactor.utils.data.ActivationDataset object at 0x00000238C30E7A50>, 'layer.8.layernorm_2-pre': <refactor.utils.data.ActivationDataset object at 0x00000238C30E53D0>, 'layer.8.mlp-pre': <refactor.utils.data.ActivationDataset object at 0x00000238C30E4610>, 'layer.8.mlp-post': <refactor.utils.data.ActivationDataset object at 0x00000238C30DDA10>, 'layer.9.layernorm_1-pre': <refactor.utils.data.ActivationDataset object at 0x00000238C30DEF90>, 'layer.9.attention-pre': <refactor.utils.data.ActivationDataset object at 0x00000238C30DDD90>, 'layer.9.attention-post': <refactor.utils.data.ActivationDataset object at 0x00000238C30DD110>, 'layer.9.layernorm_2-pre': <refactor.utils.data.ActivationDataset object at 0x00000238C30DE390>, 'layer.9.mlp-pre': <refactor.utils.data.ActivationDataset object at 0x00000238C30DC610>, 'layer.9.mlp-post': <refactor.utils.data.ActivationDataset object at 0x00000238C30DC390>, 'layer.10.layernorm_1-pre': <refactor.utils.data.ActivationDataset object at 0x00000238CBDDE590>, 'layer.10.attention-pre': <refactor.utils.data.ActivationDataset object at 0x00000238CBDDE410>, 'layer.10.attention-post': <refactor.utils.data.ActivationDataset object at 0x00000238CBDDE290>, 'layer.10.layernorm_2-pre': <refactor.utils.data.ActivationDataset object at 0x00000238CBDDE110>, 'layer.10.mlp-pre': <refactor.utils.data.ActivationDataset object at 0x00000238CBDDDF90>, 'layer.10.mlp-post': <refactor.utils.data.ActivationDataset object at 0x00000238CBDDDE10>, 'layer.11.layernorm_1-pre': <refactor.utils.data.ActivationDataset object at 0x00000238CBDDDC90>, 'layer.11.attention-pre': <refactor.utils.data.ActivationDataset object at 0x00000238CBDDDB10>, 'layer.11.attention-post': <refactor.utils.data.ActivationDataset object at 0x00000238CBDDD990>, 'layer.11.layernorm_2-pre': <refactor.utils.data.ActivationDataset object at 0x00000238CBDDD810>, 'layer.11.mlp-pre': <refactor.utils.data.ActivationDataset object at 0x00000238CBDDD690>, 'layer.11.mlp-post': <refactor.utils.data.ActivationDataset object at 0x00000238CBDDD510>, 'layer.12.layernorm_1-pre': <refactor.utils.data.ActivationDataset object at 0x00000238CBDDD390>, 'layer.12.attention-pre': <refactor.utils.data.ActivationDataset object at 0x00000238CBDDD210>, 'layer.12.attention-post': <refactor.utils.data.ActivationDataset object at 0x00000238CBDDD090>, 'layer.12.layernorm_2-pre': <refactor.utils.data.ActivationDataset object at 0x00000238CBDDCF10>, 'layer.12.mlp-pre': <refactor.utils.data.ActivationDataset object at 0x00000238CBDDCD90>, 'layer.12.mlp-post': <refactor.utils.data.ActivationDataset object at 0x00000238CBDDCC10>, 'layer.13.layernorm_1-pre': <refactor.utils.data.ActivationDataset object at 0x00000238CBDDCA90>, 'layer.13.attention-pre': <refactor.utils.data.ActivationDataset object at 0x00000238CBDDC910>, 'layer.13.attention-post': <refactor.utils.data.ActivationDataset object at 0x00000238CBDDC790>, 'layer.13.layernorm_2-pre': <refactor.utils.data.ActivationDataset object at 0x00000238CBDDC610>, 'layer.13.mlp-pre': <refactor.utils.data.ActivationDataset object at 0x00000238CBDDC490>, 'layer.13.mlp-post': <refactor.utils.data.ActivationDataset object at 0x00000238CBDDC310>, 'layer.14.layernorm_1-pre': <refactor.utils.data.ActivationDataset object at 0x00000238CBDDC190>, 'layer.14.attention-pre': <refactor.utils.data.ActivationDataset object at 0x00000238CBDDFD10>, 'layer.14.attention-post': <refactor.utils.data.ActivationDataset object at 0x00000238CBDDF890>, 'layer.14.layernorm_2-pre': <refactor.utils.data.ActivationDataset object at 0x00000238CBDDFE50>, 'layer.14.mlp-pre': <refactor.utils.data.ActivationDataset object at 0x00000238CBDDF290>, 'layer.14.mlp-post': <refactor.utils.data.ActivationDataset object at 0x00000238CBDDFE90>, 'layer.15.layernorm_1-pre': <refactor.utils.data.ActivationDataset object at 0x00000238CBDDF810>, 'layer.15.attention-pre': <refactor.utils.data.ActivationDataset object at 0x00000238CBDDF150>, 'layer.15.attention-post': <refactor.utils.data.ActivationDataset object at 0x00000238CBDDEC90>, 'layer.15.layernorm_2-pre': <refactor.utils.data.ActivationDataset object at 0x00000238CBDDFB50>, 'layer.15.mlp-pre': <refactor.utils.data.ActivationDataset object at 0x00000238CBDDFF10>, 'layer.15.mlp-post': <refactor.utils.data.ActivationDataset object at 0x00000238CBDDFD50>, 'layer.16.layernorm_1-pre': <refactor.utils.data.ActivationDataset object at 0x00000238CBDDE750>, 'layer.16.attention-pre': <refactor.utils.data.ActivationDataset object at 0x00000238CBDDF050>, 'layer.16.attention-post': <refactor.utils.data.ActivationDataset object at 0x00000238CBDDF610>, 'layer.16.layernorm_2-pre': <refactor.utils.data.ActivationDataset object at 0x00000238CBDDE790>, 'layer.16.mlp-pre': <refactor.utils.data.ActivationDataset object at 0x00000238CBDDEA90>, 'layer.16.mlp-post': <refactor.utils.data.ActivationDataset object at 0x00000238CBDDF710>, 'layer.17.layernorm_1-pre': <refactor.utils.data.ActivationDataset object at 0x00000238CBDDEB90>, 'layer.17.attention-pre': <refactor.utils.data.ActivationDataset object at 0x00000238CBDDEBD0>, 'layer.17.attention-post': <refactor.utils.data.ActivationDataset object at 0x00000238CBDDFF50>, 'layer.17.layernorm_2-pre': <refactor.utils.data.ActivationDataset object at 0x00000238CBDDE8D0>, 'layer.17.mlp-pre': <refactor.utils.data.ActivationDataset object at 0x00000238CBDDEE90>, 'layer.17.mlp-post': <refactor.utils.data.ActivationDataset object at 0x00000238CBDDE710>, 'layer.18.layernorm_1-pre': <refactor.utils.data.ActivationDataset object at 0x00000238CBDDF790>, 'layer.18.attention-pre': <refactor.utils.data.ActivationDataset object at 0x00000238CBDDF110>, 'layer.18.attention-post': <refactor.utils.data.ActivationDataset object at 0x00000238CBDDF590>, 'layer.18.layernorm_2-pre': <refactor.utils.data.ActivationDataset object at 0x00000238CBDDF350>, 'layer.18.mlp-pre': <refactor.utils.data.ActivationDataset object at 0x00000238CBDDEB10>, 'layer.18.mlp-post': <refactor.utils.data.ActivationDataset object at 0x00000238CBDDEC50>, 'layer.19.layernorm_1-pre': <refactor.utils.data.ActivationDataset object at 0x00000238CBDDE850>, 'layer.19.attention-pre': <refactor.utils.data.ActivationDataset object at 0x00000238CBDDE990>, 'layer.19.attention-post': <refactor.utils.data.ActivationDataset object at 0x00000238CBDDF310>, 'layer.19.layernorm_2-pre': <refactor.utils.data.ActivationDataset object at 0x00000238CBDDF850>, 'layer.19.mlp-pre': <refactor.utils.data.ActivationDataset object at 0x00000238CBDDF490>, 'layer.19.mlp-post': <refactor.utils.data.ActivationDataset object at 0x00000238C2F38C10>, 'layer.20.layernorm_1-pre': <refactor.utils.data.ActivationDataset object at 0x00000238CBDA22D0>, 'layer.20.attention-pre': <refactor.utils.data.ActivationDataset object at 0x00000238CBDA0B50>, 'layer.20.attention-post': <refactor.utils.data.ActivationDataset object at 0x00000238CBDA0A90>, 'layer.20.layernorm_2-pre': <refactor.utils.data.ActivationDataset object at 0x00000238CBDA09D0>, 'layer.20.mlp-pre': <refactor.utils.data.ActivationDataset object at 0x00000238CBDA0910>, 'layer.20.mlp-post': <refactor.utils.data.ActivationDataset object at 0x00000238CBDA0850>, 'layer.21.layernorm_1-pre': <refactor.utils.data.ActivationDataset object at 0x00000238CBDA0790>, 'layer.21.attention-pre': <refactor.utils.data.ActivationDataset object at 0x00000238CBDA06D0>, 'layer.21.attention-post': <refactor.utils.data.ActivationDataset object at 0x00000238CBDA0610>, 'layer.21.layernorm_2-pre': <refactor.utils.data.ActivationDataset object at 0x00000238CBDA0550>, 'layer.21.mlp-pre': <refactor.utils.data.ActivationDataset object at 0x00000238CBDA0490>, 'layer.21.mlp-post': <refactor.utils.data.ActivationDataset object at 0x00000238CBDA03D0>, 'layer.22.layernorm_1-pre': <refactor.utils.data.ActivationDataset object at 0x00000238CBDA0310>, 'layer.22.attention-pre': <refactor.utils.data.ActivationDataset object at 0x00000238CBDA0250>, 'layer.22.attention-post': <refactor.utils.data.ActivationDataset object at 0x00000238CBDA0190>, 'layer.22.layernorm_2-pre': <refactor.utils.data.ActivationDataset object at 0x00000238CBDA00D0>, 'layer.22.mlp-pre': <refactor.utils.data.ActivationDataset object at 0x00000238CBDA3550>, 'layer.22.mlp-post': <refactor.utils.data.ActivationDataset object at 0x00000238CBDA2710>, 'layer.23.layernorm_1-pre': <refactor.utils.data.ActivationDataset object at 0x00000238CBDA2A50>, 'layer.23.attention-pre': <refactor.utils.data.ActivationDataset object at 0x00000238CBDA3E50>, 'layer.23.attention-post': <refactor.utils.data.ActivationDataset object at 0x00000238CBDA28D0>, 'layer.23.layernorm_2-pre': <refactor.utils.data.ActivationDataset object at 0x00000238CBDA3090>, 'layer.23.mlp-pre': <refactor.utils.data.ActivationDataset object at 0x00000238CBDA2410>, 'layer.23.mlp-post': <refactor.utils.data.ActivationDataset object at 0x00000238CBDA3310>}\n"
          ]
        }
      ],
      "source": [
        "create_neuron_contributions.main(model_name, model_name_temp,hook_points,24)"
      ]
    },
    {
      "cell_type": "code",
      "execution_count": 4,
      "metadata": {},
      "outputs": [
        {
          "name": "stdout",
          "output_type": "stream",
          "text": [
            "dict_keys([(0, 'attention-post'), (0, 'attention-pre'), (0, 'mlp-post'), (0, 'mlp-pre'), (0, 'layernorm_1-pre'), (0, 'layernorm_2-pre'), (1, 'attention-post'), (1, 'attention-pre'), (1, 'mlp-post'), (1, 'mlp-pre'), (1, 'layernorm_1-pre'), (1, 'layernorm_2-pre'), (2, 'attention-post'), (2, 'attention-pre'), (2, 'mlp-post'), (2, 'mlp-pre'), (2, 'layernorm_1-pre'), (2, 'layernorm_2-pre'), (3, 'attention-post'), (3, 'attention-pre'), (3, 'mlp-post'), (3, 'mlp-pre'), (3, 'layernorm_1-pre'), (3, 'layernorm_2-pre'), (4, 'attention-post'), (4, 'attention-pre'), (4, 'mlp-post'), (4, 'mlp-pre'), (4, 'layernorm_1-pre'), (4, 'layernorm_2-pre'), (5, 'attention-post'), (5, 'attention-pre'), (5, 'mlp-post'), (5, 'mlp-pre'), (5, 'layernorm_1-pre'), (5, 'layernorm_2-pre'), (6, 'attention-post'), (6, 'attention-pre'), (6, 'mlp-post'), (6, 'mlp-pre'), (6, 'layernorm_1-pre'), (6, 'layernorm_2-pre'), (7, 'attention-post'), (7, 'attention-pre'), (7, 'mlp-post'), (7, 'mlp-pre'), (7, 'layernorm_1-pre'), (7, 'layernorm_2-pre'), (8, 'attention-post'), (8, 'attention-pre'), (8, 'mlp-post'), (8, 'mlp-pre'), (8, 'layernorm_1-pre'), (8, 'layernorm_2-pre'), (9, 'attention-post'), (9, 'attention-pre'), (9, 'mlp-post'), (9, 'mlp-pre'), (9, 'layernorm_1-pre'), (9, 'layernorm_2-pre'), (10, 'attention-post'), (10, 'attention-pre'), (10, 'mlp-post'), (10, 'mlp-pre'), (10, 'layernorm_1-pre'), (10, 'layernorm_2-pre'), (11, 'attention-post'), (11, 'attention-pre'), (11, 'mlp-post'), (11, 'mlp-pre'), (11, 'layernorm_1-pre'), (11, 'layernorm_2-pre'), (12, 'attention-post'), (12, 'attention-pre'), (12, 'mlp-post'), (12, 'mlp-pre'), (12, 'layernorm_1-pre'), (12, 'layernorm_2-pre'), (13, 'attention-post'), (13, 'attention-pre'), (13, 'mlp-post'), (13, 'mlp-pre'), (13, 'layernorm_1-pre'), (13, 'layernorm_2-pre'), (14, 'attention-post'), (14, 'attention-pre'), (14, 'mlp-post'), (14, 'mlp-pre'), (14, 'layernorm_1-pre'), (14, 'layernorm_2-pre'), (15, 'attention-post'), (15, 'attention-pre'), (15, 'mlp-post'), (15, 'mlp-pre'), (15, 'layernorm_1-pre'), (15, 'layernorm_2-pre'), (16, 'attention-post'), (16, 'attention-pre'), (16, 'mlp-post'), (16, 'mlp-pre'), (16, 'layernorm_1-pre'), (16, 'layernorm_2-pre'), (17, 'attention-post'), (17, 'attention-pre'), (17, 'mlp-post'), (17, 'mlp-pre'), (17, 'layernorm_1-pre'), (17, 'layernorm_2-pre'), (18, 'attention-post'), (18, 'attention-pre'), (18, 'mlp-post'), (18, 'mlp-pre'), (18, 'layernorm_1-pre'), (18, 'layernorm_2-pre'), (19, 'attention-post'), (19, 'attention-pre'), (19, 'mlp-post'), (19, 'mlp-pre'), (19, 'layernorm_1-pre'), (19, 'layernorm_2-pre'), (20, 'attention-post'), (20, 'attention-pre'), (20, 'mlp-post'), (20, 'mlp-pre'), (20, 'layernorm_1-pre'), (20, 'layernorm_2-pre'), (21, 'attention-post'), (21, 'attention-pre'), (21, 'mlp-post'), (21, 'mlp-pre'), (21, 'layernorm_1-pre'), (21, 'layernorm_2-pre'), (22, 'attention-post'), (22, 'attention-pre'), (22, 'mlp-post'), (22, 'mlp-pre'), (22, 'layernorm_1-pre'), (22, 'layernorm_2-pre'), (23, 'attention-post'), (23, 'attention-pre'), (23, 'mlp-post'), (23, 'mlp-pre'), (23, 'layernorm_1-pre'), (23, 'layernorm_2-pre')])\n"
          ]
        },
        {
          "data": {
            "image/png": "[encoded data removed]",
            "text/plain": [
              "<Figure size 1000x500 with 1 Axes>"
            ]
          },
          "metadata": {},
          "output_type": "display_data"
        }
      ],
      "source": [
        "plot_outlier_neurons.main(4,hook_points, model_name_temp)"
      ]
    },
    {
      "cell_type": "markdown",
      "metadata": {},
      "source": [
        "## Text visualization"
      ]
    },
    {
      "cell_type": "code",
      "execution_count": null,
      "metadata": {},
      "outputs": [],
      "source": [
        "text = \"The cat (Felis catus), also referred to as the domestic cat or house cat, is a small domesticated carnivorous mammal. It is the only domesticated species of the family Felidae. Advances in archaeology and genetics have shown that the domestication of the cat occurred in the Near East around 7500 BC.\"\n",
        "\n",
        "text_visualization.main(model_name, model_name_temp,text,\"da\",15)"
      ]
    },
    {
      "cell_type": "code",
      "execution_count": null,
      "metadata": {},
      "outputs": [],
      "source": [
        "text = \"The cat (Felis catus), also referred to as the domestic cat or house cat, is a small domesticated carnivorous mammal. It is the only domesticated species of the family Felidae. Advances in archaeology and genetics have shown that the domestication of the cat occurred in the Near East around 7500 BC.\"\n",
        "for layer in range(24):\n",
        "    text_visualization.main(model_name, model_name_temp,text,\"en\",layer)\n",
        "text = \"Tamkatten (Felis catus[1][2] eller Felis silvestris catus[3]) er et lille, tæmmet, kødædende pattedyr oftest med pels. Den kaldes huskat eller bare kat, når der ikke er grund til at skelne den fra andre kattedyr. Katten er værdsat af mennesker for dens selskab og evne til at jage mus og rotter. Mange huskatte bliver op mod 20 år gamle.\"\n",
        "for layer in range(24):\n",
        "    text_visualization.main(model_name, model_name_temp,text,\"da\",layer)"
      ]
    },
    {
      "cell_type": "code",
      "execution_count": null,
      "metadata": {},
      "outputs": [],
      "source": []
    }
  ],
  "metadata": {
    "accelerator": "GPU",
    "colab": {
      "gpuType": "T4",
      "provenance": []
    },
    "kernelspec": {
      "display_name": "Python 3",
      "name": "python3"
    },
    "language_info": {
      "codemirror_mode": {
        "name": "ipython",
        "version": 3
      },
      "file_extension": ".py",
      "mimetype": "text/x-python",
      "name": "python",
      "nbconvert_exporter": "python",
      "pygments_lexer": "ipython3",
      "version": "3.11.2"
    },
    "widgets": {
      "application/vnd.jupyter.widget-state+json": {
        "03499a3b9ac84845ad7ec2c335be4cbb": {
          "model_module": "@jupyter-widgets/controls",
          "model_module_version": "1.5.0",
          "model_name": "HTMLModel",
          "state": {
            "_dom_classes": [],
            "_model_module": "@jupyter-widgets/controls",
            "_model_module_version": "1.5.0",
            "_model_name": "HTMLModel",
            "_view_count": null,
            "_view_module": "@jupyter-widgets/controls",
            "_view_module_version": "1.5.0",
            "_view_name": "HTMLView",
            "description": "",
            "description_tooltip": null,
            "layout": "IPY_MODEL_2b969751ce29457993189b0995a7bbc0",
            "placeholder": "​",
            "style": "IPY_MODEL_d03ae03ca7e14021ab568fe0d920977d",
            "value": "model.safetensors: 100%"
          }
        },
        "085ac0f6d46041b7825787b92d993746": {
          "model_module": "@jupyter-widgets/base",
          "model_module_version": "1.2.0",
          "model_name": "LayoutModel",
          "state": {
            "_model_module": "@jupyter-widgets/base",
            "_model_module_version": "1.2.0",
            "_model_name": "LayoutModel",
            "_view_count": null,
            "_view_module": "@jupyter-widgets/base",
            "_view_module_version": "1.2.0",
            "_view_name": "LayoutView",
            "align_content": null,
            "align_items": null,
            "align_self": null,
            "border": null,
            "bottom": null,
            "display": null,
            "flex": null,
            "flex_flow": null,
            "grid_area": null,
            "grid_auto_columns": null,
            "grid_auto_flow": null,
            "grid_auto_rows": null,
            "grid_column": null,
            "grid_gap": null,
            "grid_row": null,
            "grid_template_areas": null,
            "grid_template_columns": null,
            "grid_template_rows": null,
            "height": null,
            "justify_content": null,
            "justify_items": null,
            "left": null,
            "margin": null,
            "max_height": null,
            "max_width": null,
            "min_height": null,
            "min_width": null,
            "object_fit": null,
            "object_position": null,
            "order": null,
            "overflow": null,
            "overflow_x": null,
            "overflow_y": null,
            "padding": null,
            "right": null,
            "top": null,
            "visibility": null,
            "width": null
          }
        },
        "1172cb72b4cd4115aa5c06e7aee4ccb1": {
          "model_module": "@jupyter-widgets/base",
          "model_module_version": "1.2.0",
          "model_name": "LayoutModel",
          "state": {
            "_model_module": "@jupyter-widgets/base",
            "_model_module_version": "1.2.0",
            "_model_name": "LayoutModel",
            "_view_count": null,
            "_view_module": "@jupyter-widgets/base",
            "_view_module_version": "1.2.0",
            "_view_name": "LayoutView",
            "align_content": null,
            "align_items": null,
            "align_self": null,
            "border": null,
            "bottom": null,
            "display": null,
            "flex": null,
            "flex_flow": null,
            "grid_area": null,
            "grid_auto_columns": null,
            "grid_auto_flow": null,
            "grid_auto_rows": null,
            "grid_column": null,
            "grid_gap": null,
            "grid_row": null,
            "grid_template_areas": null,
            "grid_template_columns": null,
            "grid_template_rows": null,
            "height": null,
            "justify_content": null,
            "justify_items": null,
            "left": null,
            "margin": null,
            "max_height": null,
            "max_width": null,
            "min_height": null,
            "min_width": null,
            "object_fit": null,
            "object_position": null,
            "order": null,
            "overflow": null,
            "overflow_x": null,
            "overflow_y": null,
            "padding": null,
            "right": null,
            "top": null,
            "visibility": null,
            "width": null
          }
        },
        "190f19f1bc6f4d4999f61aa636cbc010": {
          "model_module": "@jupyter-widgets/base",
          "model_module_version": "1.2.0",
          "model_name": "LayoutModel",
          "state": {
            "_model_module": "@jupyter-widgets/base",
            "_model_module_version": "1.2.0",
            "_model_name": "LayoutModel",
            "_view_count": null,
            "_view_module": "@jupyter-widgets/base",
            "_view_module_version": "1.2.0",
            "_view_name": "LayoutView",
            "align_content": null,
            "align_items": null,
            "align_self": null,
            "border": null,
            "bottom": null,
            "display": null,
            "flex": null,
            "flex_flow": null,
            "grid_area": null,
            "grid_auto_columns": null,
            "grid_auto_flow": null,
            "grid_auto_rows": null,
            "grid_column": null,
            "grid_gap": null,
            "grid_row": null,
            "grid_template_areas": null,
            "grid_template_columns": null,
            "grid_template_rows": null,
            "height": null,
            "justify_content": null,
            "justify_items": null,
            "left": null,
            "margin": null,
            "max_height": null,
            "max_width": null,
            "min_height": null,
            "min_width": null,
            "object_fit": null,
            "object_position": null,
            "order": null,
            "overflow": null,
            "overflow_x": null,
            "overflow_y": null,
            "padding": null,
            "right": null,
            "top": null,
            "visibility": null,
            "width": null
          }
        },
        "1abf004f52604d4aab8c1669a8b23dfa": {
          "model_module": "@jupyter-widgets/base",
          "model_module_version": "1.2.0",
          "model_name": "LayoutModel",
          "state": {
            "_model_module": "@jupyter-widgets/base",
            "_model_module_version": "1.2.0",
            "_model_name": "LayoutModel",
            "_view_count": null,
            "_view_module": "@jupyter-widgets/base",
            "_view_module_version": "1.2.0",
            "_view_name": "LayoutView",
            "align_content": null,
            "align_items": null,
            "align_self": null,
            "border": null,
            "bottom": null,
            "display": null,
            "flex": null,
            "flex_flow": null,
            "grid_area": null,
            "grid_auto_columns": null,
            "grid_auto_flow": null,
            "grid_auto_rows": null,
            "grid_column": null,
            "grid_gap": null,
            "grid_row": null,
            "grid_template_areas": null,
            "grid_template_columns": null,
            "grid_template_rows": null,
            "height": null,
            "justify_content": null,
            "justify_items": null,
            "left": null,
            "margin": null,
            "max_height": null,
            "max_width": null,
            "min_height": null,
            "min_width": null,
            "object_fit": null,
            "object_position": null,
            "order": null,
            "overflow": null,
            "overflow_x": null,
            "overflow_y": null,
            "padding": null,
            "right": null,
            "top": null,
            "visibility": null,
            "width": null
          }
        },
        "2b969751ce29457993189b0995a7bbc0": {
          "model_module": "@jupyter-widgets/base",
          "model_module_version": "1.2.0",
          "model_name": "LayoutModel",
          "state": {
            "_model_module": "@jupyter-widgets/base",
            "_model_module_version": "1.2.0",
            "_model_name": "LayoutModel",
            "_view_count": null,
            "_view_module": "@jupyter-widgets/base",
            "_view_module_version": "1.2.0",
            "_view_name": "LayoutView",
            "align_content": null,
            "align_items": null,
            "align_self": null,
            "border": null,
            "bottom": null,
            "display": null,
            "flex": null,
            "flex_flow": null,
            "grid_area": null,
            "grid_auto_columns": null,
            "grid_auto_flow": null,
            "grid_auto_rows": null,
            "grid_column": null,
            "grid_gap": null,
            "grid_row": null,
            "grid_template_areas": null,
            "grid_template_columns": null,
            "grid_template_rows": null,
            "height": null,
            "justify_content": null,
            "justify_items": null,
            "left": null,
            "margin": null,
            "max_height": null,
            "max_width": null,
            "min_height": null,
            "min_width": null,
            "object_fit": null,
            "object_position": null,
            "order": null,
            "overflow": null,
            "overflow_x": null,
            "overflow_y": null,
            "padding": null,
            "right": null,
            "top": null,
            "visibility": null,
            "width": null
          }
        },
        "343f3072c0c941f79e055c95726f566e": {
          "model_module": "@jupyter-widgets/controls",
          "model_module_version": "1.5.0",
          "model_name": "HTMLModel",
          "state": {
            "_dom_classes": [],
            "_model_module": "@jupyter-widgets/controls",
            "_model_module_version": "1.5.0",
            "_model_name": "HTMLModel",
            "_view_count": null,
            "_view_module": "@jupyter-widgets/controls",
            "_view_module_version": "1.5.0",
            "_view_name": "HTMLView",
            "description": "",
            "description_tooltip": null,
            "layout": "IPY_MODEL_1172cb72b4cd4115aa5c06e7aee4ccb1",
            "placeholder": "​",
            "style": "IPY_MODEL_73cf52b6ac22445babe73cb94fe22ca7",
            "value": " 955/955 [00:00&lt;00:00, 55.4kB/s]"
          }
        },
        "4214759994b04682a54ab1028ec1ba45": {
          "model_module": "@jupyter-widgets/controls",
          "model_module_version": "1.5.0",
          "model_name": "HTMLModel",
          "state": {
            "_dom_classes": [],
            "_model_module": "@jupyter-widgets/controls",
            "_model_module_version": "1.5.0",
            "_model_name": "HTMLModel",
            "_view_count": null,
            "_view_module": "@jupyter-widgets/controls",
            "_view_module_version": "1.5.0",
            "_view_name": "HTMLView",
            "description": "",
            "description_tooltip": null,
            "layout": "IPY_MODEL_085ac0f6d46041b7825787b92d993746",
            "placeholder": "​",
            "style": "IPY_MODEL_c4153e30acff41edac9c2d64c223c377",
            "value": " 1.58G/1.58G [00:08&lt;00:00, 179MB/s]"
          }
        },
        "4a4be75a05884714b7c3d53c45d1c94d": {
          "model_module": "@jupyter-widgets/base",
          "model_module_version": "1.2.0",
          "model_name": "LayoutModel",
          "state": {
            "_model_module": "@jupyter-widgets/base",
            "_model_module_version": "1.2.0",
            "_model_name": "LayoutModel",
            "_view_count": null,
            "_view_module": "@jupyter-widgets/base",
            "_view_module_version": "1.2.0",
            "_view_name": "LayoutView",
            "align_content": null,
            "align_items": null,
            "align_self": null,
            "border": null,
            "bottom": null,
            "display": null,
            "flex": null,
            "flex_flow": null,
            "grid_area": null,
            "grid_auto_columns": null,
            "grid_auto_flow": null,
            "grid_auto_rows": null,
            "grid_column": null,
            "grid_gap": null,
            "grid_row": null,
            "grid_template_areas": null,
            "grid_template_columns": null,
            "grid_template_rows": null,
            "height": null,
            "justify_content": null,
            "justify_items": null,
            "left": null,
            "margin": null,
            "max_height": null,
            "max_width": null,
            "min_height": null,
            "min_width": null,
            "object_fit": null,
            "object_position": null,
            "order": null,
            "overflow": null,
            "overflow_x": null,
            "overflow_y": null,
            "padding": null,
            "right": null,
            "top": null,
            "visibility": null,
            "width": null
          }
        },
        "4bf2755aa2b74c59804dec23f09325a8": {
          "model_module": "@jupyter-widgets/controls",
          "model_module_version": "1.5.0",
          "model_name": "HTMLModel",
          "state": {
            "_dom_classes": [],
            "_model_module": "@jupyter-widgets/controls",
            "_model_module_version": "1.5.0",
            "_model_name": "HTMLModel",
            "_view_count": null,
            "_view_module": "@jupyter-widgets/controls",
            "_view_module_version": "1.5.0",
            "_view_name": "HTMLView",
            "description": "",
            "description_tooltip": null,
            "layout": "IPY_MODEL_190f19f1bc6f4d4999f61aa636cbc010",
            "placeholder": "​",
            "style": "IPY_MODEL_b73c7c1b89e84091af39b780e1b839b6",
            "value": " 1.07M/1.07M [00:00&lt;00:00, 10.0MB/s]"
          }
        },
        "5be9a663b8404368becba86cccbcc7f4": {
          "model_module": "@jupyter-widgets/base",
          "model_module_version": "1.2.0",
          "model_name": "LayoutModel",
          "state": {
            "_model_module": "@jupyter-widgets/base",
            "_model_module_version": "1.2.0",
            "_model_name": "LayoutModel",
            "_view_count": null,
            "_view_module": "@jupyter-widgets/base",
            "_view_module_version": "1.2.0",
            "_view_name": "LayoutView",
            "align_content": null,
            "align_items": null,
            "align_self": null,
            "border": null,
            "bottom": null,
            "display": null,
            "flex": null,
            "flex_flow": null,
            "grid_area": null,
            "grid_auto_columns": null,
            "grid_auto_flow": null,
            "grid_auto_rows": null,
            "grid_column": null,
            "grid_gap": null,
            "grid_row": null,
            "grid_template_areas": null,
            "grid_template_columns": null,
            "grid_template_rows": null,
            "height": null,
            "justify_content": null,
            "justify_items": null,
            "left": null,
            "margin": null,
            "max_height": null,
            "max_width": null,
            "min_height": null,
            "min_width": null,
            "object_fit": null,
            "object_position": null,
            "order": null,
            "overflow": null,
            "overflow_x": null,
            "overflow_y": null,
            "padding": null,
            "right": null,
            "top": null,
            "visibility": null,
            "width": null
          }
        },
        "61ab02d68dc444d2af055a15eeecf7e9": {
          "model_module": "@jupyter-widgets/controls",
          "model_module_version": "1.5.0",
          "model_name": "ProgressStyleModel",
          "state": {
            "_model_module": "@jupyter-widgets/controls",
            "_model_module_version": "1.5.0",
            "_model_name": "ProgressStyleModel",
            "_view_count": null,
            "_view_module": "@jupyter-widgets/base",
            "_view_module_version": "1.2.0",
            "_view_name": "StyleView",
            "bar_color": null,
            "description_width": ""
          }
        },
        "6ee095f0edb1483183388b61adc94a41": {
          "model_module": "@jupyter-widgets/controls",
          "model_module_version": "1.5.0",
          "model_name": "HTMLModel",
          "state": {
            "_dom_classes": [],
            "_model_module": "@jupyter-widgets/controls",
            "_model_module_version": "1.5.0",
            "_model_name": "HTMLModel",
            "_view_count": null,
            "_view_module": "@jupyter-widgets/controls",
            "_view_module_version": "1.5.0",
            "_view_name": "HTMLView",
            "description": "",
            "description_tooltip": null,
            "layout": "IPY_MODEL_5be9a663b8404368becba86cccbcc7f4",
            "placeholder": "​",
            "style": "IPY_MODEL_9fac377c145f4842bd68f357449ff384",
            "value": "spiece.model: 100%"
          }
        },
        "7330803a4e2b4535b0ea49954ca706f4": {
          "model_module": "@jupyter-widgets/controls",
          "model_module_version": "1.5.0",
          "model_name": "HBoxModel",
          "state": {
            "_dom_classes": [],
            "_model_module": "@jupyter-widgets/controls",
            "_model_module_version": "1.5.0",
            "_model_name": "HBoxModel",
            "_view_count": null,
            "_view_module": "@jupyter-widgets/controls",
            "_view_module_version": "1.5.0",
            "_view_name": "HBoxView",
            "box_style": "",
            "children": [
              "IPY_MODEL_780be0a5f9a141c4befcee95029add72",
              "IPY_MODEL_bce9edf1290441bc96f86c5468c67dee",
              "IPY_MODEL_343f3072c0c941f79e055c95726f566e"
            ],
            "layout": "IPY_MODEL_d043cd861143434a8b6fd97d2f8b29dc"
          }
        },
        "73cf52b6ac22445babe73cb94fe22ca7": {
          "model_module": "@jupyter-widgets/controls",
          "model_module_version": "1.5.0",
          "model_name": "DescriptionStyleModel",
          "state": {
            "_model_module": "@jupyter-widgets/controls",
            "_model_module_version": "1.5.0",
            "_model_name": "DescriptionStyleModel",
            "_view_count": null,
            "_view_module": "@jupyter-widgets/base",
            "_view_module_version": "1.2.0",
            "_view_name": "StyleView",
            "description_width": ""
          }
        },
        "780be0a5f9a141c4befcee95029add72": {
          "model_module": "@jupyter-widgets/controls",
          "model_module_version": "1.5.0",
          "model_name": "HTMLModel",
          "state": {
            "_dom_classes": [],
            "_model_module": "@jupyter-widgets/controls",
            "_model_module_version": "1.5.0",
            "_model_name": "HTMLModel",
            "_view_count": null,
            "_view_module": "@jupyter-widgets/controls",
            "_view_module_version": "1.5.0",
            "_view_name": "HTMLView",
            "description": "",
            "description_tooltip": null,
            "layout": "IPY_MODEL_7971a32ccbf5400fae96d71e6ef020a2",
            "placeholder": "​",
            "style": "IPY_MODEL_819c698f9a564f4d9f9b3c54daa24e82",
            "value": "config.json: 100%"
          }
        },
        "7971a32ccbf5400fae96d71e6ef020a2": {
          "model_module": "@jupyter-widgets/base",
          "model_module_version": "1.2.0",
          "model_name": "LayoutModel",
          "state": {
            "_model_module": "@jupyter-widgets/base",
            "_model_module_version": "1.2.0",
            "_model_name": "LayoutModel",
            "_view_count": null,
            "_view_module": "@jupyter-widgets/base",
            "_view_module_version": "1.2.0",
            "_view_name": "LayoutView",
            "align_content": null,
            "align_items": null,
            "align_self": null,
            "border": null,
            "bottom": null,
            "display": null,
            "flex": null,
            "flex_flow": null,
            "grid_area": null,
            "grid_auto_columns": null,
            "grid_auto_flow": null,
            "grid_auto_rows": null,
            "grid_column": null,
            "grid_gap": null,
            "grid_row": null,
            "grid_template_areas": null,
            "grid_template_columns": null,
            "grid_template_rows": null,
            "height": null,
            "justify_content": null,
            "justify_items": null,
            "left": null,
            "margin": null,
            "max_height": null,
            "max_width": null,
            "min_height": null,
            "min_width": null,
            "object_fit": null,
            "object_position": null,
            "order": null,
            "overflow": null,
            "overflow_x": null,
            "overflow_y": null,
            "padding": null,
            "right": null,
            "top": null,
            "visibility": null,
            "width": null
          }
        },
        "7d762fc225c443ce8eddbee3628e24a1": {
          "model_module": "@jupyter-widgets/controls",
          "model_module_version": "1.5.0",
          "model_name": "FloatProgressModel",
          "state": {
            "_dom_classes": [],
            "_model_module": "@jupyter-widgets/controls",
            "_model_module_version": "1.5.0",
            "_model_name": "FloatProgressModel",
            "_view_count": null,
            "_view_module": "@jupyter-widgets/controls",
            "_view_module_version": "1.5.0",
            "_view_name": "ProgressView",
            "bar_style": "success",
            "description": "",
            "description_tooltip": null,
            "layout": "IPY_MODEL_ae48b175f18c4c58bb3566bdf911e400",
            "max": 1580476856,
            "min": 0,
            "orientation": "horizontal",
            "style": "IPY_MODEL_d0a0fb1b0e954fe2a69c7e172d57f790",
            "value": 1580476856
          }
        },
        "819c698f9a564f4d9f9b3c54daa24e82": {
          "model_module": "@jupyter-widgets/controls",
          "model_module_version": "1.5.0",
          "model_name": "DescriptionStyleModel",
          "state": {
            "_model_module": "@jupyter-widgets/controls",
            "_model_module_version": "1.5.0",
            "_model_name": "DescriptionStyleModel",
            "_view_count": null,
            "_view_module": "@jupyter-widgets/base",
            "_view_module_version": "1.2.0",
            "_view_name": "StyleView",
            "description_width": ""
          }
        },
        "87fcf5a922da4c6691b34f83b4d98832": {
          "model_module": "@jupyter-widgets/base",
          "model_module_version": "1.2.0",
          "model_name": "LayoutModel",
          "state": {
            "_model_module": "@jupyter-widgets/base",
            "_model_module_version": "1.2.0",
            "_model_name": "LayoutModel",
            "_view_count": null,
            "_view_module": "@jupyter-widgets/base",
            "_view_module_version": "1.2.0",
            "_view_name": "LayoutView",
            "align_content": null,
            "align_items": null,
            "align_self": null,
            "border": null,
            "bottom": null,
            "display": null,
            "flex": null,
            "flex_flow": null,
            "grid_area": null,
            "grid_auto_columns": null,
            "grid_auto_flow": null,
            "grid_auto_rows": null,
            "grid_column": null,
            "grid_gap": null,
            "grid_row": null,
            "grid_template_areas": null,
            "grid_template_columns": null,
            "grid_template_rows": null,
            "height": null,
            "justify_content": null,
            "justify_items": null,
            "left": null,
            "margin": null,
            "max_height": null,
            "max_width": null,
            "min_height": null,
            "min_width": null,
            "object_fit": null,
            "object_position": null,
            "order": null,
            "overflow": null,
            "overflow_x": null,
            "overflow_y": null,
            "padding": null,
            "right": null,
            "top": null,
            "visibility": null,
            "width": null
          }
        },
        "9e2b9134ec50411c8ca5756c4b19d41d": {
          "model_module": "@jupyter-widgets/controls",
          "model_module_version": "1.5.0",
          "model_name": "HBoxModel",
          "state": {
            "_dom_classes": [],
            "_model_module": "@jupyter-widgets/controls",
            "_model_module_version": "1.5.0",
            "_model_name": "HBoxModel",
            "_view_count": null,
            "_view_module": "@jupyter-widgets/controls",
            "_view_module_version": "1.5.0",
            "_view_name": "HBoxView",
            "box_style": "",
            "children": [
              "IPY_MODEL_03499a3b9ac84845ad7ec2c335be4cbb",
              "IPY_MODEL_7d762fc225c443ce8eddbee3628e24a1",
              "IPY_MODEL_4214759994b04682a54ab1028ec1ba45"
            ],
            "layout": "IPY_MODEL_ca9b66aea43d4c7a948f7a3a8bad26cf"
          }
        },
        "9ef015da95f44c36806ddb599bdbafcd": {
          "model_module": "@jupyter-widgets/controls",
          "model_module_version": "1.5.0",
          "model_name": "FloatProgressModel",
          "state": {
            "_dom_classes": [],
            "_model_module": "@jupyter-widgets/controls",
            "_model_module_version": "1.5.0",
            "_model_name": "FloatProgressModel",
            "_view_count": null,
            "_view_module": "@jupyter-widgets/controls",
            "_view_module_version": "1.5.0",
            "_view_name": "ProgressView",
            "bar_style": "success",
            "description": "",
            "description_tooltip": null,
            "layout": "IPY_MODEL_87fcf5a922da4c6691b34f83b4d98832",
            "max": 1071955,
            "min": 0,
            "orientation": "horizontal",
            "style": "IPY_MODEL_61ab02d68dc444d2af055a15eeecf7e9",
            "value": 1071955
          }
        },
        "9fac377c145f4842bd68f357449ff384": {
          "model_module": "@jupyter-widgets/controls",
          "model_module_version": "1.5.0",
          "model_name": "DescriptionStyleModel",
          "state": {
            "_model_module": "@jupyter-widgets/controls",
            "_model_module_version": "1.5.0",
            "_model_name": "DescriptionStyleModel",
            "_view_count": null,
            "_view_module": "@jupyter-widgets/base",
            "_view_module_version": "1.2.0",
            "_view_name": "StyleView",
            "description_width": ""
          }
        },
        "ae48b175f18c4c58bb3566bdf911e400": {
          "model_module": "@jupyter-widgets/base",
          "model_module_version": "1.2.0",
          "model_name": "LayoutModel",
          "state": {
            "_model_module": "@jupyter-widgets/base",
            "_model_module_version": "1.2.0",
            "_model_name": "LayoutModel",
            "_view_count": null,
            "_view_module": "@jupyter-widgets/base",
            "_view_module_version": "1.2.0",
            "_view_name": "LayoutView",
            "align_content": null,
            "align_items": null,
            "align_self": null,
            "border": null,
            "bottom": null,
            "display": null,
            "flex": null,
            "flex_flow": null,
            "grid_area": null,
            "grid_auto_columns": null,
            "grid_auto_flow": null,
            "grid_auto_rows": null,
            "grid_column": null,
            "grid_gap": null,
            "grid_row": null,
            "grid_template_areas": null,
            "grid_template_columns": null,
            "grid_template_rows": null,
            "height": null,
            "justify_content": null,
            "justify_items": null,
            "left": null,
            "margin": null,
            "max_height": null,
            "max_width": null,
            "min_height": null,
            "min_width": null,
            "object_fit": null,
            "object_position": null,
            "order": null,
            "overflow": null,
            "overflow_x": null,
            "overflow_y": null,
            "padding": null,
            "right": null,
            "top": null,
            "visibility": null,
            "width": null
          }
        },
        "b73c7c1b89e84091af39b780e1b839b6": {
          "model_module": "@jupyter-widgets/controls",
          "model_module_version": "1.5.0",
          "model_name": "DescriptionStyleModel",
          "state": {
            "_model_module": "@jupyter-widgets/controls",
            "_model_module_version": "1.5.0",
            "_model_name": "DescriptionStyleModel",
            "_view_count": null,
            "_view_module": "@jupyter-widgets/base",
            "_view_module_version": "1.2.0",
            "_view_name": "StyleView",
            "description_width": ""
          }
        },
        "bce9edf1290441bc96f86c5468c67dee": {
          "model_module": "@jupyter-widgets/controls",
          "model_module_version": "1.5.0",
          "model_name": "FloatProgressModel",
          "state": {
            "_dom_classes": [],
            "_model_module": "@jupyter-widgets/controls",
            "_model_module_version": "1.5.0",
            "_model_name": "FloatProgressModel",
            "_view_count": null,
            "_view_module": "@jupyter-widgets/controls",
            "_view_module_version": "1.5.0",
            "_view_name": "ProgressView",
            "bar_style": "success",
            "description": "",
            "description_tooltip": null,
            "layout": "IPY_MODEL_1abf004f52604d4aab8c1669a8b23dfa",
            "max": 955,
            "min": 0,
            "orientation": "horizontal",
            "style": "IPY_MODEL_c171764981484b8086e820a00d641baa",
            "value": 955
          }
        },
        "c171764981484b8086e820a00d641baa": {
          "model_module": "@jupyter-widgets/controls",
          "model_module_version": "1.5.0",
          "model_name": "ProgressStyleModel",
          "state": {
            "_model_module": "@jupyter-widgets/controls",
            "_model_module_version": "1.5.0",
            "_model_name": "ProgressStyleModel",
            "_view_count": null,
            "_view_module": "@jupyter-widgets/base",
            "_view_module_version": "1.2.0",
            "_view_name": "StyleView",
            "bar_color": null,
            "description_width": ""
          }
        },
        "c4153e30acff41edac9c2d64c223c377": {
          "model_module": "@jupyter-widgets/controls",
          "model_module_version": "1.5.0",
          "model_name": "DescriptionStyleModel",
          "state": {
            "_model_module": "@jupyter-widgets/controls",
            "_model_module_version": "1.5.0",
            "_model_name": "DescriptionStyleModel",
            "_view_count": null,
            "_view_module": "@jupyter-widgets/base",
            "_view_module_version": "1.2.0",
            "_view_name": "StyleView",
            "description_width": ""
          }
        },
        "ca9b66aea43d4c7a948f7a3a8bad26cf": {
          "model_module": "@jupyter-widgets/base",
          "model_module_version": "1.2.0",
          "model_name": "LayoutModel",
          "state": {
            "_model_module": "@jupyter-widgets/base",
            "_model_module_version": "1.2.0",
            "_model_name": "LayoutModel",
            "_view_count": null,
            "_view_module": "@jupyter-widgets/base",
            "_view_module_version": "1.2.0",
            "_view_name": "LayoutView",
            "align_content": null,
            "align_items": null,
            "align_self": null,
            "border": null,
            "bottom": null,
            "display": null,
            "flex": null,
            "flex_flow": null,
            "grid_area": null,
            "grid_auto_columns": null,
            "grid_auto_flow": null,
            "grid_auto_rows": null,
            "grid_column": null,
            "grid_gap": null,
            "grid_row": null,
            "grid_template_areas": null,
            "grid_template_columns": null,
            "grid_template_rows": null,
            "height": null,
            "justify_content": null,
            "justify_items": null,
            "left": null,
            "margin": null,
            "max_height": null,
            "max_width": null,
            "min_height": null,
            "min_width": null,
            "object_fit": null,
            "object_position": null,
            "order": null,
            "overflow": null,
            "overflow_x": null,
            "overflow_y": null,
            "padding": null,
            "right": null,
            "top": null,
            "visibility": null,
            "width": null
          }
        },
        "d03ae03ca7e14021ab568fe0d920977d": {
          "model_module": "@jupyter-widgets/controls",
          "model_module_version": "1.5.0",
          "model_name": "DescriptionStyleModel",
          "state": {
            "_model_module": "@jupyter-widgets/controls",
            "_model_module_version": "1.5.0",
            "_model_name": "DescriptionStyleModel",
            "_view_count": null,
            "_view_module": "@jupyter-widgets/base",
            "_view_module_version": "1.2.0",
            "_view_name": "StyleView",
            "description_width": ""
          }
        },
        "d043cd861143434a8b6fd97d2f8b29dc": {
          "model_module": "@jupyter-widgets/base",
          "model_module_version": "1.2.0",
          "model_name": "LayoutModel",
          "state": {
            "_model_module": "@jupyter-widgets/base",
            "_model_module_version": "1.2.0",
            "_model_name": "LayoutModel",
            "_view_count": null,
            "_view_module": "@jupyter-widgets/base",
            "_view_module_version": "1.2.0",
            "_view_name": "LayoutView",
            "align_content": null,
            "align_items": null,
            "align_self": null,
            "border": null,
            "bottom": null,
            "display": null,
            "flex": null,
            "flex_flow": null,
            "grid_area": null,
            "grid_auto_columns": null,
            "grid_auto_flow": null,
            "grid_auto_rows": null,
            "grid_column": null,
            "grid_gap": null,
            "grid_row": null,
            "grid_template_areas": null,
            "grid_template_columns": null,
            "grid_template_rows": null,
            "height": null,
            "justify_content": null,
            "justify_items": null,
            "left": null,
            "margin": null,
            "max_height": null,
            "max_width": null,
            "min_height": null,
            "min_width": null,
            "object_fit": null,
            "object_position": null,
            "order": null,
            "overflow": null,
            "overflow_x": null,
            "overflow_y": null,
            "padding": null,
            "right": null,
            "top": null,
            "visibility": null,
            "width": null
          }
        },
        "d0a0fb1b0e954fe2a69c7e172d57f790": {
          "model_module": "@jupyter-widgets/controls",
          "model_module_version": "1.5.0",
          "model_name": "ProgressStyleModel",
          "state": {
            "_model_module": "@jupyter-widgets/controls",
            "_model_module_version": "1.5.0",
            "_model_name": "ProgressStyleModel",
            "_view_count": null,
            "_view_module": "@jupyter-widgets/base",
            "_view_module_version": "1.2.0",
            "_view_name": "StyleView",
            "bar_color": null,
            "description_width": ""
          }
        },
        "da66bd0741ce4b89807f3d055d695be8": {
          "model_module": "@jupyter-widgets/controls",
          "model_module_version": "1.5.0",
          "model_name": "HBoxModel",
          "state": {
            "_dom_classes": [],
            "_model_module": "@jupyter-widgets/controls",
            "_model_module_version": "1.5.0",
            "_model_name": "HBoxModel",
            "_view_count": null,
            "_view_module": "@jupyter-widgets/controls",
            "_view_module_version": "1.5.0",
            "_view_name": "HBoxView",
            "box_style": "",
            "children": [
              "IPY_MODEL_6ee095f0edb1483183388b61adc94a41",
              "IPY_MODEL_9ef015da95f44c36806ddb599bdbafcd",
              "IPY_MODEL_4bf2755aa2b74c59804dec23f09325a8"
            ],
            "layout": "IPY_MODEL_4a4be75a05884714b7c3d53c45d1c94d"
          }
        }
      }
    }
  },
  "nbformat": 4,
  "nbformat_minor": 0
}
