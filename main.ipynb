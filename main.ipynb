{
 "cells": [
  {
   "cell_type": "code",
   "execution_count": null,
   "id": "9fd4c626",
   "metadata": {},
   "outputs": [],
   "source": [
    "import os\n",
    "\n",
    "try:\n",
    "    has_changed_dir\n",
    "except:\n",
    "    has_changed_dir = False\n",
    "\n",
    "try:\n",
    "    import google.colab\n",
    "    IN_COLAB = True\n",
    "    print(\"Running as a Colab notebook\")\n",
    "except:\n",
    "    IN_COLAB = False\n",
    "\n",
    "if IN_COLAB:\n",
    "    %pip install datasets\n",
    "    %pip install translate-toolkit\n",
    "    %pip install fasttext\n",
    "\n",
    "    !git clone https://github.com/MartinKirkegaardDK/KDS_MI.git\n",
    "\n",
    "    if not has_changed_dir:\n",
    "        os.chdir('KDS_MI')\n",
    "        has_changed_dir = True\n",
    "else:\n",
    "    if not has_changed_dir:\n",
    "        os.chdir('.')\n",
    "        has_changed_dir = True"
   ]
  },
  {
   "cell_type": "code",
   "execution_count": null,
   "id": "46e33cf2",
   "metadata": {},
   "outputs": [],
   "source": [
    "%load_ext autoreload\n",
    "%autoreload 2"
   ]
  },
  {
   "cell_type": "markdown",
   "id": "2c8ca38e",
   "metadata": {},
   "source": [
    "## Settings"
   ]
  },
  {
   "cell_type": "code",
   "execution_count": null,
   "id": "395c74b4",
   "metadata": {},
   "outputs": [],
   "source": [
    "# whether to compute or just plot\n",
    "\n",
    "compute = False\n",
    "\n",
    "# which model to use\n",
    "\n",
    "model_name=\"downloaded_models/gpt_gptsw3_en_da_is_356m_gbs1024\"\n",
    "model_name = \"EleutherAI/pythia-14m\"\n",
    "model_name = \"AI-Sweden-Models/gpt-sw3-356m\"\n",
    "\n",
    "# which device\n",
    "\n",
    "device = \"cuda\"\n",
    "\n",
    "# which hook points\n",
    "\n",
    "hook_points = [\"layernorm_1-pre\",\"attention-pre\",\"attention-post\",\"layernorm_2-pre\",\"mlp-pre\",\"mlp-post\"]\n",
    "\n",
    "\n",
    "# which languages to run\n",
    "\n",
    "all_languages = [\"nb\",\"is\",\"da\",\"en\",\"sv\"]\n",
    "\n",
    "not_target_languages = []\n",
    "target = \"da\"\n",
    "\n",
    "if \"download\" in model_name:\n",
    "    model_name_temp = model_name.split(\"/\")[-1]\n",
    "    for split in model_name.split(\"_\"):\n",
    "        if (split in all_languages) and (split !=target):\n",
    "            not_target_languages.append(split)\n",
    "else:\n",
    "    \n",
    "    model_name_temp = model_name.split(\"/\")[-1]\n",
    "    model_name_temp = model_name_temp.replace(\"-\",\"_\")\n",
    "    not_target_languages = [lang for lang in all_languages if lang != target]\n",
    "\n",
    "\n",
    "\n",
    "\n",
    "\n",
    "\n",
    "\n",
    "\n",
    "\n"
   ]
  },
  {
   "cell_type": "code",
   "execution_count": null,
   "id": "b725f2af",
   "metadata": {},
   "outputs": [],
   "source": [
    "from src import (\n",
    "    PCA,\n",
    "    probe_confidence_intervals,\n",
    "    plot_probes,\n",
    "    make_steering_vectors,\n",
    "    distance_plots,\n",
    "    steering_loss,\n",
    "    create_bible_data,\n",
    "    process_bible_data,\n",
    "    visualize_bible_study,\n",
    "    scandeval_results,\n",
    "    create_neuron_contributions,\n",
    "    plot_outlier_neurons,\n",
    "    text_visualization,\n",
    "    logit_lens\n",
    ")\n",
    "\n",
    "from src.utils.new.data import load_bible_data\n",
    "\n",
    "from transformers import AutoModelForCausalLM, AutoTokenizer"
   ]
  },
  {
   "cell_type": "markdown",
   "id": "f8ed594b",
   "metadata": {},
   "source": [
    "## Representation Identification"
   ]
  },
  {
   "cell_type": "markdown",
   "id": "56597b74",
   "metadata": {},
   "source": [
    "### Principal Component Analysis"
   ]
  },
  {
   "cell_type": "code",
   "execution_count": null,
   "id": "dc2868e4",
   "metadata": {},
   "outputs": [],
   "source": [
    "PCA.main(\n",
    "    model_url=model_name,\n",
    "    device=device,\n",
    "    out_file='pythia.png'\n",
    ")"
   ]
  },
  {
   "cell_type": "markdown",
   "id": "29b47bb2",
   "metadata": {},
   "source": [
    "### Distance Between Activations"
   ]
  },
  {
   "cell_type": "code",
   "execution_count": null,
   "id": "dcb87f8a",
   "metadata": {},
   "outputs": [],
   "source": [
    "distance_plots.run(\n",
    "    model_name_temp, \n",
    "    target,\n",
    "    f\"steering_vectors/average_activation_vectors/{model_name_temp}/\",\n",
    "    \"cosine\"\n",
    ")"
   ]
  },
  {
   "cell_type": "markdown",
   "id": "fa888331",
   "metadata": {},
   "source": [
    "### Classification Probes"
   ]
  },
  {
   "cell_type": "code",
   "execution_count": null,
   "id": "697e1ff7",
   "metadata": {},
   "outputs": [],
   "source": [
    "if compute:\n",
    "    probe_confidence_intervals.run(\n",
    "        model_name=model_name,\n",
    "        reg_lambdas=[0.1, 0.5, 1, 2, 5, 10]\n",
    "    )"
   ]
  },
  {
   "cell_type": "code",
   "execution_count": null,
   "id": "62fa80eb",
   "metadata": {},
   "outputs": [],
   "source": [
    "plot_probes.make_big_plot()"
   ]
  },
  {
   "cell_type": "markdown",
   "id": "a8821ac1",
   "metadata": {},
   "source": [
    "### Outlier Neurons"
   ]
  },
  {
   "cell_type": "code",
   "execution_count": null,
   "id": "5aaad0e4",
   "metadata": {},
   "outputs": [],
   "source": [
    "if compute:\n",
    "    create_neuron_contributions.main(model_name, model_name_temp,hook_points,24)"
   ]
  },
  {
   "cell_type": "code",
   "execution_count": null,
   "id": "41691eae",
   "metadata": {},
   "outputs": [],
   "source": [
    "plot_outlier_neurons.main(24,hook_points, model_name_temp)"
   ]
  },
  {
   "cell_type": "markdown",
   "id": "9b21112b",
   "metadata": {},
   "source": [
    "## Representation Control"
   ]
  },
  {
   "cell_type": "code",
   "execution_count": null,
   "id": "61cc453b",
   "metadata": {},
   "outputs": [],
   "source": [
    "if compute:\n",
    "    make_steering_vectors.main(\n",
    "        model_url=model_name,\n",
    "        target_language=target,\n",
    "        complement_languages=not_target_languages,\n",
    "        device=device,\n",
    "        out_folder='steering_vectors/steering_vectors'\n",
    "    )"
   ]
  },
  {
   "cell_type": "markdown",
   "id": "76ce20f1",
   "metadata": {},
   "source": [
    "### Token Based Visualization of Steering Vectors"
   ]
  },
  {
   "cell_type": "code",
   "execution_count": null,
   "id": "224f8a72",
   "metadata": {},
   "outputs": [],
   "source": [
    "text = \"The cat (Felis catus), also referred to as the domestic cat or house cat, is a small domesticated carnivorous mammal. It is the only domesticated species of the family Felidae. Advances in archaeology and genetics have shown that the domestication of the cat occurred in the Near East around 7500 BC.\"\n",
    "\n",
    "text_visualization.main(model_name, model_name_temp,text,\"da\",15)"
   ]
  },
  {
   "cell_type": "code",
   "execution_count": null,
   "id": "ed3209d2",
   "metadata": {},
   "outputs": [],
   "source": [
    "text = \"The cat (Felis catus), also referred to as the domestic cat or house cat, is a small domesticated carnivorous mammal. It is the only domesticated species of the family Felidae. Advances in archaeology and genetics have shown that the domestication of the cat occurred in the Near East around 7500 BC.\"\n",
    "for layer in range(24):\n",
    "    text_visualization.main(model_name, model_name_temp,text,\"en\",layer)\n",
    "text = \"Tamkatten (Felis catus[1][2] eller Felis silvestris catus[3]) er et lille, tæmmet, kødædende pattedyr oftest med pels. Den kaldes huskat eller bare kat, når der ikke er grund til at skelne den fra andre kattedyr. Katten er værdsat af mennesker for dens selskab og evne til at jage mus og rotter. Mange huskatte bliver op mod 20 år gamle.\"\n",
    "for layer in range(24):\n",
    "    text_visualization.main(model_name, model_name_temp,text,\"da\",layer)"
   ]
  },
  {
   "cell_type": "markdown",
   "id": "55482c95",
   "metadata": {},
   "source": [
    "### Steering Loss"
   ]
  },
  {
   "cell_type": "code",
   "execution_count": null,
   "id": "5300bac7",
   "metadata": {},
   "outputs": [],
   "source": [
    "ds = load_bible_data('en', 'da')\n",
    "\n",
    "model = AutoModelForCausalLM.from_pretrained(model_name).to(device)\n",
    "tokenizer = AutoTokenizer.from_pretrained(model_name)\n",
    "\n",
    "steering_loss.first_fig(\n",
    "    model=model,\n",
    "    tokenizer=tokenizer,\n",
    "    shuffled_dataset=ds,\n",
    "    out_file='results/figures/steering_loss/first_fig.png'\n",
    ")"
   ]
  },
  {
   "cell_type": "code",
   "execution_count": null,
   "id": "d156c5bc",
   "metadata": {},
   "outputs": [],
   "source": [
    "steering_loss.plot_steering_vector_scores(\n",
    "    model=model,\n",
    "    tokenizer=tokenizer,\n",
    "    ds=ds,\n",
    "    steering_lambdas=[1,3,5,10,20],\n",
    "    lan1='en',\n",
    "    lan2='da',\n",
    "    amount_datapoints=25,\n",
    "    layers=None,\n",
    "    hook_addresses=None,\n",
    "    out_file='results/figures/steering_loss/big_fig.png'\n",
    ")"
   ]
  },
  {
   "cell_type": "markdown",
   "id": "51106a1b",
   "metadata": {},
   "source": [
    "### Bible Study"
   ]
  },
  {
   "cell_type": "code",
   "execution_count": null,
   "id": "dc86e31b",
   "metadata": {},
   "outputs": [],
   "source": [
    "steering_vector_path = f\"steering_vectors/steering_vectors/for_euroeval/{model_name_temp}/\"\n",
    "model_name = model_name\n",
    "language1 = \"da\"\n",
    "language2 = \"en\"\n",
    "start_verse = 0\n",
    "end_verse = 285\n",
    "lambda_search_space = [0]\n",
    "\n",
    "if compute:\n",
    "    create_bible_data.run(\n",
    "        model_name,\n",
    "        language1,\n",
    "        language2, \n",
    "        steering_vector_path, \n",
    "        lambda_search_space, \n",
    "        start_verse,end_verse)"
   ]
  },
  {
   "cell_type": "code",
   "execution_count": null,
   "id": "5d643bec",
   "metadata": {},
   "outputs": [],
   "source": [
    "if compute:\n",
    "    path = \"results/data/steering_data_bible/\"\n",
    "    language_label = \"__label__dan\"\n",
    "    process_bible_data.run(path, language_label)"
   ]
  },
  {
   "cell_type": "code",
   "execution_count": null,
   "id": "6baabeaf",
   "metadata": {},
   "outputs": [],
   "source": [
    "visualize_bible_study.run(\n",
    "    file_path='results/data/steering_data_bible/bible_data_combined.csv',\n",
    "    model_name_temp = model_name_temp\n",
    ")"
   ]
  },
  {
   "cell_type": "markdown",
   "id": "946f703e",
   "metadata": {},
   "source": [
    "### Logit Lens"
   ]
  },
  {
   "cell_type": "code",
   "execution_count": null,
   "id": "16c68c8d",
   "metadata": {},
   "outputs": [],
   "source": [
    "logit_lens.plot_logit_lens(\n",
    "    model_url=model_name,\n",
    "    device=device\n",
    ")"
   ]
  },
  {
   "cell_type": "code",
   "execution_count": null,
   "id": "2dd30d1e",
   "metadata": {},
   "outputs": [],
   "source": [
    "logit_lens.plot_norm_of_logits(\n",
    "    model_url=model_name,\n",
    "    device=device\n",
    ")"
   ]
  },
  {
   "cell_type": "markdown",
   "id": "3e171b93",
   "metadata": {},
   "source": [
    "## Application"
   ]
  },
  {
   "cell_type": "code",
   "execution_count": null,
   "id": "1fba3f21",
   "metadata": {},
   "outputs": [],
   "source": [
    "model_name_scandeval = [\"gpt_sw3_356m\",\"gpt_sw3_356m_with_steering_lambda_5\",\n",
    "                        \"gpt_gptsw3_en_da_356m_gbs1024\",\"gpt_gptsw3_en_da_356m_gbs1024_with_steering_lambda_5\",\n",
    "                        \"gpt_gptsw3_en_is_da_356m_gbs1024\",\"gpt_gptsw3_en_is_da_356m_gbs1024_with_steering_lambda_5\",\n",
    "                        \"gpt_gptsw3_en_da_is_356m_gbs1024\",\"gpt_gptsw3_en_da_is_356m_gbs1024_with_steering_lambda_5\"]\n",
    "df = scandeval_results.main(\"results/data/scandeval/scandeval_benchmark_results_den_gode.jsonl\",model_name_scandeval)"
   ]
  }
 ],
 "metadata": {
  "kernelspec": {
   "display_name": "mechinterp",
   "language": "python",
   "name": "python3"
  },
  "language_info": {
   "codemirror_mode": {
    "name": "ipython",
    "version": 3
   },
   "file_extension": ".py",
   "mimetype": "text/x-python",
   "name": "python",
   "nbconvert_exporter": "python",
   "pygments_lexer": "ipython3",
   "version": "3.12.10"
  }
 },
 "nbformat": 4,
 "nbformat_minor": 5
}
