{
  "cells": [
    {
      "cell_type": "code",
      "execution_count": 1,
      "metadata": {
        "colab": {
          "base_uri": "https://localhost:8080/"
        },
        "id": "ajvLumiu5mq-",
        "outputId": "77ae0b4c-b9e9-4909-9e09-94cfbaf5045f"
      },
      "outputs": [],
      "source": [
        "import os\n",
        "\n",
        "try:\n",
        "    has_changed_dir\n",
        "except:\n",
        "    has_changed_dir = False\n",
        "\n",
        "try:\n",
        "    import google.colab\n",
        "    IN_COLAB = True\n",
        "    print(\"Running as a Colab notebook\")\n",
        "except:\n",
        "    IN_COLAB = False\n",
        "\n",
        "if IN_COLAB:\n",
        "    %pip install datasets\n",
        "    %pip install translate-toolkit\n",
        "    %pip install fasttext\n",
        "\n",
        "    !git clone https://github.com/MartinKirkegaardDK/KDS_MI.git\n",
        "\n",
        "    if not has_changed_dir:\n",
        "        os.chdir('KDS_MI')\n",
        "        has_changed_dir = True\n",
        "else:\n",
        "    if not has_changed_dir:\n",
        "        os.chdir('.')\n",
        "        has_changed_dir = True"
      ]
    },
    {
      "cell_type": "code",
      "execution_count": 2,
      "metadata": {
        "id": "XDwg58v35mrA"
      },
      "outputs": [
        {
          "name": "stderr",
          "output_type": "stream",
          "text": [
            "c:\\Users\\tjupp\\AppData\\Local\\Programs\\Python\\Python311\\Lib\\site-packages\\tqdm\\auto.py:21: TqdmWarning: IProgress not found. Please update jupyter and ipywidgets. See https://ipywidgets.readthedocs.io/en/stable/user_install.html\n",
            "  from .autonotebook import tqdm as notebook_tqdm\n"
          ]
        }
      ],
      "source": [
        "from drivers import (\n",
        "    plot_outlier_neurons, preprocessing,probe_confidence_intervals,\n",
        "    steering, create_steering_vectors,\n",
        "    steering_loss,\n",
        "    distance_plots,\n",
        "    create_average_activation_vectors,\n",
        "    visualising_steering_vectors,\n",
        "    visualising_activations,\n",
        "    visualize_probe_results,\n",
        "    create_bible_data,\n",
        "    process_bible_data,\n",
        "    visualize_bible_study,\n",
        "    probe_confidence_intervals_NEW,\n",
        "    scandeval_results,\n",
        "    create_neuron_contributions,\n",
        "    text_visualization\n",
        "    \n",
        ")\n",
        "\n",
        "from pathlib import Path\n"
      ]
    },
    {
      "cell_type": "code",
      "execution_count": 3,
      "metadata": {},
      "outputs": [],
      "source": [
        "\n",
        "all_languages = [\"nb\",\"is\",\"da\",\"en\",\"sv\"]\n",
        "model_name=\"downloaded_models/gpt_gptsw3_en_da_is_356m_gbs1024\"\n",
        "model_name = \"EleutherAI/pythia-14m\"\n",
        "model_name = \"AI-Sweden-Models/gpt-sw3-356m\"\n",
        "\n",
        "hook_points = [\"layernorm_1-pre\",\"attention-pre\",\"attention-post\",\"layernorm_2-pre\",\"mlp-pre\",\"mlp-post\"]\n",
        "\n",
        "\n",
        "not_target_languages = []\n",
        "target = \"da\"\n",
        "\n",
        "\n",
        "\n",
        "if \"download\" in model_name:\n",
        "    model_name_temp = model_name.split(\"/\")[-1]\n",
        "    for split in model_name.split(\"_\"):\n",
        "        if (split in all_languages) and (split !=target):\n",
        "            not_target_languages.append(split)\n",
        "else:\n",
        "    \n",
        "    model_name_temp = model_name.split(\"/\")[-1]\n",
        "    model_name_temp = model_name_temp.replace(\"-\",\"_\")\n",
        "    not_target_languages = [lang for lang in all_languages if lang != target]"
      ]
    },
    {
      "cell_type": "code",
      "execution_count": null,
      "metadata": {},
      "outputs": [],
      "source": [
        "model_name_temp"
      ]
    },
    {
      "cell_type": "code",
      "execution_count": null,
      "metadata": {},
      "outputs": [],
      "source": [
        "#!zip -r zipped.zip results/data/probe_confidence_intervals"
      ]
    },
    {
      "cell_type": "markdown",
      "metadata": {
        "id": "Wvc_Z5VZ5mrA"
      },
      "source": [
        "## Data preprocessing\n",
        "\n",
        "Preprocesses the multilingual data, by removing short sentences"
      ]
    },
    {
      "cell_type": "code",
      "execution_count": null,
      "metadata": {
        "id": "iO2ml66S5mrB"
      },
      "outputs": [],
      "source": [
        "preprocessing.run()"
      ]
    },
    {
      "cell_type": "markdown",
      "metadata": {
        "id": "bG3qWYDC5mrB"
      },
      "source": [
        "## Analysis of residual stream activations"
      ]
    },
    {
      "cell_type": "markdown",
      "metadata": {
        "id": "s7bVT_YA5mrB"
      },
      "source": [
        "### PCA of activations"
      ]
    },
    {
      "cell_type": "code",
      "execution_count": null,
      "metadata": {
        "id": "EDE-Y1am5mrB"
      },
      "outputs": [],
      "source": [
        "\n",
        "visualising_activations.run(model_name=model_name)"
      ]
    },
    {
      "cell_type": "markdown",
      "metadata": {
        "id": "VWPomAAY5mrC"
      },
      "source": [
        "### Classification probes"
      ]
    },
    {
      "cell_type": "code",
      "execution_count": null,
      "metadata": {
        "id": "afYus9v_5mrC"
      },
      "outputs": [],
      "source": [
        "#This takes a long time to run\n",
        "probe_confidence_intervals.run(\n",
        "    model_name=model_name,\n",
        "    reg_lambdas=[0.1, 0.5, 1, 2, 5, 10]\n",
        ")"
      ]
    },
    {
      "cell_type": "code",
      "execution_count": null,
      "metadata": {},
      "outputs": [],
      "source": [
        "visualize_probe_results.run(\n",
        "    probe_result_path_by_reg_lambda={\n",
        "        0.1: f'results/data/probe_confidence_intervals/gpt_sw3_356m_attention:post_reg_lambda_0.1.json',\n",
        "    },\n",
        "    model_name= model_name_temp\n",
        "    \n",
        ")"
      ]
    },
    {
      "cell_type": "code",
      "execution_count": null,
      "metadata": {
        "id": "GsMNSu685mrD"
      },
      "outputs": [],
      "source": [
        "lambdas = [0.1, 0.5, 1, 2, 5, 10]\n",
        "#for reg in lambdas:\n",
        "for hook_point in hook_points:\n",
        "    visualize_probe_results.run(\n",
        "        probe_result_path_by_reg_lambda={\n",
        "            0.1: f'results/data/probe_confidence_intervals/{model_name_temp}_{hook_point}_reg_lambda_0.1.json',\n",
        "            0.5: f'results/data/probe_confidence_intervals/{model_name_temp}_{hook_point}_reg_lambda_0.5.json',\n",
        "            1: f'results/data/probe_confidence_intervals/{model_name_temp}_{hook_point}_reg_lambda_1.json',\n",
        "            2: f'results/data/probe_confidence_intervals/{model_name_temp}_{hook_point}_reg_lambda_2.json',\n",
        "            5: f'results/data/probe_confidence_intervals/{model_name_temp}_{hook_point}_reg_lambda_5.json',\n",
        "            10: f'results/data/probe_confidence_intervals/{model_name_temp}_{hook_point}_reg_lambda_10.json',\n",
        "        },\n",
        "        model_name= model_name_temp\n",
        "        \n",
        "    )"
      ]
    },
    {
      "cell_type": "markdown",
      "metadata": {
        "id": "yF7653Xc5mrE"
      },
      "source": [
        "## Create average activation vectors\n",
        "these are the \"base\" steering vectors e.i. the average activations for different layers and languages.\n",
        "This function generates them and the next block then splits them up for the analysis section.\n",
        "Additionally, it also saves all the raw activations: raw_activations/\\*model_name\\*"
      ]
    },
    {
      "cell_type": "code",
      "execution_count": null,
      "metadata": {},
      "outputs": [],
      "source": [
        "model_name_temp"
      ]
    },
    {
      "cell_type": "code",
      "execution_count": null,
      "metadata": {
        "id": "WMj3ypuy5mrE"
      },
      "outputs": [],
      "source": [
        "#create_average_activation_vectors.run([\"nb\",\"is\",\"da\",\"en\",\"sv\"],model_name= model_name,run_name = model_name_temp)\n",
        "\n",
        "\n",
        "\n",
        "create_average_activation_vectors.run([target] + not_target_languages,model_name= model_name,run_name = model_name_temp)"
      ]
    },
    {
      "cell_type": "markdown",
      "metadata": {
        "id": "M-ahWWpz5mrE"
      },
      "source": [
        "## Create steering vector\n",
        "these are the steering vectors towards a specific language. This is different that"
      ]
    },
    {
      "cell_type": "code",
      "execution_count": null,
      "metadata": {
        "id": "HHJV1FFo5mrE"
      },
      "outputs": [],
      "source": [
        "#AI-Sweden-Models/gpt-sw3-356m\n",
        "\n",
        "create_steering_vectors.run(\n",
        "    model_name=model_name_temp,\n",
        "    target_language=target,\n",
        "    complement_languages=not_target_languages\n",
        ")"
      ]
    },
    {
      "cell_type": "markdown",
      "metadata": {},
      "source": [
        "## plots the distance plots"
      ]
    },
    {
      "cell_type": "code",
      "execution_count": null,
      "metadata": {},
      "outputs": [],
      "source": [
        "\n",
        "distance_plots.run(model_name_temp, target,f\"average_activation_vectors/{model_name_temp}/\",\"cosine\")"
      ]
    },
    {
      "cell_type": "markdown",
      "metadata": {
        "id": "o2gwRDp95mrF"
      },
      "source": [
        "## Test steering vectors"
      ]
    },
    {
      "cell_type": "code",
      "execution_count": null,
      "metadata": {
        "colab": {
          "base_uri": "https://localhost:8080/"
        },
        "id": "KmfwKKT25mrG",
        "outputId": "d9357b83-07f2-4f14-ff07-672ed622bfe6"
      },
      "outputs": [],
      "source": [
        "layer = 5\n",
        "\n",
        "steering_vector_path = f\"steering_vectors/{model_name_temp}/combined_steering_vector_layer_{layer}_tensor.pt\"\n",
        "\n",
        "steering.run(\n",
        "    steering_vector_path=steering_vector_path,\n",
        "    steering_lambda=5,\n",
        "    affected_language=\"en\",\n",
        "    layer=layer,\n",
        "    model_name=model_name,\n",
        "    data_folder='data/preprocessed/train'\n",
        ")"
      ]
    },
    {
      "cell_type": "markdown",
      "metadata": {
        "id": "B-DE-29c5mrG"
      },
      "source": [
        "## Measure steering vector loss impact"
      ]
    },
    {
      "cell_type": "code",
      "execution_count": null,
      "metadata": {
        "colab": {
          "base_uri": "https://localhost:8080/",
          "height": 1000,
          "referenced_widgets": [
            "7330803a4e2b4535b0ea49954ca706f4",
            "780be0a5f9a141c4befcee95029add72",
            "bce9edf1290441bc96f86c5468c67dee",
            "343f3072c0c941f79e055c95726f566e",
            "d043cd861143434a8b6fd97d2f8b29dc",
            "7971a32ccbf5400fae96d71e6ef020a2",
            "819c698f9a564f4d9f9b3c54daa24e82",
            "1abf004f52604d4aab8c1669a8b23dfa",
            "c171764981484b8086e820a00d641baa",
            "1172cb72b4cd4115aa5c06e7aee4ccb1",
            "73cf52b6ac22445babe73cb94fe22ca7",
            "da66bd0741ce4b89807f3d055d695be8",
            "6ee095f0edb1483183388b61adc94a41",
            "9ef015da95f44c36806ddb599bdbafcd",
            "4bf2755aa2b74c59804dec23f09325a8",
            "4a4be75a05884714b7c3d53c45d1c94d",
            "5be9a663b8404368becba86cccbcc7f4",
            "9fac377c145f4842bd68f357449ff384",
            "87fcf5a922da4c6691b34f83b4d98832",
            "61ab02d68dc444d2af055a15eeecf7e9",
            "190f19f1bc6f4d4999f61aa636cbc010",
            "b73c7c1b89e84091af39b780e1b839b6",
            "9e2b9134ec50411c8ca5756c4b19d41d",
            "03499a3b9ac84845ad7ec2c335be4cbb",
            "7d762fc225c443ce8eddbee3628e24a1",
            "4214759994b04682a54ab1028ec1ba45",
            "ca9b66aea43d4c7a948f7a3a8bad26cf",
            "2b969751ce29457993189b0995a7bbc0",
            "d03ae03ca7e14021ab568fe0d920977d",
            "ae48b175f18c4c58bb3566bdf911e400",
            "d0a0fb1b0e954fe2a69c7e172d57f790",
            "085ac0f6d46041b7825787b92d993746",
            "c4153e30acff41edac9c2d64c223c377"
          ]
        },
        "id": "OHV7KB0i5mrG",
        "outputId": "ae106d11-eee9-4df6-acfb-6fa646f5bfe8"
      },
      "outputs": [],
      "source": [
        "#This also takes some time to run\n",
        "steering_vector_folder = f'steering_vectors/{model_name_temp}'\n",
        "\n",
        "steering_loss.run(\n",
        "    steering_vector_folder=steering_vector_folder,\n",
        "    model_name=model_name,\n",
        "    model_name_temp=model_name_temp,\n",
        "    lan1='en',\n",
        "    lan2='da'\n",
        ")"
      ]
    },
    {
      "cell_type": "markdown",
      "metadata": {
        "id": "2zhniUV75mrG"
      },
      "source": [
        "## Plot steering vector PCAs"
      ]
    },
    {
      "cell_type": "markdown",
      "metadata": {
        "id": "m-pyjY0f5mrG"
      },
      "source": [
        "steering_vector_folder = Path('steering_vectors/')\n",
        "\n",
        "visualising_steering_vectors.run(\n",
        "    steering_vector_paths_by_language={\n",
        "        'en': lambda layer: steering_vector_folder / f'EN/combined_steering_vector_layer_{layer}_tensor.pt',\n",
        "        'da': lambda layer: steering_vector_folder / f'DA/combined_steering_vector_layer_{layer}_tensor.pt',\n",
        "        'sv': lambda layer: steering_vector_folder / f'SV/combined_steering_vector_layer_{layer}_tensor.pt',\n",
        "        'nb': lambda layer: steering_vector_folder / f'NB/combined_steering_vector_layer_{layer}_tensor.pt',\n",
        "        'is': lambda layer: steering_vector_folder / f'IS/combined_steering_vector_layer_{layer}_tensor.pt'\n",
        "    },\n",
        "    hidden_layers=24\n",
        ")"
      ]
    },
    {
      "cell_type": "code",
      "execution_count": null,
      "metadata": {},
      "outputs": [],
      "source": [
        "steering_vector_folder = Path('steering_vectors/')\n",
        "\n",
        "visualising_steering_vectors.run(\n",
        "    steering_vector_paths_by_language={\n",
        "        'en': lambda layer: steering_vector_folder / f'EN/combined_steering_vector_layer_{layer}_tensor.pt',\n",
        "        'da': lambda layer: steering_vector_folder / f'DA/combined_steering_vector_layer_{layer}_tensor.pt',\n",
        "    },\n",
        "    hidden_layers=24\n",
        ")"
      ]
    },
    {
      "cell_type": "markdown",
      "metadata": {
        "id": "kEQhCQPq5mrH"
      },
      "source": [
        "## Bible study"
      ]
    },
    {
      "cell_type": "code",
      "execution_count": null,
      "metadata": {
        "id": "xQyYJRRe5mrH"
      },
      "outputs": [],
      "source": [
        "steering_vector_path = f\"steering_vectors/{model_name_temp}/\"\n",
        "model_name = model_name\n",
        "language1 = \"da\"\n",
        "language2 = \"en\"\n",
        "start_verse = 0\n",
        "end_verse = 285\n",
        "lambda_search_space = [0]\n",
        "\n",
        "create_bible_data.run(model_name,language1,language2, steering_vector_path, lambda_search_space, start_verse,end_verse)\n"
      ]
    },
    {
      "cell_type": "code",
      "execution_count": 4,
      "metadata": {
        "id": "8DZWaeAh5mrH"
      },
      "outputs": [],
      "source": [
        "path = \"results/data/steering_data_bible/\"\n",
        "language_label = \"__label__dan\"\n",
        "process_bible_data.run(path, language_label)"
      ]
    },
    {
      "cell_type": "code",
      "execution_count": 5,
      "metadata": {
        "id": "qFN0StRh5mrH"
      },
      "outputs": [
        {
          "ename": "AttributeError",
          "evalue": "'Axes' object has no attribute 'flatten'",
          "output_type": "error",
          "traceback": [
            "\u001b[1;31m---------------------------------------------------------------------------\u001b[0m",
            "\u001b[1;31mAttributeError\u001b[0m                            Traceback (most recent call last)",
            "Cell \u001b[1;32mIn[5], line 1\u001b[0m\n\u001b[1;32m----> 1\u001b[0m \u001b[43mvisualize_bible_study\u001b[49m\u001b[38;5;241;43m.\u001b[39;49m\u001b[43mrun\u001b[49m\u001b[43m(\u001b[49m\n\u001b[0;32m      2\u001b[0m \u001b[43m    \u001b[49m\u001b[43mfile_path\u001b[49m\u001b[38;5;241;43m=\u001b[39;49m\u001b[38;5;124;43m'\u001b[39;49m\u001b[38;5;124;43mresults/data/steering_data_bible/bible_data_combined.csv\u001b[39;49m\u001b[38;5;124;43m'\u001b[39;49m\n\u001b[0;32m      3\u001b[0m \u001b[43m)\u001b[49m\n",
            "File \u001b[1;32mc:\\Users\\tjupp\\Documents\\GitHub\\KDS_MI\\drivers\\visualize_bible_study.py:18\u001b[0m, in \u001b[0;36mrun\u001b[1;34m(file_path)\u001b[0m\n\u001b[0;32m     16\u001b[0m \u001b[38;5;66;03m# make fig\u001b[39;00m\n\u001b[0;32m     17\u001b[0m fig, axs \u001b[38;5;241m=\u001b[39m plt\u001b[38;5;241m.\u001b[39msubplots(\u001b[38;5;28mlen\u001b[39m(lambdas), \u001b[38;5;241m1\u001b[39m,  figsize\u001b[38;5;241m=\u001b[39m(\u001b[38;5;241m10\u001b[39m, \u001b[38;5;28mlen\u001b[39m(lambdas)\u001b[38;5;241m*\u001b[39m\u001b[38;5;241m3\u001b[39m))\n\u001b[1;32m---> 18\u001b[0m axs \u001b[38;5;241m=\u001b[39m \u001b[43maxs\u001b[49m\u001b[38;5;241;43m.\u001b[39;49m\u001b[43mflatten\u001b[49m()\n\u001b[0;32m     20\u001b[0m \u001b[38;5;28;01mfor\u001b[39;00m ax, lambda_ \u001b[38;5;129;01min\u001b[39;00m \u001b[38;5;28mzip\u001b[39m(axs, lambdas):\n\u001b[0;32m     21\u001b[0m     mean_scores \u001b[38;5;241m=\u001b[39m mean_score_by_layer(df, lambda_)\n",
            "\u001b[1;31mAttributeError\u001b[0m: 'Axes' object has no attribute 'flatten'"
          ]
        },
        {
          "data": {
            "image/png": "[encoded data removed]",
            "text/plain": [
              "<Figure size 1000x300 with 1 Axes>"
            ]
          },
          "metadata": {},
          "output_type": "display_data"
        }
      ],
      "source": [
        "visualize_bible_study.run(\n",
        "    file_path='results/data/steering_data_bible/bible_data_combined.csv'\n",
        ")"
      ]
    },
    {
      "cell_type": "markdown",
      "metadata": {},
      "source": [
        "## ScandEval viz"
      ]
    },
    {
      "cell_type": "code",
      "execution_count": null,
      "metadata": {},
      "outputs": [],
      "source": [
        "model_name_scandeval = [\"gpt_sw3_356m\",\"gpt_sw3_356m_with_steering_lambda_5\",\n",
        "                        \"gpt_gptsw3_en_da_356m_gbs1024\",\"gpt_gptsw3_en_da_356m_gbs1024_with_steering_lambda_5\",\n",
        "                        \"gpt_gptsw3_en_is_da_356m_gbs1024\",\"gpt_gptsw3_en_is_da_356m_gbs1024_with_steering_lambda_5\",\n",
        "                        \"gpt_gptsw3_en_da_is_356m_gbs1024\",\"gpt_gptsw3_en_da_is_356m_gbs1024_with_steering_lambda_5\"]\n",
        "df = scandeval_results.main(\"results/scandeval/scandeval_benchmark_results_den_gode.jsonl\",model_name_scandeval)"
      ]
    },
    {
      "cell_type": "markdown",
      "metadata": {},
      "source": [
        "##  Neuron contributions"
      ]
    },
    {
      "cell_type": "code",
      "execution_count": null,
      "metadata": {},
      "outputs": [],
      "source": [
        "create_neuron_contributions.main(model_name, model_name_temp,hook_points,24)"
      ]
    },
    {
      "cell_type": "code",
      "execution_count": null,
      "metadata": {},
      "outputs": [],
      "source": [
        "plot_outlier_neurons.main(24,hook_points, model_name_temp)\n",
        "\n",
        "804, 807, 805"
      ]
    },
    {
      "cell_type": "markdown",
      "metadata": {},
      "source": [
        "## Text visualization"
      ]
    },
    {
      "cell_type": "code",
      "execution_count": null,
      "metadata": {},
      "outputs": [],
      "source": [
        "text = \"The cat (Felis catus), also referred to as the domestic cat or house cat, is a small domesticated carnivorous mammal. It is the only domesticated species of the family Felidae. Advances in archaeology and genetics have shown that the domestication of the cat occurred in the Near East around 7500 BC.\"\n",
        "\n",
        "text_visualization.main(model_name, model_name_temp,text,\"da\",15)"
      ]
    },
    {
      "cell_type": "code",
      "execution_count": null,
      "metadata": {},
      "outputs": [],
      "source": [
        "text = \"The cat (Felis catus), also referred to as the domestic cat or house cat, is a small domesticated carnivorous mammal. It is the only domesticated species of the family Felidae. Advances in archaeology and genetics have shown that the domestication of the cat occurred in the Near East around 7500 BC.\"\n",
        "for layer in range(24):\n",
        "    text_visualization.main(model_name, model_name_temp,text,\"en\",layer)\n",
        "text = \"Tamkatten (Felis catus[1][2] eller Felis silvestris catus[3]) er et lille, tæmmet, kødædende pattedyr oftest med pels. Den kaldes huskat eller bare kat, når der ikke er grund til at skelne den fra andre kattedyr. Katten er værdsat af mennesker for dens selskab og evne til at jage mus og rotter. Mange huskatte bliver op mod 20 år gamle.\"\n",
        "for layer in range(24):\n",
        "    text_visualization.main(model_name, model_name_temp,text,\"da\",layer)"
      ]
    },
    {
      "cell_type": "code",
      "execution_count": null,
      "metadata": {},
      "outputs": [],
      "source": [
        "#KØR BIBLE STUDY MED ENGELSK PROMPT UDEN STEERING VECTOR SOME EN BASELINE"
      ]
    }
  ],
  "metadata": {
    "accelerator": "GPU",
    "colab": {
      "gpuType": "T4",
      "provenance": []
    },
    "kernelspec": {
      "display_name": "Python 3",
      "name": "python3"
    },
    "language_info": {
      "codemirror_mode": {
        "name": "ipython",
        "version": 3
      },
      "file_extension": ".py",
      "mimetype": "text/x-python",
      "name": "python",
      "nbconvert_exporter": "python",
      "pygments_lexer": "ipython3",
      "version": "3.11.2"
    },
    "widgets": {
      "application/vnd.jupyter.widget-state+json": {
        "03499a3b9ac84845ad7ec2c335be4cbb": {
          "model_module": "@jupyter-widgets/controls",
          "model_module_version": "1.5.0",
          "model_name": "HTMLModel",
          "state": {
            "_dom_classes": [],
            "_model_module": "@jupyter-widgets/controls",
            "_model_module_version": "1.5.0",
            "_model_name": "HTMLModel",
            "_view_count": null,
            "_view_module": "@jupyter-widgets/controls",
            "_view_module_version": "1.5.0",
            "_view_name": "HTMLView",
            "description": "",
            "description_tooltip": null,
            "layout": "IPY_MODEL_2b969751ce29457993189b0995a7bbc0",
            "placeholder": "​",
            "style": "IPY_MODEL_d03ae03ca7e14021ab568fe0d920977d",
            "value": "model.safetensors: 100%"
          }
        },
        "085ac0f6d46041b7825787b92d993746": {
          "model_module": "@jupyter-widgets/base",
          "model_module_version": "1.2.0",
          "model_name": "LayoutModel",
          "state": {
            "_model_module": "@jupyter-widgets/base",
            "_model_module_version": "1.2.0",
            "_model_name": "LayoutModel",
            "_view_count": null,
            "_view_module": "@jupyter-widgets/base",
            "_view_module_version": "1.2.0",
            "_view_name": "LayoutView",
            "align_content": null,
            "align_items": null,
            "align_self": null,
            "border": null,
            "bottom": null,
            "display": null,
            "flex": null,
            "flex_flow": null,
            "grid_area": null,
            "grid_auto_columns": null,
            "grid_auto_flow": null,
            "grid_auto_rows": null,
            "grid_column": null,
            "grid_gap": null,
            "grid_row": null,
            "grid_template_areas": null,
            "grid_template_columns": null,
            "grid_template_rows": null,
            "height": null,
            "justify_content": null,
            "justify_items": null,
            "left": null,
            "margin": null,
            "max_height": null,
            "max_width": null,
            "min_height": null,
            "min_width": null,
            "object_fit": null,
            "object_position": null,
            "order": null,
            "overflow": null,
            "overflow_x": null,
            "overflow_y": null,
            "padding": null,
            "right": null,
            "top": null,
            "visibility": null,
            "width": null
          }
        },
        "1172cb72b4cd4115aa5c06e7aee4ccb1": {
          "model_module": "@jupyter-widgets/base",
          "model_module_version": "1.2.0",
          "model_name": "LayoutModel",
          "state": {
            "_model_module": "@jupyter-widgets/base",
            "_model_module_version": "1.2.0",
            "_model_name": "LayoutModel",
            "_view_count": null,
            "_view_module": "@jupyter-widgets/base",
            "_view_module_version": "1.2.0",
            "_view_name": "LayoutView",
            "align_content": null,
            "align_items": null,
            "align_self": null,
            "border": null,
            "bottom": null,
            "display": null,
            "flex": null,
            "flex_flow": null,
            "grid_area": null,
            "grid_auto_columns": null,
            "grid_auto_flow": null,
            "grid_auto_rows": null,
            "grid_column": null,
            "grid_gap": null,
            "grid_row": null,
            "grid_template_areas": null,
            "grid_template_columns": null,
            "grid_template_rows": null,
            "height": null,
            "justify_content": null,
            "justify_items": null,
            "left": null,
            "margin": null,
            "max_height": null,
            "max_width": null,
            "min_height": null,
            "min_width": null,
            "object_fit": null,
            "object_position": null,
            "order": null,
            "overflow": null,
            "overflow_x": null,
            "overflow_y": null,
            "padding": null,
            "right": null,
            "top": null,
            "visibility": null,
            "width": null
          }
        },
        "190f19f1bc6f4d4999f61aa636cbc010": {
          "model_module": "@jupyter-widgets/base",
          "model_module_version": "1.2.0",
          "model_name": "LayoutModel",
          "state": {
            "_model_module": "@jupyter-widgets/base",
            "_model_module_version": "1.2.0",
            "_model_name": "LayoutModel",
            "_view_count": null,
            "_view_module": "@jupyter-widgets/base",
            "_view_module_version": "1.2.0",
            "_view_name": "LayoutView",
            "align_content": null,
            "align_items": null,
            "align_self": null,
            "border": null,
            "bottom": null,
            "display": null,
            "flex": null,
            "flex_flow": null,
            "grid_area": null,
            "grid_auto_columns": null,
            "grid_auto_flow": null,
            "grid_auto_rows": null,
            "grid_column": null,
            "grid_gap": null,
            "grid_row": null,
            "grid_template_areas": null,
            "grid_template_columns": null,
            "grid_template_rows": null,
            "height": null,
            "justify_content": null,
            "justify_items": null,
            "left": null,
            "margin": null,
            "max_height": null,
            "max_width": null,
            "min_height": null,
            "min_width": null,
            "object_fit": null,
            "object_position": null,
            "order": null,
            "overflow": null,
            "overflow_x": null,
            "overflow_y": null,
            "padding": null,
            "right": null,
            "top": null,
            "visibility": null,
            "width": null
          }
        },
        "1abf004f52604d4aab8c1669a8b23dfa": {
          "model_module": "@jupyter-widgets/base",
          "model_module_version": "1.2.0",
          "model_name": "LayoutModel",
          "state": {
            "_model_module": "@jupyter-widgets/base",
            "_model_module_version": "1.2.0",
            "_model_name": "LayoutModel",
            "_view_count": null,
            "_view_module": "@jupyter-widgets/base",
            "_view_module_version": "1.2.0",
            "_view_name": "LayoutView",
            "align_content": null,
            "align_items": null,
            "align_self": null,
            "border": null,
            "bottom": null,
            "display": null,
            "flex": null,
            "flex_flow": null,
            "grid_area": null,
            "grid_auto_columns": null,
            "grid_auto_flow": null,
            "grid_auto_rows": null,
            "grid_column": null,
            "grid_gap": null,
            "grid_row": null,
            "grid_template_areas": null,
            "grid_template_columns": null,
            "grid_template_rows": null,
            "height": null,
            "justify_content": null,
            "justify_items": null,
            "left": null,
            "margin": null,
            "max_height": null,
            "max_width": null,
            "min_height": null,
            "min_width": null,
            "object_fit": null,
            "object_position": null,
            "order": null,
            "overflow": null,
            "overflow_x": null,
            "overflow_y": null,
            "padding": null,
            "right": null,
            "top": null,
            "visibility": null,
            "width": null
          }
        },
        "2b969751ce29457993189b0995a7bbc0": {
          "model_module": "@jupyter-widgets/base",
          "model_module_version": "1.2.0",
          "model_name": "LayoutModel",
          "state": {
            "_model_module": "@jupyter-widgets/base",
            "_model_module_version": "1.2.0",
            "_model_name": "LayoutModel",
            "_view_count": null,
            "_view_module": "@jupyter-widgets/base",
            "_view_module_version": "1.2.0",
            "_view_name": "LayoutView",
            "align_content": null,
            "align_items": null,
            "align_self": null,
            "border": null,
            "bottom": null,
            "display": null,
            "flex": null,
            "flex_flow": null,
            "grid_area": null,
            "grid_auto_columns": null,
            "grid_auto_flow": null,
            "grid_auto_rows": null,
            "grid_column": null,
            "grid_gap": null,
            "grid_row": null,
            "grid_template_areas": null,
            "grid_template_columns": null,
            "grid_template_rows": null,
            "height": null,
            "justify_content": null,
            "justify_items": null,
            "left": null,
            "margin": null,
            "max_height": null,
            "max_width": null,
            "min_height": null,
            "min_width": null,
            "object_fit": null,
            "object_position": null,
            "order": null,
            "overflow": null,
            "overflow_x": null,
            "overflow_y": null,
            "padding": null,
            "right": null,
            "top": null,
            "visibility": null,
            "width": null
          }
        },
        "343f3072c0c941f79e055c95726f566e": {
          "model_module": "@jupyter-widgets/controls",
          "model_module_version": "1.5.0",
          "model_name": "HTMLModel",
          "state": {
            "_dom_classes": [],
            "_model_module": "@jupyter-widgets/controls",
            "_model_module_version": "1.5.0",
            "_model_name": "HTMLModel",
            "_view_count": null,
            "_view_module": "@jupyter-widgets/controls",
            "_view_module_version": "1.5.0",
            "_view_name": "HTMLView",
            "description": "",
            "description_tooltip": null,
            "layout": "IPY_MODEL_1172cb72b4cd4115aa5c06e7aee4ccb1",
            "placeholder": "​",
            "style": "IPY_MODEL_73cf52b6ac22445babe73cb94fe22ca7",
            "value": " 955/955 [00:00&lt;00:00, 55.4kB/s]"
          }
        },
        "4214759994b04682a54ab1028ec1ba45": {
          "model_module": "@jupyter-widgets/controls",
          "model_module_version": "1.5.0",
          "model_name": "HTMLModel",
          "state": {
            "_dom_classes": [],
            "_model_module": "@jupyter-widgets/controls",
            "_model_module_version": "1.5.0",
            "_model_name": "HTMLModel",
            "_view_count": null,
            "_view_module": "@jupyter-widgets/controls",
            "_view_module_version": "1.5.0",
            "_view_name": "HTMLView",
            "description": "",
            "description_tooltip": null,
            "layout": "IPY_MODEL_085ac0f6d46041b7825787b92d993746",
            "placeholder": "​",
            "style": "IPY_MODEL_c4153e30acff41edac9c2d64c223c377",
            "value": " 1.58G/1.58G [00:08&lt;00:00, 179MB/s]"
          }
        },
        "4a4be75a05884714b7c3d53c45d1c94d": {
          "model_module": "@jupyter-widgets/base",
          "model_module_version": "1.2.0",
          "model_name": "LayoutModel",
          "state": {
            "_model_module": "@jupyter-widgets/base",
            "_model_module_version": "1.2.0",
            "_model_name": "LayoutModel",
            "_view_count": null,
            "_view_module": "@jupyter-widgets/base",
            "_view_module_version": "1.2.0",
            "_view_name": "LayoutView",
            "align_content": null,
            "align_items": null,
            "align_self": null,
            "border": null,
            "bottom": null,
            "display": null,
            "flex": null,
            "flex_flow": null,
            "grid_area": null,
            "grid_auto_columns": null,
            "grid_auto_flow": null,
            "grid_auto_rows": null,
            "grid_column": null,
            "grid_gap": null,
            "grid_row": null,
            "grid_template_areas": null,
            "grid_template_columns": null,
            "grid_template_rows": null,
            "height": null,
            "justify_content": null,
            "justify_items": null,
            "left": null,
            "margin": null,
            "max_height": null,
            "max_width": null,
            "min_height": null,
            "min_width": null,
            "object_fit": null,
            "object_position": null,
            "order": null,
            "overflow": null,
            "overflow_x": null,
            "overflow_y": null,
            "padding": null,
            "right": null,
            "top": null,
            "visibility": null,
            "width": null
          }
        },
        "4bf2755aa2b74c59804dec23f09325a8": {
          "model_module": "@jupyter-widgets/controls",
          "model_module_version": "1.5.0",
          "model_name": "HTMLModel",
          "state": {
            "_dom_classes": [],
            "_model_module": "@jupyter-widgets/controls",
            "_model_module_version": "1.5.0",
            "_model_name": "HTMLModel",
            "_view_count": null,
            "_view_module": "@jupyter-widgets/controls",
            "_view_module_version": "1.5.0",
            "_view_name": "HTMLView",
            "description": "",
            "description_tooltip": null,
            "layout": "IPY_MODEL_190f19f1bc6f4d4999f61aa636cbc010",
            "placeholder": "​",
            "style": "IPY_MODEL_b73c7c1b89e84091af39b780e1b839b6",
            "value": " 1.07M/1.07M [00:00&lt;00:00, 10.0MB/s]"
          }
        },
        "5be9a663b8404368becba86cccbcc7f4": {
          "model_module": "@jupyter-widgets/base",
          "model_module_version": "1.2.0",
          "model_name": "LayoutModel",
          "state": {
            "_model_module": "@jupyter-widgets/base",
            "_model_module_version": "1.2.0",
            "_model_name": "LayoutModel",
            "_view_count": null,
            "_view_module": "@jupyter-widgets/base",
            "_view_module_version": "1.2.0",
            "_view_name": "LayoutView",
            "align_content": null,
            "align_items": null,
            "align_self": null,
            "border": null,
            "bottom": null,
            "display": null,
            "flex": null,
            "flex_flow": null,
            "grid_area": null,
            "grid_auto_columns": null,
            "grid_auto_flow": null,
            "grid_auto_rows": null,
            "grid_column": null,
            "grid_gap": null,
            "grid_row": null,
            "grid_template_areas": null,
            "grid_template_columns": null,
            "grid_template_rows": null,
            "height": null,
            "justify_content": null,
            "justify_items": null,
            "left": null,
            "margin": null,
            "max_height": null,
            "max_width": null,
            "min_height": null,
            "min_width": null,
            "object_fit": null,
            "object_position": null,
            "order": null,
            "overflow": null,
            "overflow_x": null,
            "overflow_y": null,
            "padding": null,
            "right": null,
            "top": null,
            "visibility": null,
            "width": null
          }
        },
        "61ab02d68dc444d2af055a15eeecf7e9": {
          "model_module": "@jupyter-widgets/controls",
          "model_module_version": "1.5.0",
          "model_name": "ProgressStyleModel",
          "state": {
            "_model_module": "@jupyter-widgets/controls",
            "_model_module_version": "1.5.0",
            "_model_name": "ProgressStyleModel",
            "_view_count": null,
            "_view_module": "@jupyter-widgets/base",
            "_view_module_version": "1.2.0",
            "_view_name": "StyleView",
            "bar_color": null,
            "description_width": ""
          }
        },
        "6ee095f0edb1483183388b61adc94a41": {
          "model_module": "@jupyter-widgets/controls",
          "model_module_version": "1.5.0",
          "model_name": "HTMLModel",
          "state": {
            "_dom_classes": [],
            "_model_module": "@jupyter-widgets/controls",
            "_model_module_version": "1.5.0",
            "_model_name": "HTMLModel",
            "_view_count": null,
            "_view_module": "@jupyter-widgets/controls",
            "_view_module_version": "1.5.0",
            "_view_name": "HTMLView",
            "description": "",
            "description_tooltip": null,
            "layout": "IPY_MODEL_5be9a663b8404368becba86cccbcc7f4",
            "placeholder": "​",
            "style": "IPY_MODEL_9fac377c145f4842bd68f357449ff384",
            "value": "spiece.model: 100%"
          }
        },
        "7330803a4e2b4535b0ea49954ca706f4": {
          "model_module": "@jupyter-widgets/controls",
          "model_module_version": "1.5.0",
          "model_name": "HBoxModel",
          "state": {
            "_dom_classes": [],
            "_model_module": "@jupyter-widgets/controls",
            "_model_module_version": "1.5.0",
            "_model_name": "HBoxModel",
            "_view_count": null,
            "_view_module": "@jupyter-widgets/controls",
            "_view_module_version": "1.5.0",
            "_view_name": "HBoxView",
            "box_style": "",
            "children": [
              "IPY_MODEL_780be0a5f9a141c4befcee95029add72",
              "IPY_MODEL_bce9edf1290441bc96f86c5468c67dee",
              "IPY_MODEL_343f3072c0c941f79e055c95726f566e"
            ],
            "layout": "IPY_MODEL_d043cd861143434a8b6fd97d2f8b29dc"
          }
        },
        "73cf52b6ac22445babe73cb94fe22ca7": {
          "model_module": "@jupyter-widgets/controls",
          "model_module_version": "1.5.0",
          "model_name": "DescriptionStyleModel",
          "state": {
            "_model_module": "@jupyter-widgets/controls",
            "_model_module_version": "1.5.0",
            "_model_name": "DescriptionStyleModel",
            "_view_count": null,
            "_view_module": "@jupyter-widgets/base",
            "_view_module_version": "1.2.0",
            "_view_name": "StyleView",
            "description_width": ""
          }
        },
        "780be0a5f9a141c4befcee95029add72": {
          "model_module": "@jupyter-widgets/controls",
          "model_module_version": "1.5.0",
          "model_name": "HTMLModel",
          "state": {
            "_dom_classes": [],
            "_model_module": "@jupyter-widgets/controls",
            "_model_module_version": "1.5.0",
            "_model_name": "HTMLModel",
            "_view_count": null,
            "_view_module": "@jupyter-widgets/controls",
            "_view_module_version": "1.5.0",
            "_view_name": "HTMLView",
            "description": "",
            "description_tooltip": null,
            "layout": "IPY_MODEL_7971a32ccbf5400fae96d71e6ef020a2",
            "placeholder": "​",
            "style": "IPY_MODEL_819c698f9a564f4d9f9b3c54daa24e82",
            "value": "config.json: 100%"
          }
        },
        "7971a32ccbf5400fae96d71e6ef020a2": {
          "model_module": "@jupyter-widgets/base",
          "model_module_version": "1.2.0",
          "model_name": "LayoutModel",
          "state": {
            "_model_module": "@jupyter-widgets/base",
            "_model_module_version": "1.2.0",
            "_model_name": "LayoutModel",
            "_view_count": null,
            "_view_module": "@jupyter-widgets/base",
            "_view_module_version": "1.2.0",
            "_view_name": "LayoutView",
            "align_content": null,
            "align_items": null,
            "align_self": null,
            "border": null,
            "bottom": null,
            "display": null,
            "flex": null,
            "flex_flow": null,
            "grid_area": null,
            "grid_auto_columns": null,
            "grid_auto_flow": null,
            "grid_auto_rows": null,
            "grid_column": null,
            "grid_gap": null,
            "grid_row": null,
            "grid_template_areas": null,
            "grid_template_columns": null,
            "grid_template_rows": null,
            "height": null,
            "justify_content": null,
            "justify_items": null,
            "left": null,
            "margin": null,
            "max_height": null,
            "max_width": null,
            "min_height": null,
            "min_width": null,
            "object_fit": null,
            "object_position": null,
            "order": null,
            "overflow": null,
            "overflow_x": null,
            "overflow_y": null,
            "padding": null,
            "right": null,
            "top": null,
            "visibility": null,
            "width": null
          }
        },
        "7d762fc225c443ce8eddbee3628e24a1": {
          "model_module": "@jupyter-widgets/controls",
          "model_module_version": "1.5.0",
          "model_name": "FloatProgressModel",
          "state": {
            "_dom_classes": [],
            "_model_module": "@jupyter-widgets/controls",
            "_model_module_version": "1.5.0",
            "_model_name": "FloatProgressModel",
            "_view_count": null,
            "_view_module": "@jupyter-widgets/controls",
            "_view_module_version": "1.5.0",
            "_view_name": "ProgressView",
            "bar_style": "success",
            "description": "",
            "description_tooltip": null,
            "layout": "IPY_MODEL_ae48b175f18c4c58bb3566bdf911e400",
            "max": 1580476856,
            "min": 0,
            "orientation": "horizontal",
            "style": "IPY_MODEL_d0a0fb1b0e954fe2a69c7e172d57f790",
            "value": 1580476856
          }
        },
        "819c698f9a564f4d9f9b3c54daa24e82": {
          "model_module": "@jupyter-widgets/controls",
          "model_module_version": "1.5.0",
          "model_name": "DescriptionStyleModel",
          "state": {
            "_model_module": "@jupyter-widgets/controls",
            "_model_module_version": "1.5.0",
            "_model_name": "DescriptionStyleModel",
            "_view_count": null,
            "_view_module": "@jupyter-widgets/base",
            "_view_module_version": "1.2.0",
            "_view_name": "StyleView",
            "description_width": ""
          }
        },
        "87fcf5a922da4c6691b34f83b4d98832": {
          "model_module": "@jupyter-widgets/base",
          "model_module_version": "1.2.0",
          "model_name": "LayoutModel",
          "state": {
            "_model_module": "@jupyter-widgets/base",
            "_model_module_version": "1.2.0",
            "_model_name": "LayoutModel",
            "_view_count": null,
            "_view_module": "@jupyter-widgets/base",
            "_view_module_version": "1.2.0",
            "_view_name": "LayoutView",
            "align_content": null,
            "align_items": null,
            "align_self": null,
            "border": null,
            "bottom": null,
            "display": null,
            "flex": null,
            "flex_flow": null,
            "grid_area": null,
            "grid_auto_columns": null,
            "grid_auto_flow": null,
            "grid_auto_rows": null,
            "grid_column": null,
            "grid_gap": null,
            "grid_row": null,
            "grid_template_areas": null,
            "grid_template_columns": null,
            "grid_template_rows": null,
            "height": null,
            "justify_content": null,
            "justify_items": null,
            "left": null,
            "margin": null,
            "max_height": null,
            "max_width": null,
            "min_height": null,
            "min_width": null,
            "object_fit": null,
            "object_position": null,
            "order": null,
            "overflow": null,
            "overflow_x": null,
            "overflow_y": null,
            "padding": null,
            "right": null,
            "top": null,
            "visibility": null,
            "width": null
          }
        },
        "9e2b9134ec50411c8ca5756c4b19d41d": {
          "model_module": "@jupyter-widgets/controls",
          "model_module_version": "1.5.0",
          "model_name": "HBoxModel",
          "state": {
            "_dom_classes": [],
            "_model_module": "@jupyter-widgets/controls",
            "_model_module_version": "1.5.0",
            "_model_name": "HBoxModel",
            "_view_count": null,
            "_view_module": "@jupyter-widgets/controls",
            "_view_module_version": "1.5.0",
            "_view_name": "HBoxView",
            "box_style": "",
            "children": [
              "IPY_MODEL_03499a3b9ac84845ad7ec2c335be4cbb",
              "IPY_MODEL_7d762fc225c443ce8eddbee3628e24a1",
              "IPY_MODEL_4214759994b04682a54ab1028ec1ba45"
            ],
            "layout": "IPY_MODEL_ca9b66aea43d4c7a948f7a3a8bad26cf"
          }
        },
        "9ef015da95f44c36806ddb599bdbafcd": {
          "model_module": "@jupyter-widgets/controls",
          "model_module_version": "1.5.0",
          "model_name": "FloatProgressModel",
          "state": {
            "_dom_classes": [],
            "_model_module": "@jupyter-widgets/controls",
            "_model_module_version": "1.5.0",
            "_model_name": "FloatProgressModel",
            "_view_count": null,
            "_view_module": "@jupyter-widgets/controls",
            "_view_module_version": "1.5.0",
            "_view_name": "ProgressView",
            "bar_style": "success",
            "description": "",
            "description_tooltip": null,
            "layout": "IPY_MODEL_87fcf5a922da4c6691b34f83b4d98832",
            "max": 1071955,
            "min": 0,
            "orientation": "horizontal",
            "style": "IPY_MODEL_61ab02d68dc444d2af055a15eeecf7e9",
            "value": 1071955
          }
        },
        "9fac377c145f4842bd68f357449ff384": {
          "model_module": "@jupyter-widgets/controls",
          "model_module_version": "1.5.0",
          "model_name": "DescriptionStyleModel",
          "state": {
            "_model_module": "@jupyter-widgets/controls",
            "_model_module_version": "1.5.0",
            "_model_name": "DescriptionStyleModel",
            "_view_count": null,
            "_view_module": "@jupyter-widgets/base",
            "_view_module_version": "1.2.0",
            "_view_name": "StyleView",
            "description_width": ""
          }
        },
        "ae48b175f18c4c58bb3566bdf911e400": {
          "model_module": "@jupyter-widgets/base",
          "model_module_version": "1.2.0",
          "model_name": "LayoutModel",
          "state": {
            "_model_module": "@jupyter-widgets/base",
            "_model_module_version": "1.2.0",
            "_model_name": "LayoutModel",
            "_view_count": null,
            "_view_module": "@jupyter-widgets/base",
            "_view_module_version": "1.2.0",
            "_view_name": "LayoutView",
            "align_content": null,
            "align_items": null,
            "align_self": null,
            "border": null,
            "bottom": null,
            "display": null,
            "flex": null,
            "flex_flow": null,
            "grid_area": null,
            "grid_auto_columns": null,
            "grid_auto_flow": null,
            "grid_auto_rows": null,
            "grid_column": null,
            "grid_gap": null,
            "grid_row": null,
            "grid_template_areas": null,
            "grid_template_columns": null,
            "grid_template_rows": null,
            "height": null,
            "justify_content": null,
            "justify_items": null,
            "left": null,
            "margin": null,
            "max_height": null,
            "max_width": null,
            "min_height": null,
            "min_width": null,
            "object_fit": null,
            "object_position": null,
            "order": null,
            "overflow": null,
            "overflow_x": null,
            "overflow_y": null,
            "padding": null,
            "right": null,
            "top": null,
            "visibility": null,
            "width": null
          }
        },
        "b73c7c1b89e84091af39b780e1b839b6": {
          "model_module": "@jupyter-widgets/controls",
          "model_module_version": "1.5.0",
          "model_name": "DescriptionStyleModel",
          "state": {
            "_model_module": "@jupyter-widgets/controls",
            "_model_module_version": "1.5.0",
            "_model_name": "DescriptionStyleModel",
            "_view_count": null,
            "_view_module": "@jupyter-widgets/base",
            "_view_module_version": "1.2.0",
            "_view_name": "StyleView",
            "description_width": ""
          }
        },
        "bce9edf1290441bc96f86c5468c67dee": {
          "model_module": "@jupyter-widgets/controls",
          "model_module_version": "1.5.0",
          "model_name": "FloatProgressModel",
          "state": {
            "_dom_classes": [],
            "_model_module": "@jupyter-widgets/controls",
            "_model_module_version": "1.5.0",
            "_model_name": "FloatProgressModel",
            "_view_count": null,
            "_view_module": "@jupyter-widgets/controls",
            "_view_module_version": "1.5.0",
            "_view_name": "ProgressView",
            "bar_style": "success",
            "description": "",
            "description_tooltip": null,
            "layout": "IPY_MODEL_1abf004f52604d4aab8c1669a8b23dfa",
            "max": 955,
            "min": 0,
            "orientation": "horizontal",
            "style": "IPY_MODEL_c171764981484b8086e820a00d641baa",
            "value": 955
          }
        },
        "c171764981484b8086e820a00d641baa": {
          "model_module": "@jupyter-widgets/controls",
          "model_module_version": "1.5.0",
          "model_name": "ProgressStyleModel",
          "state": {
            "_model_module": "@jupyter-widgets/controls",
            "_model_module_version": "1.5.0",
            "_model_name": "ProgressStyleModel",
            "_view_count": null,
            "_view_module": "@jupyter-widgets/base",
            "_view_module_version": "1.2.0",
            "_view_name": "StyleView",
            "bar_color": null,
            "description_width": ""
          }
        },
        "c4153e30acff41edac9c2d64c223c377": {
          "model_module": "@jupyter-widgets/controls",
          "model_module_version": "1.5.0",
          "model_name": "DescriptionStyleModel",
          "state": {
            "_model_module": "@jupyter-widgets/controls",
            "_model_module_version": "1.5.0",
            "_model_name": "DescriptionStyleModel",
            "_view_count": null,
            "_view_module": "@jupyter-widgets/base",
            "_view_module_version": "1.2.0",
            "_view_name": "StyleView",
            "description_width": ""
          }
        },
        "ca9b66aea43d4c7a948f7a3a8bad26cf": {
          "model_module": "@jupyter-widgets/base",
          "model_module_version": "1.2.0",
          "model_name": "LayoutModel",
          "state": {
            "_model_module": "@jupyter-widgets/base",
            "_model_module_version": "1.2.0",
            "_model_name": "LayoutModel",
            "_view_count": null,
            "_view_module": "@jupyter-widgets/base",
            "_view_module_version": "1.2.0",
            "_view_name": "LayoutView",
            "align_content": null,
            "align_items": null,
            "align_self": null,
            "border": null,
            "bottom": null,
            "display": null,
            "flex": null,
            "flex_flow": null,
            "grid_area": null,
            "grid_auto_columns": null,
            "grid_auto_flow": null,
            "grid_auto_rows": null,
            "grid_column": null,
            "grid_gap": null,
            "grid_row": null,
            "grid_template_areas": null,
            "grid_template_columns": null,
            "grid_template_rows": null,
            "height": null,
            "justify_content": null,
            "justify_items": null,
            "left": null,
            "margin": null,
            "max_height": null,
            "max_width": null,
            "min_height": null,
            "min_width": null,
            "object_fit": null,
            "object_position": null,
            "order": null,
            "overflow": null,
            "overflow_x": null,
            "overflow_y": null,
            "padding": null,
            "right": null,
            "top": null,
            "visibility": null,
            "width": null
          }
        },
        "d03ae03ca7e14021ab568fe0d920977d": {
          "model_module": "@jupyter-widgets/controls",
          "model_module_version": "1.5.0",
          "model_name": "DescriptionStyleModel",
          "state": {
            "_model_module": "@jupyter-widgets/controls",
            "_model_module_version": "1.5.0",
            "_model_name": "DescriptionStyleModel",
            "_view_count": null,
            "_view_module": "@jupyter-widgets/base",
            "_view_module_version": "1.2.0",
            "_view_name": "StyleView",
            "description_width": ""
          }
        },
        "d043cd861143434a8b6fd97d2f8b29dc": {
          "model_module": "@jupyter-widgets/base",
          "model_module_version": "1.2.0",
          "model_name": "LayoutModel",
          "state": {
            "_model_module": "@jupyter-widgets/base",
            "_model_module_version": "1.2.0",
            "_model_name": "LayoutModel",
            "_view_count": null,
            "_view_module": "@jupyter-widgets/base",
            "_view_module_version": "1.2.0",
            "_view_name": "LayoutView",
            "align_content": null,
            "align_items": null,
            "align_self": null,
            "border": null,
            "bottom": null,
            "display": null,
            "flex": null,
            "flex_flow": null,
            "grid_area": null,
            "grid_auto_columns": null,
            "grid_auto_flow": null,
            "grid_auto_rows": null,
            "grid_column": null,
            "grid_gap": null,
            "grid_row": null,
            "grid_template_areas": null,
            "grid_template_columns": null,
            "grid_template_rows": null,
            "height": null,
            "justify_content": null,
            "justify_items": null,
            "left": null,
            "margin": null,
            "max_height": null,
            "max_width": null,
            "min_height": null,
            "min_width": null,
            "object_fit": null,
            "object_position": null,
            "order": null,
            "overflow": null,
            "overflow_x": null,
            "overflow_y": null,
            "padding": null,
            "right": null,
            "top": null,
            "visibility": null,
            "width": null
          }
        },
        "d0a0fb1b0e954fe2a69c7e172d57f790": {
          "model_module": "@jupyter-widgets/controls",
          "model_module_version": "1.5.0",
          "model_name": "ProgressStyleModel",
          "state": {
            "_model_module": "@jupyter-widgets/controls",
            "_model_module_version": "1.5.0",
            "_model_name": "ProgressStyleModel",
            "_view_count": null,
            "_view_module": "@jupyter-widgets/base",
            "_view_module_version": "1.2.0",
            "_view_name": "StyleView",
            "bar_color": null,
            "description_width": ""
          }
        },
        "da66bd0741ce4b89807f3d055d695be8": {
          "model_module": "@jupyter-widgets/controls",
          "model_module_version": "1.5.0",
          "model_name": "HBoxModel",
          "state": {
            "_dom_classes": [],
            "_model_module": "@jupyter-widgets/controls",
            "_model_module_version": "1.5.0",
            "_model_name": "HBoxModel",
            "_view_count": null,
            "_view_module": "@jupyter-widgets/controls",
            "_view_module_version": "1.5.0",
            "_view_name": "HBoxView",
            "box_style": "",
            "children": [
              "IPY_MODEL_6ee095f0edb1483183388b61adc94a41",
              "IPY_MODEL_9ef015da95f44c36806ddb599bdbafcd",
              "IPY_MODEL_4bf2755aa2b74c59804dec23f09325a8"
            ],
            "layout": "IPY_MODEL_4a4be75a05884714b7c3d53c45d1c94d"
          }
        }
      }
    }
  },
  "nbformat": 4,
  "nbformat_minor": 0
}
