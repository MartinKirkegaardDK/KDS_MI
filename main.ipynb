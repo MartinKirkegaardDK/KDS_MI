{
 "cells": [
  {
   "cell_type": "code",
   "execution_count": 23,
   "metadata": {},
   "outputs": [],
   "source": [
    "import os\n",
    "\n",
    "try:\n",
    "    has_changed_dir\n",
    "except:\n",
    "    has_changed_dir = False\n",
    "\n",
    "try:\n",
    "    import google.colab\n",
    "    IN_COLAB = True\n",
    "    print(\"Running as a Colab notebook\")\n",
    "except:\n",
    "    IN_COLAB = False\n",
    "\n",
    "if IN_COLAB:\n",
    "    %pip install datasets\n",
    "    %pip install translate-toolkit\n",
    "    #%pip install bitsandbytes\n",
    "\n",
    "    !git clone https://github.com/MartinKirkegaardDK/KDS_MI.git\n",
    "\n",
    "    if not has_changed_dir:\n",
    "        os.chdir('KDS_MI')\n",
    "        has_changed_dir = True\n",
    "else:\n",
    "    if not has_changed_dir:\n",
    "        os.chdir('.')\n",
    "        has_changed_dir = True"
   ]
  },
  {
   "cell_type": "code",
   "execution_count": 24,
   "metadata": {},
   "outputs": [
    {
     "name": "stdout",
     "output_type": "stream",
     "text": [
      "The autoreload extension is already loaded. To reload it, use:\n",
      "  %reload_ext autoreload\n"
     ]
    }
   ],
   "source": [
    "%load_ext autoreload\n",
    "%autoreload 2"
   ]
  },
  {
   "cell_type": "code",
   "execution_count": 25,
   "metadata": {},
   "outputs": [],
   "source": [
    "from drivers import preprocessing,probe_confidence_intervals, steering, create_steering_vectors, steering_loss\n"
   ]
  },
  {
   "cell_type": "markdown",
   "metadata": {},
   "source": [
    "## preprocessing"
   ]
  },
  {
   "cell_type": "code",
   "execution_count": null,
   "metadata": {},
   "outputs": [],
   "source": [
    "preprocessing.run()"
   ]
  },
  {
   "cell_type": "markdown",
   "metadata": {},
   "source": [
    "## probe_confidence_intervals"
   ]
  },
  {
   "cell_type": "code",
   "execution_count": null,
   "metadata": {},
   "outputs": [],
   "source": [
    "probe_confidence_intervals.run()"
   ]
  },
  {
   "cell_type": "markdown",
   "metadata": {},
   "source": [
    "## Create steering vector"
   ]
  },
  {
   "cell_type": "code",
   "execution_count": null,
   "metadata": {},
   "outputs": [
    {
     "name": "stdout",
     "output_type": "stream",
     "text": [
      "Load model\n",
      "found device: cpu\n",
      "Load data\n"
     ]
    },
    {
     "name": "stderr",
     "output_type": "stream",
     "text": [
      "  0%|          | 0/21 [00:00<?, ?it/s]Asking to truncate to max_length but no maximum length is provided and the model has no predefined maximum length. Default to no truncation.\n",
      " 29%|██▊       | 6/21 [00:12<00:31,  2.07s/it]\n",
      " 29%|██▊       | 6/21 [00:08<00:20,  1.37s/it]\n",
      " 25%|██▌       | 6/24 [00:04<00:12,  1.42it/s]\n",
      " 24%|██▍       | 6/25 [00:06<00:19,  1.04s/it]\n",
      " 38%|███▊      | 6/16 [00:06<00:11,  1.12s/it]\n"
     ]
    }
   ],
   "source": [
    "create_steering_vectors.run(\n",
    "    model_name=\"EleutherAI/pythia-14m\",\n",
    "    target_language=\"nb\", \n",
    "    complement_languages=[\"is\",\"da\",\"en\",\"sv\"], \n",
    "    run_name=\"NB_PYTHIA\"\n",
    ")"
   ]
  },
  {
   "cell_type": "markdown",
   "metadata": {},
   "source": [
    "## Test steering vectors"
   ]
  },
  {
   "cell_type": "code",
   "execution_count": 42,
   "metadata": {},
   "outputs": [
    {
     "name": "stdout",
     "output_type": "stream",
     "text": [
      "found device: cpu\n"
     ]
    },
    {
     "name": "stderr",
     "output_type": "stream",
     "text": [
      "c:\\Users\\Bruger\\Code\\mechinterp\\KDS_MI\\drivers\\steering.py:35: FutureWarning: You are using `torch.load` with `weights_only=False` (the current default value), which uses the default pickle module implicitly. It is possible to construct malicious pickle data which will execute arbitrary code during unpickling (See https://github.com/pytorch/pytorch/blob/main/SECURITY.md#untrusted-models for more details). In a future release, the default value for `weights_only` will be flipped to `True`. This limits the functions that could be executed during unpickling. Arbitrary objects will no longer be allowed to be loaded via this mode unless they are explicitly allowlisted by the user via `torch.serialization.add_safe_globals`. We recommend you start setting `weights_only=True` for any use case where you don't have full control of the loaded file. Please open an issue on GitHub for any issues related to this experimental feature.\n",
      "  \n"
     ]
    },
    {
     "name": "stdout",
     "output_type": "stream",
     "text": [
      "In a pooled analysis of antibiotic stewardship programmes, re-engagagagagagagagagagagagagagagagagagagagagagagagagagagagagagagagagagagagagagagagagagagagagagagagagagagagagagagagagagagagagagagagagagagagagagagagagagagagagagagagagagagagagagagag \n",
      "\n",
      "\n",
      "a) Following local evidence-based antibiotic guidelines for the drug.    For    fommer    fommer    fommer    fommer    fommer    fommer    fommer    fommer    fommer    fommer    fommer    fommer    fommer    fommer    fommer    fommer    fom \n",
      "\n",
      "\n",
      "Professionals in emergency departments should only start antibiotic therapy, but he failed to recommend for    “He succeeded in a second of the last he succeeded in a second of his first-day,    “Gresser    “Kombeded the last-day    “A-D-D-D-D-D-D-D-D-D-D-D-D-D-D-D-D-D-D-D- \n",
      "\n",
      "\n",
      "For patients with sepsis, initiate effective antibiotic treatment via drug therapy with drug therapy.    Finder    Finder    Finder    Finder    Finder    Finder    Finder    Finder    Finder    Finder    Finder    Finder    Finder    Finder    Finder    Finder    Finder    Finder    Finder    Finder    Finder \n",
      "\n",
      "\n",
      "Bacteria have antibiotic resistance when specific antibiotics have lost antibiotic resistance.    In a case of a second antibiotic    In a case of a second antibiotic    In a case of a second antibiotic    In a case of a third antibiotic    In a case of a third antibiotic    In a case of a second antibiotic    In a case of a third antibiotic    In a case of a second antibiotic    In a case of a second antibiotic    In a case of \n",
      "\n",
      "\n",
      "Since 2008, numerous health-related and professional organisations have led to his  return to the    In his career    In his career    In his career    In his career    In his career    In his career    In his career    In his career    In his career    In his career    In his career    In his career    In his career    In his career    In his career    In his career     \n",
      "\n",
      "\n",
      "E. coli is generally harmless but may sometimes cause the problem of testing    Avoid    Avoid    Bull    Vormo    Vormo    Vormo    Vormo    Vormo    Vormo    Vormo    Vormo    Vormo    Vormo    Vormo    Vormo    Vormo    Vormo    Vorm \n",
      "\n",
      "\n",
      "f) Using evidence-based antibiotic guidelines and policies on treating    Uner der Wede    Uner der Wede    Uner der Wede    Uner der Wede    Uner der Wede    Uner der Wede    Uner der Wede    Uner der Wede    Uner der Wede    Uner der Wede    Uner der Wede    Uner der Wede    Uner \n",
      "\n",
      "\n",
      "Organise and promote educational events, courses and meetings for    Dunker,    Fernanden,    Fernanden,    Fernanden,    Fernanden,    Fernanden,    Fernanden,    Fernanden,    Fernanden,    Fernanden,    Fernanden,    Fernanden,    Fernanden,    Fernanden,    Fernanden \n",
      "\n",
      "\n",
      "Regularly organise audits/surveys_reflats_stress_s_res_back_s_self_new_s_reflats_t_reflats_t_reflats_t_reflats_t_reflats_t_reflats_t_reflats_t_reflats_t_reflats_t_reflats_t_reflats_t_refl \n",
      "\n",
      "\n"
     ]
    }
   ],
   "source": [
    "steering_vector_path = \"steering_vectors/DA_PYTHIA/combined_steering_vector_layer_4_tensor.pt\"\n",
    "model_name = 'EleutherAI/pythia-14m'\n",
    "\n",
    "steering.run(\n",
    "    steering_vector_path=steering_vector_path,\n",
    "    steering_lambda=5,\n",
    "    affected_language=\"en\",\n",
    "    layer=4,\n",
    "    model_name=model_name,\n",
    "    data_folder='data/preprocessed/train'\n",
    ")"
   ]
  },
  {
   "cell_type": "markdown",
   "metadata": {},
   "source": [
    "## Measure steering vector loss impact"
   ]
  },
  {
   "cell_type": "code",
   "execution_count": 41,
   "metadata": {},
   "outputs": [
    {
     "name": "stdout",
     "output_type": "stream",
     "text": [
      "found device: cpu\n"
     ]
    },
    {
     "data": {
      "image/png": "[encoded data removed]",
      "text/plain": [
       "<Figure size 1000x500 with 1 Axes>"
      ]
     },
     "metadata": {},
     "output_type": "display_data"
    }
   ],
   "source": [
    "steering_vector_folder = 'steering_vectors/DA_PYTHIA'\n",
    "\n",
    "steering_loss.run(\n",
    "    steering_vector_folder=steering_vector_folder,\n",
    "    model_name='EleutherAI/pythia-14m',\n",
    "    steering_lambda=5\n",
    ")"
   ]
  },
  {
   "cell_type": "markdown",
   "metadata": {},
   "source": [
    "## Plot steering vector PCAs"
   ]
  },
  {
   "cell_type": "code",
   "execution_count": null,
   "metadata": {},
   "outputs": [],
   "source": []
  }
 ],
 "metadata": {
  "kernelspec": {
   "display_name": "mechinterp",
   "language": "python",
   "name": "python3"
  },
  "language_info": {
   "codemirror_mode": {
    "name": "ipython",
    "version": 3
   },
   "file_extension": ".py",
   "mimetype": "text/x-python",
   "name": "python",
   "nbconvert_exporter": "python",
   "pygments_lexer": "ipython3",
   "version": "3.12.9"
  }
 },
 "nbformat": 4,
 "nbformat_minor": 2
}
