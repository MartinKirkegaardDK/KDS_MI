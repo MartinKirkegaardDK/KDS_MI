{
 "cells": [
  {
   "cell_type": "code",
   "execution_count": null,
   "metadata": {},
   "outputs": [],
   "source": [
    "import os\n",
    "\n",
    "try:\n",
    "    has_changed_dir\n",
    "except:\n",
    "    has_changed_dir = False\n",
    "\n",
    "try:\n",
    "    import google.colab\n",
    "    IN_COLAB = True\n",
    "    print(\"Running as a Colab notebook\")\n",
    "except:\n",
    "    IN_COLAB = False\n",
    "\n",
    "if IN_COLAB:\n",
    "    %pip install datasets\n",
    "    %pip install translate-toolkit\n",
    "    #%pip install bitsandbytes\n",
    "\n",
    "    !git clone https://github.com/MartinKirkegaardDK/KDS_MI.git\n",
    "\n",
    "    if not has_changed_dir:\n",
    "        os.chdir('KDS_MI')\n",
    "        has_changed_dir = True\n",
    "else:\n",
    "    if not has_changed_dir:\n",
    "        os.chdir('.')\n",
    "        has_changed_dir = True"
   ]
  },
  {
   "cell_type": "code",
   "execution_count": null,
   "metadata": {},
   "outputs": [],
   "source": [
    "%load_ext autoreload\n",
    "%autoreload 2"
   ]
  },
  {
   "cell_type": "code",
   "execution_count": null,
   "metadata": {},
   "outputs": [],
   "source": [
    "from drivers import (\n",
    "    preprocessing,probe_confidence_intervals, \n",
    "    steering, create_steering_vectors, \n",
    "    steering_loss, \n",
    "    distance_plots, \n",
    "    create_average_activation_vectors, \n",
    "    visualising_steering_vectors,\n",
    "    visualising_activations,\n",
    "    visualize_probe_results,\n",
    "    gen_steering_data_for_bible\n",
    ")\n",
    "\n",
    "from pathlib import Path\n"
   ]
  },
  {
   "cell_type": "markdown",
   "metadata": {},
   "source": [
    "## Data preprocessing\n",
    "\n",
    "Preprocesses the multilingual data, by removing short sentences"
   ]
  },
  {
   "cell_type": "code",
   "execution_count": null,
   "metadata": {},
   "outputs": [],
   "source": [
    "preprocessing.run()"
   ]
  },
  {
   "cell_type": "markdown",
   "metadata": {},
   "source": [
    "## Analysis of residual stream activations"
   ]
  },
  {
   "cell_type": "markdown",
   "metadata": {},
   "source": [
    "### PCA of activations"
   ]
  },
  {
   "cell_type": "code",
   "execution_count": null,
   "metadata": {},
   "outputs": [],
   "source": [
    "visualising_activations.run(model_name=\"EleutherAI/pythia-14m\")"
   ]
  },
  {
   "cell_type": "markdown",
   "metadata": {},
   "source": [
    "### Classification probes"
   ]
  },
  {
   "cell_type": "code",
   "execution_count": null,
   "metadata": {},
   "outputs": [],
   "source": [
    "probe_confidence_intervals.run(\n",
    "    model_name=\"AI-Sweden-Models/gpt-sw3-356m\",\n",
    "    reg_lambdas=[0.1, 0.5, 1, 2, 5, 10]\n",
    ")"
   ]
  },
  {
   "cell_type": "code",
   "execution_count": null,
   "metadata": {},
   "outputs": [],
   "source": [
    "result_folder = Path('results/data/probe_confidence_intervals')\n",
    "\n",
    "visualize_probe_results.run(\n",
    "    probe_result_path_by_reg_lambda={\n",
    "        0.1: result_folder / 'AI-Sweden-Models-gpt-sw3-356m_reg_lambda_0.1.json',\n",
    "        0.5: result_folder / 'AI-Sweden-Models-gpt-sw3-356m_reg_lambda_0.5.json',\n",
    "        1: result_folder / 'AI-Sweden-Models-gpt-sw3-356m_reg_lambda_1.json',\n",
    "        2: result_folder / 'AI-Sweden-Models-gpt-sw3-356m_reg_lambda_2.json',\n",
    "        5: result_folder / 'AI-Sweden-Models-gpt-sw3-356m_reg_lambda_5.json',\n",
    "        10: result_folder / 'AI-Sweden-Models-gpt-sw3-356m_reg_lambda_10.json',\n",
    "    }\n",
    ")\n",
    "\n"
   ]
  },
  {
   "cell_type": "markdown",
   "metadata": {},
   "source": [
    "## plots the distance plots"
   ]
  },
  {
   "cell_type": "code",
   "execution_count": null,
   "metadata": {},
   "outputs": [],
   "source": [
    "#AI-Sweden-Models/gpt-sw3-356m\n",
    "distance_plots.run(\"da\",\"average_activation_vectors/gpt_sw3_356m/\",\"euclidean\")"
   ]
  },
  {
   "cell_type": "markdown",
   "metadata": {},
   "source": [
    "## Create average activation vectors\n",
    "these are the \"base\" steering vectors e.i. the average activations for different layers and languages.\n",
    "This function generates them and the next block then splits them up for the analysis section"
   ]
  },
  {
   "cell_type": "code",
   "execution_count": null,
   "metadata": {},
   "outputs": [],
   "source": [
    "create_average_activation_vectors.run([\"nb\",\"is\",\"da\",\"en\",\"sv\"],\"AI-Sweden-Models/gpt-sw3-356m\",\"test_test\")"
   ]
  },
  {
   "cell_type": "markdown",
   "metadata": {},
   "source": [
    "## Create steering vector\n",
    "these are the steering vectors towards a specific language. This is different that"
   ]
  },
  {
   "cell_type": "code",
   "execution_count": null,
   "metadata": {},
   "outputs": [],
   "source": [
    "#AI-Sweden-Models/gpt-sw3-356m\n",
    "create_steering_vectors.run(\n",
    "    model_name=\"AI-Sweden-Models/gpt-sw3-356m\",\n",
    "    target_language=\"nb\", \n",
    "    complement_languages=[\"is\",\"da\",\"en\",\"sv\"], \n",
    "    run_name=\"test_test\"\n",
    ")"
   ]
  },
  {
   "cell_type": "markdown",
   "metadata": {},
   "source": [
    "## Test steering vectors"
   ]
  },
  {
   "cell_type": "code",
   "execution_count": null,
   "metadata": {},
   "outputs": [],
   "source": [
    "steering_vector_path = \"steering_vectors/DA_PYTHIA/combined_steering_vector_layer_4_tensor.pt\"\n",
    "model_name = 'EleutherAI/pythia-14m'\n",
    "\n",
    "steering.run(\n",
    "    steering_vector_path=steering_vector_path,\n",
    "    steering_lambda=5,\n",
    "    affected_language=\"en\",\n",
    "    layer=4,\n",
    "    model_name=model_name,\n",
    "    data_folder='data/preprocessed/train'\n",
    ")"
   ]
  },
  {
   "cell_type": "markdown",
   "metadata": {},
   "source": [
    "## Measure steering vector loss impact"
   ]
  },
  {
   "cell_type": "code",
   "execution_count": null,
   "metadata": {},
   "outputs": [],
   "source": [
    "steering_vector_folder = 'steering_vectors/DA_PYTHIA'\n",
    "\n",
    "steering_loss.run(\n",
    "    steering_vector_folder=steering_vector_folder,\n",
    "    model_name='EleutherAI/pythia-14m',\n",
    "    steering_lambda=5\n",
    ")"
   ]
  },
  {
   "cell_type": "markdown",
   "metadata": {},
   "source": [
    "## Plot steering vector PCAs"
   ]
  },
  {
   "cell_type": "code",
   "execution_count": null,
   "metadata": {},
   "outputs": [],
   "source": [
    "steering_vector_folder = Path('steering_vectors/')\n",
    "\n",
    "visualising_steering_vectors.run(\n",
    "    steering_vector_paths_by_language={\n",
    "        'en': lambda layer: steering_vector_folder / f'EN/combined_steering_vector_layer_{layer}_tensor.pt',\n",
    "        'da': lambda layer: steering_vector_folder / f'DA/combined_steering_vector_layer_{layer}_tensor.pt',\n",
    "        'sv': lambda layer: steering_vector_folder / f'SV/combined_steering_vector_layer_{layer}_tensor.pt',\n",
    "        'nb': lambda layer: steering_vector_folder / f'NB/combined_steering_vector_layer_{layer}_tensor.pt',\n",
    "        'is': lambda layer: steering_vector_folder / f'IS/combined_steering_vector_layer_{layer}_tensor.pt'\n",
    "    },\n",
    "    hidden_layers=24\n",
    ")"
   ]
  },
  {
   "cell_type": "markdown",
   "metadata": {},
   "source": [
    "## Bible study"
   ]
  },
  {
   "cell_type": "code",
   "execution_count": null,
   "metadata": {},
   "outputs": [],
   "source": [
    "steering_vector_path = \"steering_vectors/test_run_2/\"\n",
    "model_name = \"AI-Sweden-Models/gpt-sw3-356m\"\n",
    "language1 = \"da\"\n",
    "langauge2 = \"en\"\n",
    "start_verse = 3\n",
    "gen_steering_data_for_bible.run(steering_vector_path,model_name, language1, langauge2,start_verse)"
   ]
  }
 ],
 "metadata": {
  "kernelspec": {
   "display_name": "Python 3",
   "language": "python",
   "name": "python3"
  },
  "language_info": {
   "codemirror_mode": {
    "name": "ipython",
    "version": 3
   },
   "file_extension": ".py",
   "mimetype": "text/x-python",
   "name": "python",
   "nbconvert_exporter": "python",
   "pygments_lexer": "ipython3",
   "version": "3.11.2"
  }
 },
 "nbformat": 4,
 "nbformat_minor": 2
}
