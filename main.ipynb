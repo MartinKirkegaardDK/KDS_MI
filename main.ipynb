{
 "cells": [
  {
   "cell_type": "code",
   "execution_count": null,
   "metadata": {},
   "outputs": [],
   "source": [
    "import os\n",
    "\n",
    "try:\n",
    "    has_changed_dir\n",
    "except:\n",
    "    has_changed_dir = False\n",
    "\n",
    "try:\n",
    "    import google.colab\n",
    "    IN_COLAB = True\n",
    "    print(\"Running as a Colab notebook\")\n",
    "except:\n",
    "    IN_COLAB = False\n",
    "\n",
    "if IN_COLAB:\n",
    "    %pip install datasets\n",
    "    %pip install translate-toolkit\n",
    "    #%pip install bitsandbytes\n",
    "\n",
    "    !git clone https://github.com/MartinKirkegaardDK/KDS_MI.git\n",
    "\n",
    "    if not has_changed_dir:\n",
    "        os.chdir('KDS_MI')\n",
    "        has_changed_dir = True\n",
    "else:\n",
    "    if not has_changed_dir:\n",
    "        os.chdir('.')\n",
    "        has_changed_dir = True"
   ]
  },
  {
   "cell_type": "code",
   "execution_count": null,
   "metadata": {},
   "outputs": [],
   "source": [
    "from drivers import preprocessing,probe_confidence_intervals, steering, create_steering_vectors\n"
   ]
  },
  {
   "cell_type": "markdown",
   "metadata": {},
   "source": [
    "## preprocessing"
   ]
  },
  {
   "cell_type": "code",
   "execution_count": null,
   "metadata": {},
   "outputs": [],
   "source": [
    "preprocessing.run()"
   ]
  },
  {
   "cell_type": "markdown",
   "metadata": {},
   "source": [
    "## probe_confidence_intervals"
   ]
  },
  {
   "cell_type": "code",
   "execution_count": null,
   "metadata": {},
   "outputs": [],
   "source": [
    "probe_confidence_intervals.run()"
   ]
  },
  {
   "cell_type": "markdown",
   "metadata": {},
   "source": [
    "## Steering vector"
   ]
  },
  {
   "cell_type": "code",
   "execution_count": null,
   "metadata": {},
   "outputs": [],
   "source": [
    "create_steering_vectors.run(\"AI-Sweden-Models/gpt-sw3-356m\",\"da\",[\"en\",\"sv\",\"nb\",\"is\"],\"test_run_2\")"
   ]
  },
  {
   "cell_type": "code",
   "execution_count": null,
   "metadata": {},
   "outputs": [],
   "source": [
    "steering_vector_path = \"steering_vectors/initial_test_run/combined_steering_vector_layer_14_tensor.pt\"\n",
    "steering.run(steering_vector_path, \"en\", 14)"
   ]
  },
  {
   "cell_type": "code",
   "execution_count": null,
   "metadata": {},
   "outputs": [],
   "source": []
  }
 ],
 "metadata": {
  "kernelspec": {
   "display_name": "Python 3",
   "language": "python",
   "name": "python3"
  },
  "language_info": {
   "codemirror_mode": {
    "name": "ipython",
    "version": 3
   },
   "file_extension": ".py",
   "mimetype": "text/x-python",
   "name": "python",
   "nbconvert_exporter": "python",
   "pygments_lexer": "ipython3",
   "version": "3.12.3"
  }
 },
 "nbformat": 4,
 "nbformat_minor": 2
}
