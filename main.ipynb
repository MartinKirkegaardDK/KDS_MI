{
 "cells": [
  {
   "cell_type": "code",
   "execution_count": null,
   "metadata": {},
   "outputs": [],
   "source": [
    "import os\n",
    "\n",
    "try:\n",
    "    has_changed_dir\n",
    "except:\n",
    "    has_changed_dir = False\n",
    "\n",
    "try:\n",
    "    import google.colab\n",
    "    IN_COLAB = True\n",
    "    print(\"Running as a Colab notebook\")\n",
    "except:\n",
    "    IN_COLAB = False\n",
    "\n",
    "if IN_COLAB:\n",
    "    %pip install datasets\n",
    "    %pip install translate-toolkit\n",
    "    #%pip install bitsandbytes\n",
    "\n",
    "    !git clone https://github.com/MartinKirkegaardDK/KDS_MI.git\n",
    "\n",
    "    if not has_changed_dir:\n",
    "        os.chdir('KDS_MI')\n",
    "        has_changed_dir = True\n",
    "else:\n",
    "    if not has_changed_dir:\n",
    "        os.chdir('.')\n",
    "        has_changed_dir = True"
   ]
  },
  {
   "cell_type": "code",
   "execution_count": 1,
   "metadata": {},
   "outputs": [],
   "source": [
    "from drivers import preprocessing,probe_confidence_intervals, steering \n"
   ]
  },
  {
   "cell_type": "markdown",
   "metadata": {},
   "source": [
    "## preprocessing"
   ]
  },
  {
   "cell_type": "code",
   "execution_count": null,
   "metadata": {},
   "outputs": [],
   "source": [
    "preprocessing.run()"
   ]
  },
  {
   "cell_type": "markdown",
   "metadata": {},
   "source": [
    "## probe_confidence_intervals"
   ]
  },
  {
   "cell_type": "code",
   "execution_count": null,
   "metadata": {},
   "outputs": [],
   "source": [
    "probe_confidence_intervals.run()"
   ]
  },
  {
   "cell_type": "markdown",
   "metadata": {},
   "source": [
    "## Steering vector"
   ]
  },
  {
   "cell_type": "code",
   "execution_count": 2,
   "metadata": {},
   "outputs": [
    {
     "name": "stdout",
     "output_type": "stream",
     "text": [
      "Load data\n"
     ]
    },
    {
     "name": "stderr",
     "output_type": "stream",
     "text": [
      "/Users/marki/Documents/GitHub/KDS_MI/drivers/steering.py:30: FutureWarning: You are using `torch.load` with `weights_only=False` (the current default value), which uses the default pickle module implicitly. It is possible to construct malicious pickle data which will execute arbitrary code during unpickling (See https://github.com/pytorch/pytorch/blob/main/SECURITY.md#untrusted-models for more details). In a future release, the default value for `weights_only` will be flipped to `True`. This limits the functions that could be executed during unpickling. Arbitrary objects will no longer be allowed to be loaded via this mode unless they are explicitly allowlisted by the user via `torch.serialization.add_safe_globals`. We recommend you start setting `weights_only=True` for any use case where you don't have full control of the loaded file. Please open an issue on GitHub for any issues related to this experimental feature.\n",
      "  steering_vector = torch.load(str(steering_vector_path))\n"
     ]
    },
    {
     "name": "stdout",
     "output_type": "stream",
     "text": [
      "e) Ensuring that relevant cultures are taken before denaturering, men også at man undgår at få et for stort indhold af menan og andre organiske opløsningsmidler, som man har i de produkter, man producerer. 2.4.5.6 Denaturering af alkoholholdige drikkevarer Denaturering af alkoholholdige drikkevarer (VOD) er et begreb, som blev indført i 1994 af Det Europæiske Fællesskab (EF) og bruges til at beskrive den proces, \n",
      "\n",
      "\n",
      "Ensure that cultures are appropriately taken and send af sted mod et mål, som det er muligt at nå, og som det er muligt at nå med en tilstrækkelig lang række af midler, f.eks. gennem et tilskud fra de regionale udviklingsfonde, og som er tilpasset de behov, der er beskrevet i de lokale og regionale udviklingsfonde, og som ikke er til hinder for, at de lokale og regionale udviklingsfonde kan gennemføre de aktiviteter, der er beskrevet i deres støtteberettig \n",
      "\n",
      "\n",
      "information material, poster, toolkit material - det er noget, vi har brug for at få dækket. Det er en fordel, hvis du som leverandør kan tilbyde en løsning, hvor du selv kan vælge, hvor meget du vil betale for at dække udgifterne til dette.  Det er i øvrigt en mulighed at søge tilskud til at dække udgifterne til et kursus. Tilskud til et kursus kan søges af alle, som producerer, sælger eller formidler informationsmaterialer, poster, tilolkit eller \n",
      "\n",
      "\n",
      "b) Ensuring guidelines incorporate local microbiology og ecotoxicitet i det danske miljø. c) At der udarbejdes nationale retningslinjer for indsamling, registrering og lagring af data om miljøfarlige stoffer og om, hvordan disse oplysninger skal bruges til miljøbeskyttelse. d) At der udfærdiges en EU-forordning om miljøfarlige stoffer. e) At der i forbindelse med afholdelse af offentlige høringer i henhold til EU-forordning nr. 1005/20 \n",
      "\n",
      "\n",
      "Although this type of resistance is rare in Scandinavia, så er det dog en mulighed at få den på f.eks. Bornholm, hvor man kan få den i en særlig type, som hedder RL-1, som er en type, som ikke kan modstå en orkan. Det er en af de typer, som du kan få på Bornholm, fordi den er så lille, og så er den modstandsdygtig over for vindstød, der er op til 100 km/t \n",
      "\n",
      "\n",
      "It is important to stress that the template materials provide etuier til at være en del af et miljø, der er et resultat af et samfund, hvor der er en høj grad af afhængighed af miljøet.  engelsk:  For at sikre, at disse miljømæssige risici ikke forværres yderligere, bør der i forbindelse med udarbejdelsen af den i artikel 10 omhandlede beslutning fastsættes generelle krav til, hvordan de i bilag II omhandlede miljøfarlige stoffer og blandinger skal identificeres, klassific \n",
      "\n",
      "\n",
      "information material, poster, toolkit material, og så videre. Du kan også søge efter dine foretrukne materialer, og du kan endda oprette en side med dine egne materialer.  Brug af materialer  Hvis du har brug for at oprette et websted, som andre kan bruge, kan du bruge forskellige typer af materialer, som du kan bruge til at gøre dit websted mere brugervenligt. Dette kan være en bannerannonce, et link til et websted eller et billede, som du har uploadet til \n",
      "\n",
      "\n",
      "This guidance can include guidelines, protocols and checklists til at forbedre sikkerheden for alle brugere af websteder, der indeholder personoplysninger.  Engelsk: Denne vejledning kan omfatte retningslinjer, protokoller og tjeklister til at forbedre sikkerheden for alle brugere af websteder, der indeholder personoplysninger.  Dansk: En af de vigtigste faktorer for at forstå, hvorfor du har brug for at blive gravid er, at det kan skyldes en række forskellige årsager.  Dansk: En af de vigtigste faktorer for at forstå, hvorfor du \n",
      "\n",
      "\n",
      "It was a very lonely few weeks with only my to dele ud af af min kæreste, så du har sikkert et godt og kærligt liv i vente.  Navn: Liva/ Alder: 24 år/ Vækst: 174/ Vægt: 75  Det var så min dag. Det er jo helt ufatteligt, at du ikke kan få lov til at få en kæreste, du har lyst til at være sammen med.  Navn: Wivaldo \n",
      "\n",
      "\n",
      "Surveillance data show that antimicrobial resistance hos mennesker skyldes infektion med bakterier, som kan overføres fra dyr til mennesker.    Ifølge professoren er der ingen tvivl om, at der er tale om en global trussel mod folkesundheden.    - Det er ikke nogen nyhed, at der er et problem i verden, og at det er alvorligt, siger han.    Ifølge professoren er der ingen tvivl om, at der er tale om en global trussel mod folkesundheden \n",
      "\n",
      "\n"
     ]
    }
   ],
   "source": [
    "steering_vector_path = \"steering_vectors/initial_test_run/combined_steering_vector_layer_14_tensor.pt\"\n",
    "steering.run(steering_vector_path, \"en\", 14)"
   ]
  },
  {
   "cell_type": "code",
   "execution_count": null,
   "metadata": {},
   "outputs": [],
   "source": []
  }
 ],
 "metadata": {
  "kernelspec": {
   "display_name": "mechinterp",
   "language": "python",
   "name": "python3"
  },
  "language_info": {
   "codemirror_mode": {
    "name": "ipython",
    "version": 3
   },
   "file_extension": ".py",
   "mimetype": "text/x-python",
   "name": "python",
   "nbconvert_exporter": "python",
   "pygments_lexer": "ipython3",
   "version": "3.12.3"
  }
 },
 "nbformat": 4,
 "nbformat_minor": 2
}
