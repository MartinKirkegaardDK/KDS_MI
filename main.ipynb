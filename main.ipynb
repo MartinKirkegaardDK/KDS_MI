{
 "cells": [
  {
   "cell_type": "code",
   "execution_count": null,
   "metadata": {},
   "outputs": [],
   "source": [
    "import os\n",
    "\n",
    "try:\n",
    "    has_changed_dir\n",
    "except:\n",
    "    has_changed_dir = False\n",
    "\n",
    "try:\n",
    "    import google.colab\n",
    "    IN_COLAB = True\n",
    "    print(\"Running as a Colab notebook\")\n",
    "except:\n",
    "    IN_COLAB = False\n",
    "\n",
    "if IN_COLAB:\n",
    "    %pip install datasets\n",
    "    %pip install translate-toolkit\n",
    "    #%pip install bitsandbytes\n",
    "\n",
    "    !git clone https://github.com/MartinKirkegaardDK/KDS_MI.git\n",
    "\n",
    "    if not has_changed_dir:\n",
    "        os.chdir('KDS_MI')\n",
    "        has_changed_dir = True\n",
    "else:\n",
    "    if not has_changed_dir:\n",
    "        os.chdir('.')\n",
    "        has_changed_dir = True"
   ]
  },
  {
   "cell_type": "code",
   "execution_count": 6,
   "metadata": {},
   "outputs": [],
   "source": [
    "%load_ext autoreload\n",
    "%autoreload 2"
   ]
  },
  {
   "cell_type": "code",
   "execution_count": 7,
   "metadata": {},
   "outputs": [],
   "source": [
    "from drivers import preprocessing,probe_confidence_intervals, steering, create_steering_vectors, steering_loss, distance_plots, create_average_activation_vectors\n"
   ]
  },
  {
   "cell_type": "markdown",
   "metadata": {},
   "source": [
    "## preprocessing"
   ]
  },
  {
   "cell_type": "code",
   "execution_count": null,
   "metadata": {},
   "outputs": [],
   "source": [
    "preprocessing.run()"
   ]
  },
  {
   "cell_type": "markdown",
   "metadata": {},
   "source": [
    "## probe_confidence_intervals"
   ]
  },
  {
   "cell_type": "code",
   "execution_count": null,
   "metadata": {},
   "outputs": [],
   "source": [
    "probe_confidence_intervals.run()"
   ]
  },
  {
   "cell_type": "markdown",
   "metadata": {},
   "source": [
    "## plots the distance plots"
   ]
  },
  {
   "cell_type": "code",
   "execution_count": null,
   "metadata": {},
   "outputs": [],
   "source": [
    "#AI-Sweden-Models/gpt-sw3-356m\n",
    "distance_plots.run(\"da\",\"average_activation_vectors/gpt_sw3_356m/\",\"euclidean\")"
   ]
  },
  {
   "cell_type": "markdown",
   "metadata": {},
   "source": [
    "## Create average activation vectors\n",
    "these are the \"base\" steering vectors e.i. the average activations for different layers and languages.\n",
    "This function generates them and the next block then splits them up for the analysis section"
   ]
  },
  {
   "cell_type": "code",
   "execution_count": 8,
   "metadata": {},
   "outputs": [
    {
     "name": "stdout",
     "output_type": "stream",
     "text": [
      "found device: cpu\n",
      "Load data\n"
     ]
    },
    {
     "name": "stderr",
     "output_type": "stream",
     "text": [
      "  0%|          | 0/19 [00:00<?, ?it/s]Asking to truncate to max_length but no maximum length is provided and the model has no predefined maximum length. Default to no truncation.\n",
      " 32%|███▏      | 6/19 [00:40<01:27,  6.75s/it]\n",
      " 23%|██▎       | 6/26 [00:56<03:09,  9.46s/it]\n",
      " 23%|██▎       | 6/26 [00:46<02:35,  7.79s/it]\n",
      " 20%|██        | 6/30 [00:27<01:49,  4.57s/it]\n",
      " 20%|██        | 6/30 [00:41<02:44,  6.85s/it]\n"
     ]
    }
   ],
   "source": [
    "create_average_activation_vectors.run([\"nb\",\"is\",\"da\",\"en\",\"sv\"],\"AI-Sweden-Models/gpt-sw3-356m\",\"test_test\")"
   ]
  },
  {
   "cell_type": "markdown",
   "metadata": {},
   "source": [
    "## Create steering vector\n",
    "these are the steering vectors towards a specific language. This is different that"
   ]
  },
  {
   "cell_type": "code",
   "execution_count": null,
   "metadata": {},
   "outputs": [
    {
     "name": "stdout",
     "output_type": "stream",
     "text": [
      "Load model\n",
      "found device: cpu\n",
      "Load data\n"
     ]
    },
    {
     "name": "stderr",
     "output_type": "stream",
     "text": [
      "/Users/marki/Documents/GitHub/KDS_MI/utils/distance_plots.py:15: FutureWarning: You are using `torch.load` with `weights_only=False` (the current default value), which uses the default pickle module implicitly. It is possible to construct malicious pickle data which will execute arbitrary code during unpickling (See https://github.com/pytorch/pytorch/blob/main/SECURITY.md#untrusted-models for more details). In a future release, the default value for `weights_only` will be flipped to `True`. This limits the functions that could be executed during unpickling. Arbitrary objects will no longer be allowed to be loaded via this mode unless they are explicitly allowlisted by the user via `torch.serialization.add_safe_globals`. We recommend you start setting `weights_only=True` for any use case where you don't have full control of the loaded file. Please open an issue on GitHub for any issues related to this experimental feature.\n",
      "  steering_vector = torch.load(str(path + file))\n"
     ]
    }
   ],
   "source": [
    "#AI-Sweden-Models/gpt-sw3-356m\n",
    "create_steering_vectors.run(\n",
    "    model_name=\"AI-Sweden-Models/gpt-sw3-356m\",\n",
    "    target_language=\"nb\", \n",
    "    complement_languages=[\"is\",\"da\",\"en\",\"sv\"], \n",
    "    run_name=\"test_test\"\n",
    ")"
   ]
  },
  {
   "cell_type": "markdown",
   "metadata": {},
   "source": [
    "## Test steering vectors"
   ]
  },
  {
   "cell_type": "code",
   "execution_count": null,
   "metadata": {},
   "outputs": [],
   "source": [
    "steering_vector_path = \"steering_vectors/DA_PYTHIA/combined_steering_vector_layer_4_tensor.pt\"\n",
    "model_name = 'EleutherAI/pythia-14m'\n",
    "\n",
    "steering.run(\n",
    "    steering_vector_path=steering_vector_path,\n",
    "    steering_lambda=5,\n",
    "    affected_language=\"en\",\n",
    "    layer=4,\n",
    "    model_name=model_name,\n",
    "    data_folder='data/preprocessed/train'\n",
    ")"
   ]
  },
  {
   "cell_type": "markdown",
   "metadata": {},
   "source": [
    "## Measure steering vector loss impact"
   ]
  },
  {
   "cell_type": "code",
   "execution_count": null,
   "metadata": {},
   "outputs": [],
   "source": [
    "steering_vector_folder = 'steering_vectors/DA_PYTHIA'\n",
    "\n",
    "steering_loss.run(\n",
    "    steering_vector_folder=steering_vector_folder,\n",
    "    model_name='EleutherAI/pythia-14m',\n",
    "    steering_lambda=5\n",
    ")"
   ]
  },
  {
   "cell_type": "markdown",
   "metadata": {},
   "source": [
    "## Plot steering vector PCAs"
   ]
  },
  {
   "cell_type": "code",
   "execution_count": null,
   "metadata": {},
   "outputs": [],
   "source": []
  }
 ],
 "metadata": {
  "kernelspec": {
   "display_name": "Python 3",
   "language": "python",
   "name": "python3"
  },
  "language_info": {
   "codemirror_mode": {
    "name": "ipython",
    "version": 3
   },
   "file_extension": ".py",
   "mimetype": "text/x-python",
   "name": "python",
   "nbconvert_exporter": "python",
   "pygments_lexer": "ipython3",
   "version": "3.12.3"
  }
 },
 "nbformat": 4,
 "nbformat_minor": 2
}
