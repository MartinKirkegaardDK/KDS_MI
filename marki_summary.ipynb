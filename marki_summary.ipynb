{
 "cells": [
  {
   "cell_type": "code",
   "execution_count": 1,
   "id": "c4776c66",
   "metadata": {},
   "outputs": [],
   "source": [
    "from refactor.probes import model_setup\n",
    "import pandas as pd\n",
    "\n",
    "splits = {'train': 'data/train-00000-of-00001-4fb110c0f6314175.parquet', 'val': 'data/val-00000-of-00001-da38a96348bd1590.parquet', 'test': 'data/test-00000-of-00001-fe5a9a4940bb3673.parquet'}\n",
    "df = pd.read_parquet(\"hf://datasets/alexandrainst/nordjylland-news-summarization/\" + splits[\"train\"])"
   ]
  },
  {
   "cell_type": "code",
   "execution_count": 16,
   "id": "ef7688fd",
   "metadata": {},
   "outputs": [],
   "source": [
    "prompt = \"Følgende er dokumenter med tilhørende resuméer.\"\n",
    "\n",
    "for text, summ in zip(df.text.iloc[0:3], df.summary.iloc[0:3]):\n",
    "    prompt+= f\" Dokument: {text}\\nResumé: {summ}\"\n",
    "doc = df.text.iloc[5]\n",
    "prompt += f\"Dokument: {doc}\\n\\nResumé:\""
   ]
  },
  {
   "cell_type": "code",
   "execution_count": 3,
   "id": "866df730",
   "metadata": {},
   "outputs": [
    {
     "name": "stdout",
     "output_type": "stream",
     "text": [
      "found device: cpu\n"
     ]
    }
   ],
   "source": [
    "model_name = \"AI-Sweden-Models/gpt-sw3-356m\"\n",
    "model, tokenizer, device = model_setup(model_name)\n"
   ]
  },
  {
   "cell_type": "code",
   "execution_count": 14,
   "id": "08d4723f",
   "metadata": {},
   "outputs": [
    {
     "data": {
      "text/plain": [
       "'lsen og drøfter mulige løsninger på det, siger Ole Ørnbøl.\\n\\nSkriv et resumé af ovenstående dokument.'"
      ]
     },
     "execution_count": 14,
     "metadata": {},
     "output_type": "execute_result"
    }
   ],
   "source": [
    "prompt[-100:]"
   ]
  },
  {
   "cell_type": "code",
   "execution_count": null,
   "id": "1e43fc51",
   "metadata": {},
   "outputs": [],
   "source": []
  },
  {
   "cell_type": "code",
   "execution_count": null,
   "id": "9acc07b5",
   "metadata": {},
   "outputs": [],
   "source": []
  },
  {
   "cell_type": "code",
   "execution_count": 18,
   "id": "5e120e0b",
   "metadata": {},
   "outputs": [],
   "source": [
    "input_ids = tokenizer(prompt, return_tensors=\"pt\")[\"input_ids\"].to(device)\n",
    "generated_token_ids = model.generate(inputs=input_ids, max_new_tokens=120, do_sample=True)[0]\n",
    "summary = tokenizer.decode(generated_token_ids)\n"
   ]
  },
  {
   "cell_type": "code",
   "execution_count": 19,
   "id": "1665cfec",
   "metadata": {},
   "outputs": [
    {
     "data": {
      "text/plain": [
       "'esumé: - De har fået lavet en lokalplan med en stor mængde boliger. Det vil på sigt medføre mere trafik og flere parkeringspladser, siger Jette Thøgersen, som er en af dem, der har skrevet under på lokalplanen for Bilka-centret. Nu håber hun dog på, at lokalplanen for Bilka-centret kan blive ved magten i Hjørring Byråd, selv om de har lavet indsigelse. Jette Thøgersen. Foto: TV2 Nord. Lokaler, som det er aftalt en dagligvarebutik at få 50 parkeringspladser til. Det vil få flere bil'"
      ]
     },
     "execution_count": 19,
     "metadata": {},
     "output_type": "execute_result"
    }
   ],
   "source": [
    "summary[len(prompt)-10:]"
   ]
  },
  {
   "cell_type": "code",
   "execution_count": 21,
   "id": "8125b748",
   "metadata": {},
   "outputs": [
    {
     "name": "stdout",
     "output_type": "stream",
     "text": [
      "Balladen om et Bilka i Hjørring i stedet for A-Z har raset i årevis. Hjørring Kommune har lavet en lokalplan, som vil placeret et bydelscenter med salg af fødevarer på Ringvejen i Hjørring. Den lokalplan har Naturstyrelsen nu gjort indsigelser imod. En rundspørge, som TV2/Nord har lavet, viser også, at en stribe handelsstandsforeninger i de større og mindre byer rundt om Hjørring vil gøre indsigelser imod Bilka-projektet. De frygter nemlig butiksdød. Medlem af SF fra Hjørring Byråd, Jørgen Bing, græder ikke over Naturstyrelsens indsigelse, der er sendt til Hjørring Kommune den 28. marts. - Vi er meget tilfredse med Naturstyrelsens indsigelse i SF. Vi mener stadig, at et Bilkacenter i Hjørring vil skade mange bymidter i området, siger Jørgen Bing til TV2/Nord. Ole Ørnbøl, der er formand for Teknik og Miljøudvalget i Hjørring Kommune ser ikke indsigelsen som et endegyldigt stop for planerne om et Bilka. - Det er ikke usædvanligt, at Naturstyrelsen kommer med en veto-indsigelse. Teknisk forvaltning går nu i dialog med Naturstyrelsen og drøfter mulige løsninger på det, siger Ole Ørnbøl.\n"
     ]
    }
   ],
   "source": [
    "print(doc)"
   ]
  },
  {
   "cell_type": "code",
   "execution_count": 8,
   "id": "5cd169a9",
   "metadata": {},
   "outputs": [
    {
     "data": {
      "text/plain": [
       "1185"
      ]
     },
     "execution_count": 8,
     "metadata": {},
     "output_type": "execute_result"
    }
   ],
   "source": [
    "len(summary.split(\" \"))"
   ]
  },
  {
   "cell_type": "code",
   "execution_count": 6,
   "id": "6c9c3284",
   "metadata": {},
   "outputs": [
    {
     "name": "stdout",
     "output_type": "stream",
     "text": [
      " Følgende er dokumenter med tilhørende resuméer. Dokument: Opdatering: Manden er nu fundet af Nordjyllands Politi Den 8. oktober kunne politiet oplyse i en pressemeddelelse, at mandenvar meldt savnet, og nye oplysninger i sagenfår nu endnu en gang politiet til at henvende sig til offentligheden. - Det viser sig nemlig, at eftersøgte tidligere har boet i en årrække i det område, hvor hans bil, en metalblå Skoda Fabia, blev fundet, fortæller leder af politiets efterforskning, politikommissær Mikkel Mitchell. Bilen blev fundet parkeret på Gammel Strandvej i Aalborg natten til fredag den9. oktober 2020, og eftersøgte har boet i området fra 2000-2013 – nærmere bestemt på Brohusgade, oplyser Politiet i en pressemeddelelse. - Derfor kan vi ikke udelukke, at han har taget ophold i det område. Og vi opfordrer beboere i området omkring Brohusgade til at kigge en ekstra gang i deres skure, kælderum og lignende, siger politikommissær Mikkel Mitchell, der oplyser, at politiets efterforskning i sagen fortsætter, og at man blandt andet leder i området, ligesom man har dykkere i vandet. Sagen opsummeret Manden blev sidst set ved forældrenes bopæl i Gistrup. Denne forlod han torsdag nat mellem 01.00 og 09.00 i nedtryktsindstilstand. Han kørte derfra i en metalblå Skoda Fabia, som natten til fredag blev fundet parkeret på Gammel Strandvej. Da bilen holdt parkeret tæt ved Aalborg havnefront, valgte Nordjyllands Beredskab at sætte en dykkeraktion i gang for at lede efter den forsvundne mand, dog uden held. Politiet vi gerne i kontakt med vidner og personer, der har set Jesper efter han forsvandt, samt personer der kunne have oplysninger om Jespers nuværende opholdssted. De opfordrer derfor fortsat borgere til at rette henvendelse på telefon 1-1-4 ved yderligere informationer i sagen.\n",
      "Resumé: Nye oplysninger i sagen om en forsvunden mand har endnu en gang fået politiet til at henvende sig til borgerne. Dokument: Regeringen præsenterede mandag deres udspil til de kommende finanslovsforhandlinger. Finansloven faststætter, hvordan statens penge skal bruges i 2021. I det udspil står der, at den faste anlægsbevilling, der har sendt millioner af kroner til koldkrigs museet Regan Vest, ikke fortsætter i 2020. Det har fået skarpe bemærkninger fra flere nordjyske folketingspolitikere. En af dem er Lise Bech fra Dansk Folkeparti. - Vi kan simpelthen ikke være bekendt, at der skal såes tvivl om Regan Vests fremtid. Det er så vigtig en del af vores kulturhistorie, siger hun til TV2 Nord. Hun lagde dette billede på sin Facebook i mandag aften. Men ifølge TV2 Nords oplysninger fra kulturministeriet, er fremtiden for Regan Vest ikke usikker. Og det bekræfter TV2 Nords politiske analytiker, Søren Wormslev. - Jeg forstår godt, at nogen undrer sig, for det er lidt specielt. Men grundlæggende skal det forståes, som at bevillingen tidligere var en fast del af finansloven, mens det nu bliver en del af en pulje af penge, som der skal søges om, siger han. Læs mere om Regan Vest her. Kulturministeriet: Vi vil prioritere bevillinger til Regan Vest Venstrepolitikeren Preben Bang Henriksen er en anden folketingspolitiker, der i dag blev fortørnet over at se den faste bevilling til Regan Vest blive afbrudt. - Nu har jeg selv besøgt stedet, og jeg er overbevist om, at Regan Vest har potentiale til at blive måske en af Danmarks 10 mest besøgte attraktioner. Så det er ærgeligt, at der ikke er en fast bevilling, men at stedet nu skal søge en pulje penge. Det betyder jo, at de er i konkurrence med andre attraktioner, og det er Regan Vest simpelthen for vigtig til, siger Preben Bang Henriksen. I en pressemeddelelse Kulturministeriet udsendte mandag står der: - Regeringen ønsker endvidere at prioritere en videreførelse af udvalgte bevillinger til en række kulturinstitutioner, herunder Arbejdermuseet, Det Jødiske Museum, Regan Vest, Den Gamle By, Fregatten Jylland og Danmarks Underholdningsorkester. Nordjysk opposition vil kæmpe for bevilling Men det er ikke godt nok for Lise Bech fra Dansk Folkeparti. - Det skal jo skrives ind i selve finansloven, så der ikke er usikkerhed om, at der selvfølgelig er støtte fra staten til driften af museet, siger hun og fortsætter: - Jeg synes, Regan Vest fortjener en permanent bevilling, så museet ikke behøver at bide negle, hver gang de skal søge om penge fra en pulje. Også Preben Bang Henriksen vil gøre, hvad han kan, for at sikre fremtiden for Regan Vest. - Jeg kan garantere, at jeg er 100 procent engageret i kampen for Regan Vest. Det bliver i den grad en turistmagnet, så derfor kan vi ikke holde til, at der er usikkerhed om situationen.\n",
      "Resumé: Regan Vest er ikke en fast del af finansloven i regeringes nuværende udspil. Som det ser ud nu, skal museet i stedet søge om en pulje blandt flere andre attraktioner. Dokument: Sådan er opfattelsen hos Nordjyllands Politi torsdag eftermiddag, efter at manden er blevet undersøgt af retsmedicinere. ”Når vi sammenholder retsmedicinernes oplysninger med informationer indhentet under vores intense efterforskning, så tyder meget på, at der ikke er begået nogen forbrydelse,” siger lederen af politiets efterforskning, vicepolitiinspektør Frank Olsen, der uddyber, at politiet opfatter dødsfaldet som en tragisk ulykke. Vicepolitiinspektøren tilføjer dog, at politiet på nuværende tidspunkt ikke kan fastslå den præcise dødsårsag med sikkerhed. Den afdøde person har pådraget sig nogle ydre skader, der er forenelige med det arbejde, som bliver udført på stedet. ”Vi afventer den endelige rapport fra retsmedicinerne, før vi kan fastslå den endelig dødsårsag, ligesom vi heller ikke endnu har belyst alle detaljer af hans færden,” siger Frank Olsen. Og derfor fortsætter Nordjyllands Politi sin efterforskning i sagen, hvilket blandt andet indebærer tekniske undersøgelser og yderligere efterforskningsskridt. Frank Olsen opfordrer til, at borgere, som måtte have relevante oplysninger i sagen, for eksempel hvis de været i kontakt med ham, om at rette henvendelse til politiet på 114.\n",
      "Resumé: Meget tyder på, at den 39-årige mand, der onsdag blev fundet død i en affaldssortering i Nørresundby, ikke er blevet udsat for en forbrydelse.Dokument: Balladen om et Bilka i Hjørring i stedet for A-Z har raset i årevis. Hjørring Kommune har lavet en lokalplan, som vil placeret et bydelscenter med salg af fødevarer på Ringvejen i Hjørring. Den lokalplan har Naturstyrelsen nu gjort indsigelser imod. En rundspørge, som TV2/Nord har lavet, viser også, at en stribe handelsstandsforeninger i de større og mindre byer rundt om Hjørring vil gøre indsigelser imod Bilka-projektet. De frygter nemlig butiksdød. Medlem af SF fra Hjørring Byråd, Jørgen Bing, græder ikke over Naturstyrelsens indsigelse, der er sendt til Hjørring Kommune den 28. marts. - Vi er meget tilfredse med Naturstyrelsens indsigelse i SF. Vi mener stadig, at et Bilkacenter i Hjørring vil skade mange bymidter i området, siger Jørgen Bing til TV2/Nord. Ole Ørnbøl, der er formand for Teknik og Miljøudvalget i Hjørring Kommune ser ikke indsigelsen som et endegyldigt stop for planerne om et Bilka. - Det er ikke usædvanligt, at Naturstyrelsen kommer med en veto-indsigelse. Teknisk forvaltning går nu i dialog med Naturstyrelsen og drøfter mulige løsninger på det, siger Ole Ørnbøl.\n",
      "\n",
      "Skriv et resumé af ovenstående dokument. Bemærk, at det er vigtigt, at du skriver dit resumé så tydeligt som muligt. Vær venligst så oplysende som muligt. Hvis der er andre oplysninger i forbindelse med sagen, bedes du venligst oplyse navn, telefonnumre og mailadresse.<|endoftext|>\n"
     ]
    }
   ],
   "source": [
    "print(summary)"
   ]
  },
  {
   "cell_type": "code",
   "execution_count": 22,
   "id": "3e08c718",
   "metadata": {},
   "outputs": [
    {
     "name": "stderr",
     "output_type": "stream",
     "text": [
      "Using the latest cached version of the module from /Users/marki/.cache/huggingface/modules/evaluate_modules/metrics/evaluate-metric--bertscore/cf4907b18f8f741f202232c0f8009a3bd49ff98802c245abcb6ea51a37a8c05b (last modified on Wed Nov 13 12:39:33 2024) since it couldn't be found locally at evaluate-metric--bertscore, or remotely on the Hugging Face Hub.\n"
     ]
    },
    {
     "name": "stdout",
     "output_type": "stream",
     "text": [
      "{'precision': [0.8027646541595459], 'recall': [0.8139000535011292], 'f1': [0.8082940578460693], 'hashcode': 'distilbert-base-uncased_L5_no-idf_version=0.3.12(hug_trans=4.51.3)'}\n"
     ]
    }
   ],
   "source": [
    "from evaluate import load\n",
    "bertscore = load(\"bertscore\")\n",
    "predictions = [summary]\n",
    "references = [doc]\n",
    "results = bertscore.compute(predictions=predictions, references=references, model_type=\"distilbert-base-uncased\")\n",
    "print(results)\n"
   ]
  },
  {
   "cell_type": "code",
   "execution_count": null,
   "id": "64a0c8dd",
   "metadata": {},
   "outputs": [],
   "source": []
  }
 ],
 "metadata": {
  "kernelspec": {
   "display_name": "Python 3",
   "language": "python",
   "name": "python3"
  },
  "language_info": {
   "codemirror_mode": {
    "name": "ipython",
    "version": 3
   },
   "file_extension": ".py",
   "mimetype": "text/x-python",
   "name": "python",
   "nbconvert_exporter": "python",
   "pygments_lexer": "ipython3",
   "version": "3.12.3"
  }
 },
 "nbformat": 4,
 "nbformat_minor": 5
}
