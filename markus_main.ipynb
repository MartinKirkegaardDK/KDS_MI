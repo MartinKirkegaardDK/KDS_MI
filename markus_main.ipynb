{
 "cells": [
  {
   "cell_type": "code",
   "execution_count": null,
   "id": "64edbeb2",
   "metadata": {},
   "outputs": [],
   "source": []
  },
  {
   "cell_type": "code",
   "execution_count": null,
   "id": "59393ade",
   "metadata": {},
   "outputs": [],
   "source": [
    "import os\n",
    "\n",
    "try:\n",
    "    has_changed_dir\n",
    "except:\n",
    "    has_changed_dir = False\n",
    "\n",
    "try:\n",
    "    import google.colab\n",
    "    IN_COLAB = True\n",
    "    print(\"Running as a Colab notebook\")\n",
    "except:\n",
    "    IN_COLAB = False\n",
    "\n",
    "if IN_COLAB:\n",
    "    %pip install datasets\n",
    "    %pip install translate-toolkit\n",
    "    #%pip install bitsandbytes\n",
    "\n",
    "    !git clone https://github.com/MartinKirkegaardDK/KDS_MI.git\n",
    "\n",
    "    if not has_changed_dir:\n",
    "        os.chdir('KDS-MI-temp')\n",
    "        has_changed_dir = True\n",
    "else:\n",
    "    if not has_changed_dir:\n",
    "        os.chdir('.')\n",
    "        has_changed_dir = True"
   ]
  },
  {
   "cell_type": "code",
   "execution_count": null,
   "id": "ea2764e9",
   "metadata": {},
   "outputs": [],
   "source": [
    "%load_ext autoreload\n",
    "%autoreload 2"
   ]
  },
  {
   "cell_type": "code",
   "execution_count": null,
   "id": "8be7d332",
   "metadata": {},
   "outputs": [],
   "source": [
    "import torch\n",
    "from transformers import AutoModelForCausalLM, AutoTokenizer"
   ]
  },
  {
   "cell_type": "code",
   "execution_count": null,
   "id": "a014de11",
   "metadata": {},
   "outputs": [],
   "source": [
    "from markus import make_steering_vectors, PCA, plot_probes, steering_loss\n",
    "from markus.utils.data import load_bible_data"
   ]
  },
  {
   "cell_type": "code",
   "execution_count": null,
   "id": "8be32374",
   "metadata": {},
   "outputs": [],
   "source": [
    "PCA.main(\n",
    "    model_url=model_url,\n",
    "    device=device\n",
    ")"
   ]
  },
  {
   "cell_type": "code",
   "execution_count": null,
   "id": "53d0ffba",
   "metadata": {},
   "outputs": [],
   "source": [
    "plot_probes.make_big_plot()"
   ]
  },
  {
   "cell_type": "code",
   "execution_count": null,
   "id": "701a8ec9",
   "metadata": {},
   "outputs": [],
   "source": [
    "make_steering_vectors.main(\n",
    "    model_url=model_url,\n",
    "    target_language='da',\n",
    "    complement_languages=['en', 'sv', 'is', 'nb'],\n",
    "    device=device,\n",
    "    out_folder='steering_vectors'\n",
    ")"
   ]
  },
  {
   "cell_type": "code",
   "execution_count": null,
   "id": "d2f9b83b",
   "metadata": {},
   "outputs": [],
   "source": [
    "model_url = 'EleutherAI/pythia-14m'\n",
    "device = 'cpu'\n",
    "\n",
    "model_url = 'AI-Sweden-Models/gpt-sw3-356m'\n",
    "device = 'cuda'\n",
    "\n",
    "model = AutoModelForCausalLM.from_pretrained(model_url).to(device)\n",
    "tokenizer = AutoTokenizer.from_pretrained(model_url)"
   ]
  },
  {
   "cell_type": "code",
   "execution_count": null,
   "id": "c74a9648",
   "metadata": {},
   "outputs": [],
   "source": [
    "ds = load_bible_data()\n",
    "\n",
    "steering_loss.first_fig(\n",
    "    model=model,\n",
    "    tokenizer=tokenizer,\n",
    "    ds\n",
    ")"
   ]
  },
  {
   "cell_type": "code",
   "execution_count": null,
   "id": "69e101df",
   "metadata": {},
   "outputs": [],
   "source": [
    "steering_loss.plot_steering_vector_scores(\n",
    "    model=model,\n",
    "    tokenizer=tokenizer,\n",
    "    ds=ds,\n",
    "    steering_lambdas=[1,3,5,10,20],\n",
    "    lan1='en',\n",
    "    lan2='da',\n",
    "    amount_datapoints=25,\n",
    "    layers=None,\n",
    "    hook_addresses=None,\n",
    "    out_file=None\n",
    ")"
   ]
  }
 ],
 "metadata": {
  "kernelspec": {
   "display_name": "mechinterp",
   "language": "python",
   "name": "python3"
  },
  "language_info": {
   "name": "python",
   "version": "3.12.10"
  }
 },
 "nbformat": 4,
 "nbformat_minor": 5
}
