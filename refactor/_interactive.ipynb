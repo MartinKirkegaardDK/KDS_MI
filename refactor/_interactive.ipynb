{
 "cells": [
  {
   "cell_type": "code",
   "execution_count": 1,
   "id": "e7cade80",
   "metadata": {},
   "outputs": [],
   "source": [
    "import os\n",
    "\n",
    "try:\n",
    "    has_changed_dir\n",
    "except:\n",
    "    has_changed_dir = False\n",
    "\n",
    "try:\n",
    "    import google.colab\n",
    "    IN_COLAB = True\n",
    "    print(\"Running as a Colab notebook\")\n",
    "except:\n",
    "    IN_COLAB = False\n",
    "\n",
    "if IN_COLAB:\n",
    "    %pip install datasets\n",
    "    %pip install translate-toolkit\n",
    "    #%pip install bitsandbytes\n",
    "\n",
    "    !git clone https://github.com/MartinKirkegaardDK/KDS_MI.git\n",
    "\n",
    "    if not has_changed_dir:\n",
    "        os.chdir('KDS_MI/refactor')\n",
    "        has_changed_dir = True\n",
    "else:\n",
    "    if not has_changed_dir:\n",
    "        os.chdir('.')\n",
    "        has_changed_dir = True"
   ]
  },
  {
   "cell_type": "code",
   "execution_count": 2,
   "id": "cf06f7df",
   "metadata": {},
   "outputs": [],
   "source": [
    "%load_ext autoreload\n",
    "%autoreload 2"
   ]
  },
  {
   "cell_type": "code",
   "execution_count": 5,
   "id": "bd6f4e54",
   "metadata": {},
   "outputs": [],
   "source": [
    "from make_steering_vectors import main"
   ]
  },
  {
   "cell_type": "code",
   "execution_count": 7,
   "id": "95b733f2",
   "metadata": {},
   "outputs": [
    {
     "name": "stderr",
     "output_type": "stream",
     "text": [
      "  0%|          | 0/26 [00:00<?, ?it/s]Asking to truncate to max_length but no maximum length is provided and the model has no predefined maximum length. Default to no truncation.\n",
      " 23%|██▎       | 6/26 [00:19<01:03,  3.19s/it]\n",
      " 20%|██        | 6/30 [00:05<00:23,  1.03it/s]\n",
      " 23%|██▎       | 6/26 [00:19<01:04,  3.21s/it]\n",
      " 20%|██        | 6/30 [00:14<00:56,  2.37s/it]\n",
      " 32%|███▏      | 6/19 [00:12<00:26,  2.03s/it]\n"
     ]
    }
   ],
   "source": [
    "main(\n",
    "    model_url='EleutherAI/pythia-14m',\n",
    "    target_language='da',\n",
    "    complement_languages=['en', 'sv', 'is', 'nb'],\n",
    "    device='cpu',\n",
    "    out_folder='steering_vectors'\n",
    ")"
   ]
  },
  {
   "cell_type": "code",
   "execution_count": 8,
   "id": "32ea8e31",
   "metadata": {},
   "outputs": [],
   "source": [
    "from utils.hooking import HookManager\n",
    "from utils.compatibility import *\n",
    "from utils.data import load_steering_vector\n",
    "\n",
    "from transformers import AutoModelForCausalLM, AutoTokenizer"
   ]
  },
  {
   "cell_type": "code",
   "execution_count": null,
   "id": "c5a3e42c",
   "metadata": {},
   "outputs": [],
   "source": [
    "model_url='EleutherAI/pythia-14m'\n",
    "device = 'cpu'\n",
    "\n",
    "model = AutoModelForCausalLM.from_pretrained(model_url).to(device)\n",
    "tokenizer = AutoTokenizer.from_pretrained(model_url)"
   ]
  },
  {
   "cell_type": "code",
   "execution_count": 29,
   "id": "78bab7e4",
   "metadata": {},
   "outputs": [
    {
     "name": "stderr",
     "output_type": "stream",
     "text": [
      "The attention mask and the pad token id were not set. As a consequence, you may observe unexpected behavior. Please pass your input's `attention_mask` to obtain reliable results.\n",
      "Setting `pad_token_id` to `eos_token_id`:0 for open-end generation.\n"
     ]
    },
    {
     "name": "stdout",
     "output_type": "stream",
     "text": [
      "The bacterium that was isolated from Mohammed's bloodstream was connected with the production of a special soap, which was also not performed in the same manner as the other other other other other other other other other other other other other other other other other actors in the series.\n",
      "\n",
      "The host, which was not at all a very strong, and the test, and the testing was performed in the series, and was tested for the testing.\n",
      "\n",
      "The test set for an initial test, with the test\n"
     ]
    }
   ],
   "source": [
    "input_ = 'The bacterium that was isolated from Mohammed\\'s bloodstream was'\n",
    "\n",
    "address = HookAddress.attention_post.layer(3)\n",
    "\n",
    "steering_vector = load_steering_vector('da', address, model)\n",
    "\n",
    "with HookManager(model) as hook_manager:\n",
    "    hook_manager.steer(\n",
    "        hook_address=address,\n",
    "        steering_vector=steering_vector,\n",
    "        scalar=10\n",
    "    )\n",
    "\n",
    "    tokenized = tokenizer(input_, return_tensors='pt').to(Device.device(model))\n",
    "    undecoded_output = model.generate(\n",
    "                inputs=tokenized.input_ids, \n",
    "                max_length=100, \n",
    "                temperature=0.7, \n",
    "                top_p=0.9, \n",
    "                do_sample=True,\n",
    "\n",
    "            )\n",
    "\n",
    "print(tokenizer.decode(undecoded_output[0]))"
   ]
  },
  {
   "cell_type": "code",
   "execution_count": 12,
   "id": "1345ea2c",
   "metadata": {},
   "outputs": [],
   "source": [
    "steering_vector"
   ]
  }
 ],
 "metadata": {
  "kernelspec": {
   "display_name": "mechinterp",
   "language": "python",
   "name": "python3"
  },
  "language_info": {
   "codemirror_mode": {
    "name": "ipython",
    "version": 3
   },
   "file_extension": ".py",
   "mimetype": "text/x-python",
   "name": "python",
   "nbconvert_exporter": "python",
   "pygments_lexer": "ipython3",
   "version": "3.12.10"
  }
 },
 "nbformat": 4,
 "nbformat_minor": 5
}
